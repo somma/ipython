{
 "metadata": {
  "name": "",
  "signature": "sha256:bd065ce3052c5404e49f1e391529a4b5b04bdefd7e416389535d7496db11bbcf"
 },
 "nbformat": 3,
 "nbformat_minor": 0,
 "worksheets": [
  {
   "cells": [
    {
     "cell_type": "markdown",
     "metadata": {},
     "source": [
      "# ref\n",
      "---\n",
      "- [Python Coroutines, Present and Future](http://www.slideshare.net/emptysquare/nyc-python-meetup-coroutines-2013-0416)\n",
      "- [Python\uc5d0\uc11c\uc758 \ub3d9\uc2dc\uc131/\ubcd1\ub82c\uc131 Deview2014](http://deview.kr/2014/session?seq=47)\n",
      "-  Concurrency is when code can run independently of other code. Parallelism is the execution of concurrent code simultaneously\n",
      "# code, projects\n",
      "- [Synchronization primitives for Tornado coroutines](https://github.com/ajdavis/toro)\n"
     ]
    }
   ],
   "metadata": {}
  }
 ]
}