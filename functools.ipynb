{
 "metadata": {
  "name": "",
  "signature": "sha256:196d180a4f82540efdcbc35ee44d1add18972455b72d9554b9221b26298c5352"
 },
 "nbformat": 3,
 "nbformat_minor": 0,
 "worksheets": [
  {
   "cells": [
    {
     "cell_type": "markdown",
     "metadata": {},
     "source": [
      "# functools - Tools for manipulatingfunctions\n",
      "\n",
      "## references\n",
      "- https://docs.python.org/2/library/functools.html\n",
      "- http://pymotw.com/2/functools/\n",
      "- http://www.pydanny.com/python-partials-are-fun.html\n",
      "\n",
      "standard library since 2.5\n",
      "The functools module provides tools for working with functions and other callable objects, to adapt or extend them for new purposes without completely rewriting them."
     ]
    },
    {
     "cell_type": "code",
     "collapsed": false,
     "input": [
      "\n"
     ],
     "language": "python",
     "metadata": {},
     "outputs": []
    }
   ],
   "metadata": {}
  }
 ]
}