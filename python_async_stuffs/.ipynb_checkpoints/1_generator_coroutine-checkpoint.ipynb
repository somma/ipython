{
 "metadata": {
  "name": "",
  "signature": "sha256:1cc3e3de362513af26e6f30a6ea0811c1ec6d15b794c049ad4a6eb5cbf165571"
 },
 "nbformat": 3,
 "nbformat_minor": 0,
 "worksheets": [
  {
   "cells": [
    {
     "cell_type": "markdown",
     "metadata": {},
     "source": [
      "#1. Yield expressions\n",
      "- from [python reference](https://docs.python.org/2/reference/expressions.html#yield-expressions)\n",
      "- see also [PEP 0342 - Coroutines via Enhanced Generators](https://www.python.org/dev/peps/pep-0342/)"
     ]
    },
    {
     "cell_type": "markdown",
     "metadata": {},
     "source": [
      "**yield** \ud45c\ud604\uc2dd\uc740 generator function \uc744 \uc815\uc758\ud560\uc5d0\ub9cc \uc0ac\uc6a9\ub418\uace0, \ud568\uc218\uc758 body \uc5d0\uc11c\ub9cc \uc0ac\uc6a9 \uac00\ub2a5\ud558\ub2e4. yield \ud45c\ud604\uc2dd\uc744 \uc0ac\uc6a9\ud558\uae30\ub9cc \ud558\uba74 \uc77c\ubc18 \ud568\uc218\uac00 \uc544\ub2cc  generator function \uc774 \ub41c\ub2e4. \n",
      "\n",
      "*generator function \uc774 \ud638\ucd9c\ub418\uba74, **generator** \ub77c\uace0 \ud558\ub294 iterator \ub97c \ub9ac\ud134\ud55c\ub2e4.* \n",
      "\n",
      "\uc774 generator \ub97c \uc774\uc6a9\ud574\uc11c generator function \uc758 \uc2e4\ud589\uc744 \uc81c\uc5b4\ud560 \uc218 \uc788\ub2e4. generator \uc758 \uba54\uc18c\ub4dc\ub4e4 \uc911 \ud558\ub098\uac00 \ud638\ucd9c\ub418\uba74 \uc2e4\ud589\uc774 \uc2dc\uc791\ub418\uace0, \uccab\ubc88\uc9f8 **yield** \ud45c\ud604\uc2dd\uc774 \uc2e4\ud589\ub418\uba74 \uc2e4\ud589\uc774 \uc5f0\uae30\ub418\uace0, expression_list \ub97c generator \uc758 \ud638\ucd9c\uc790\uc5d0\uac8c \ub9ac\ud134\ud55c\ub2e4. **\uc2e4\ud589\uc774 \uc5f0\uae30\ub418\ub294 \uac83**\uc740 \ubaa8\ub4e0 local state (\uc9c0\uc5ed\ubcc0\uc218, instruction pointer, internal evaluation stack \ub4f1) \ub4e4\uc774 \ubcf4\uad00\ub428\uc744 \uc758\ubbf8\ud55c\ub2e4. generator \uc758 \uba54\uc18c\ub4dc\ub4e4 \uc911 \ud558\ub098\uac00 \ud638\ucd9c\ub418\uba74, generator function \uc740 yield \ud45c\ud604\uc2dd\uc774 \ub2e4\ub978 \uc678\ubd80 \ud568\uc218\ub97c \ud638\ucd9c\ud55c\uac83\uacfc \uc644\uc804\ud788 \ub3d9\uc77c\ud558\uac8c \uc7ac\uac1c\ub41c\ub2e4. yield \ud45c\ud604\uc2dd\uc774 \uc7ac\uac1c\ub41c \uc774\ud6c4\uc758 value \ub294 \uc2e4\ud589\uc744 \uc7ac\uac1c\uc2dc\ud0a8 method \uc5d0 \uc758\uc874\uc801\uc774\ub2e4. \n",
      "\n",
      "\uc774 \ubaa8\ub4e0 \uac83\ub4e4\uc740 generator function \uc744 coroutine \uacfc \ub9e4\uc6b0 \ube44\uc2b7\ud558\uac8c \ub9cc\ub4e4\uc5b4\uc900\ub2e4; \uc5ec\ub7ec\ubc88 yield \ud558\uace0, \ud558\ub098\uc774\uc0c1\uc758 entry point \ub97c \uac00\uc9c0\uace0, \uc2e4\ud589\uc774 \uc5f0\uae30\ub420 \uc218 \uc788\ub2e4. \ub2e8 \ud558\ub098 \ub2e4\ub978\uc810\uc740 generator function \uc740 yield \uc774\ud6c4\uc5d0 \uc5b4\ub514\uc5d0\uc11c \uc2e4\ud589\uc744 \uacc4\uc18d \ud560\uc9c0\uc5d0 \ub300\ud574\uc11c \uc81c\uc5b4\ud560 \uc218 \uc5c6\ub2e4\ub294 \uac83\uc774\ub2e4; \uc81c\uc5b4\uad8c\uc740 \ud56d\uc0c1 generator \uc758 \ud638\ucd9c\uc790\uc5d0\uac8c \uc774\uad00\ub41c\ub2e4. \n",
      "\n",
      "> New in version 2.5.\n",
      ">\n",
      "The yield expression is only used when defining a generator function, and can only be used in the body of a function definition. Using a yield expression in a function definition is sufficient to cause that definition to create a generator function instead of a normal function.\n",
      ">\n",
      "When a generator function is called, it returns an iterator known as a generator. That generator then controls the execution of a generator function. The execution starts when one of the generator\u2019s methods is called. At that time, the execution proceeds to the first yield expression, where it is suspended again, returning the value of expression_list to generator\u2019s caller. By suspended we mean that all local state is retained, including the current bindings of local variables, the instruction pointer, and the internal evaluation stack. When the execution is resumed by calling one of the generator\u2019s methods, the function can proceed exactly as if the yield expression was just another external call. The value of the yield expression after resuming depends on the method which resumed the execution.\n",
      ">\n",
      "All of this makes generator functions quite similar to coroutines; they yield multiple times, they have more than one entry point and their execution can be suspended. The only difference is that a generator function cannot control where should the execution continue after it yields; the control is always transferred to the generator\u2019s caller."
     ]
    },
    {
     "cell_type": "markdown",
     "metadata": {},
     "source": [
      "## Generator-iterator methods"
     ]
    },
    {
     "cell_type": "markdown",
     "metadata": {},
     "source": [
      "### generator.next()\n",
      "\n",
      "    generator function \uc758 \uc2e4\ud589\uc744 \uc2dc\uc791\ud558\uac70\ub098, \ub9c8\uc9c0\ub9c9\uc73c\ub85c \uc2e4\ud589\ub41c yield \ud45c\ud604\uc2dd \ub2e4\uc74c\ubd80\ud130 \uc2e4\ud589\uc744 \uc7ac\uac1c\ud55c\ub2e4. `generator.next()` \uac00 \ud638\ucd9c\ub418\uc5b4 \uc2e4\ud589\uc774 \uc7ac\uac1c\ub418\uba74 \ud604\uc7ac\uc758 yield \ud45c\ud604\uc2dd\uc740 \ud56d\uc0c1 None \uc774 \ub41c\ub2e4. \ub2e4\uc74c yield \ud45c\ud604\uc2dd\uae4c\uc9c0 \uc2e4\ud589\ub418\uace0, **expression_list** \ub294 `next()` \uc758 \ud638\ucd9c\uc790\uc5d0\uac8c \ubc18\ud658\ub41c\ub2e4. \ub9cc\uc77c generator \uac00 \ub354 \uc774\uc0c1\uc758 yield \uc5c6\uc774 \uc885\ub8cc\ub418\uba74 *StopIteration* \uc608\uc678\uac00 \ubc1c\uc0dd\ud55c\ub2e4. \n",
      "\n",
      ">Starts the execution of a generator function or resumes it at the last executed yield expression. When a generator function is resumed with a next() method, the current yield expression always evaluates to None. The execution then continues to the next yield expression, where the generator is suspended again, and the value of the expression_list is returned to next()\u2018s caller. If the generator exits without yielding another value, a StopIteration exception is raised."
     ]
    },
    {
     "cell_type": "markdown",
     "metadata": {},
     "source": [
      "### generator.send(value)\n",
      "\n",
      "    \uc2e4\ud589\uc744 \uc7ac\uac1c\ud558\uace0, *value* \ub97c generator function \uc5d0\uac8c \uc804\ub2ec\ud55c\ub2e4. value \uc544\uaddc\uba3c\ud2b8\ub294 \ud604\uc7ac\uc758 yield expression \uc758 \uacb0\uacfc\uac12\uc774 \ub41c\ub2e4. `send()` \uba54\uc18c\ub4dc\ub294 generator \uc758 \ub2e4\uc74c yield \uc758 \uac12\uc744 \ub9ac\ud134\ud558\uac70\ub098, \ub2e4\uc74c yield \uac00 \uc5c6\ub294 \uacbd\uc6b0 *StopIteration* \uc608\uc678\ub97c \ubc1c\uc0dd\uc2dc\ud0a8\ub2e4. `send()` \uac00 generator \ub97c \uc2dc\uc791\uc2dc\ud0a4\uae30 \uc704\ud574\uc11c \uc0ac\uc6a9\ub41c\uacbd\uc6b0, generator \uc5d0\ub294 \uac12\uc744 \ubc1b\uc544\ub4e4\uc77c yield expression \uc774 \uc5c6\uc73c\ubbc0\ub85c \ubc18\ub4dc\uc2dc *None* \uc544\uaddc\uba3c\ud2b8\ub97c \uc0ac\uc6a9\ud574\uc57c \ud55c\ub2e4. \n",
      "    \n",
      ">Resumes the execution and \u201csends\u201d a value into the generator function. The value argument becomes the result of the current yield expression. The send() method returns the next value yielded by the generator, or raises StopIteration if the generator exits without yielding another value. When send() is called to start the generator, it must be called with None as the argument, because there is no yield expression that could receive the value        "
     ]
    },
    {
     "cell_type": "markdown",
     "metadata": {},
     "source": [
      "### generator.throw(type, [value, [, traceback]])\n",
      "\n",
      "    generator \uc758 \uc2e4\ud589\uc774 \uba48\ucd94\uc5b4\uc9c4 \uacf3\uc5d0 (generator function \uc758) *type* \uc758 \uc608\uc678\ub97c \ub358\uc9c0\uace0, generator function \uc5d0 \uc758\ud574\uc11c yield \ub41c \ub2e4\uc74c \uac12\uc744 \ub9ac\ud134\ud55c\ub2e4. \ub9cc\uc77c \ub2e4\ub978 \uac12\uc744 yield \ud558\uc9c0 \uc54a\uace0, \uc885\ub8cc\ub418\uba74 *StopIteration* \uc608\uc678\uac00 \ubc1c\uc0dd\ud55c\ub2e4. \ub9cc\uc77c generator function \uc774 passed-in \ub41c \uc608\uc678(`generator.throw()` \ub85c passwd-in \ub41c)\ub97c \ucc98\ub9ac\ud558\uc9c0 \uc54a\uac70\ub098 \ub2e4\ub978 \uc608\uc678\ub97c \ub358\uc9c0\ub294 \uacbd\uc6b0 \uc608\uc678\ub294 \ud638\ucd9c\uc790\uc5d0\uac8c\ub85c \uc804\ud30c\ub41c\ub2e4.\n",
      "    \n",
      ">Raises an exception of type type at the point where generator was paused, and returns the next value yielded by the generator function. If the generator exits without yielding another value, a StopIteration exception is raised. If the generator function does not catch the passed-in exception, or raises a different exception, then that exception propagates to the caller."
     ]
    },
    {
     "cell_type": "markdown",
     "metadata": {},
     "source": [
      "## generator.close()\n",
      "\n",
      "    generator function \uc758 \uc2e4\ud589\uc774 \uba48\ucd94\uc5b4\uc9c4 \uacf3\uc5d0 *GeneratorExit* \uc608\uc678\ub97c \ubc1c\uc0dd\uc2dc\ud0a8\ub2e4. generator function \uc740 *StopIteration* \uc608\uc678(\uc815\uc0c1\uc801\uc73c\ub85c \uc885\ub8cc\ub418\uac70\ub098, \uc774\ubbf8 \uc885\ub8cc\ub41c \uacbd\uc6b0), *GenerateExit* (\ubc1c\uc0dd\uc2dc\ud0a8 \uc608\uc678\ub97c \uc7a1\uc9c0 \uc54a\uc74c\uc73c\ub85c\uc368) \uc608\uc678\ub97c \ubc1c\uc0dd\uc2dc\ud0a4\uac70\ub098, \ud638\ucd9c\uc790\uc5d0\uac8c \ub9ac\ud134\ud55c\ub2e4. \ub9cc\uc77c generator \uac00 \uac12\uc744 yield \ud558\uace0 \uc788\ub294 \uacbd\uc6b0 *RuntimeError* \uac00 \ubc1c\uc0dd\ud55c\ub2e4. \ub9cc\uc77c \ub2e4\ub978 \uc608\uc678\ub97c \ub358\uc9c0\ub294 \uacbd\uc6b0 \ud638\ucd9c\uc790\uc5d0\uac8c\ub85c \uc804\ud30c\ub41c\ub2e4. `close()` \ub294 generator \uac00 \uc608\uc678\ub098 \uc77c\ubc18\uc801\uc778 \uc885\ub8cc\uc5d0 \uc758\ud574\uc11c \uc774\ubbf8 \uc885\ub8cc\ub41c \uacbd\uc6b0 \uc544\ubb34\uc9d3\ub3c4 \ud558\uc9c0 \uc54a\ub294\ub2e4. \n",
      "    \n",
      ">Raises a GeneratorExit at the point where the generator function was paused. If the generator function then raises StopIteration (by exiting normally, or due to already being closed) or GeneratorExit (by not catching the exception), close returns to its caller. If the generator yields a value, a RuntimeError is raised. If the generator raises any other exception, it is propagated to the caller. close() does nothing if the generator has already exited due to an exception or normal exit."
     ]
    },
    {
     "cell_type": "code",
     "collapsed": false,
     "input": [
      "def echo(value=None):\n",
      "    print \"Execution starts when 'next()' is called for the first time.\"\n",
      "    try:\n",
      "        while True:\n",
      "            try:\n",
      "                value = (yield value)\n",
      "            except Exception, e:\n",
      "                value = e\n",
      "    finally:\n",
      "        print \"Don't forget to clean up when 'close()' is called.\"\n",
      "generator = echo(1)\n",
      "print generator.next()\n",
      "print generator.next()\n",
      "print generator.send(2)\n",
      "generator.throw(TypeError, \"spam\")\n",
      "generator.close()"
     ],
     "language": "python",
     "metadata": {},
     "outputs": [
      {
       "output_type": "stream",
       "stream": "stdout",
       "text": [
        "Execution starts when 'next()' is called for the first time.\n",
        "1\n",
        "None\n",
        "2\n",
        "Don't forget to clean up when 'close()' is called.\n"
       ]
      }
     ],
     "prompt_number": 7
    },
    {
     "cell_type": "markdown",
     "metadata": {},
     "source": [
      "#2. Coroutine\n",
      "+ generator \ub294 producer, coroutine \uc740 consumer\n",
      "+ generaror \uc5d0\uc11c yield \ub294 return \uacfc \ube44\uc2b7\ud55c \ub9e5\ub77d\uc73c\ub85c \uc0ac\uc6a9\ub418\uace0, coroutine \uc5d0\uc11c\ub294 caller \ub85c\ubd80\ud130 \uc785\ub825\uc744 \ubc1b\ub294 \uc6a9\ub3c4\uac00 \ucd94\uac00\n",
      "\n",
      "- http://haerakai.tistory.com/36\n",
      "- http://pyengine.blogspot.kr/2011/07/python-coroutine-1.html\n",
      "- http://pyengine.blogspot.kr/2011/07/python-coroutine-2.html\n",
      "- http://www.dabeaz.com/coroutines/index.html"
     ]
    },
    {
     "cell_type": "markdown",
     "metadata": {},
     "source": [
      "![coroutine](img\\haerakai_coroutine_01.jpg)"
     ]
    },
    {
     "cell_type": "code",
     "collapsed": false,
     "input": [
      "def grep(pattern):\n",
      "    \"\"\"\n",
      "    simple coroutine sample  (yield \uc608\uc81c\ucf54\ub4dc\uc640 \ub2e4\ub97c\ubc14 \uc5c6\ub294\ub370... ??)\n",
      "    \"\"\"\n",
      "    try:\n",
      "        print 'looking for {0}'.format(pattern)\n",
      "        while True:\n",
      "            line = (yield)               # yield \ub97c \uc785\ub825\uc73c\ub85c \uc0ac\uc6a9, consumer == coroutine, \n",
      "            if pattern in line:\n",
      "                print '\\'{0}\\' was found in line, \\'{1}\\''.format(pattern, line)\n",
      "    finally:\n",
      "        print 'coroutine terminated....'\n",
      "\n",
      "        \n",
      "crtn = grep(\"python\")\n",
      "crtn.next()                                                       # start iterator, and stop first `yield` expression\n",
      "\n",
      "crtn.send(\"python coroutine is not easy to understand to me.\")    # suspended at `yield` expression and wait for callers input.\n",
      "crtn.send(\"no p-y-thon word\")                                     # print nothing.\n",
      "\n",
      "crtn.close()"
     ],
     "language": "python",
     "metadata": {},
     "outputs": [
      {
       "output_type": "stream",
       "stream": "stdout",
       "text": [
        "looking for python\n",
        "'python' was found in line, 'python coroutine is not easy to understand to me.'\n",
        "coroutine terminated....\n"
       ]
      }
     ],
     "prompt_number": 36
    },
    {
     "cell_type": "code",
     "collapsed": false,
     "input": [
      "def coroutine_decorator(generator_function):\n",
      "    \"\"\"\n",
      "    \ub370\ucf54\ub808\uc774\ud130\ub97c \ud1b5\ud574\uc11c `def start()` \ub97c \ud638\ucd9c\ud558\uac8c \ub9cc\ub4e6\uc73c\ub85c\uc368, `gc.next()` \ub97c \uc790\ub3d9\uc73c\ub85c \ud638\ucd9c\ud558\uac8c \ud55c\ub2e4.     \n",
      "    \"\"\"    \n",
      "    def start(*args, **kwargs):\n",
      "        cr = generator_function(*args, **kwargs)  # generator function \uc744 \ud638\ucd9c\ud574\uc11c generator \ub97c \ub9cc\ub4e4\uace0,\n",
      "        cr.next()                                 # generator.next() \ub97c \ud638\ucd9c\ud574\uc11c generator function \uc744 \uc2dc\uc791, \n",
      "                                                  # generator function \ub0b4\uc758 `yield` expression \uae4c\uc9c0 \uc2e4\ud589\ud55c\ub2e4. \n",
      "        return cr                                 # generator \ub97c \ub9ac\ud134\ud55c\ub2e4. \n",
      "    return start\n",
      "\n",
      "@coroutine_decorator\n",
      "def grep(pattern):\n",
      "    \"\"\"\n",
      "    simple coroutine sample  (yield \uc608\uc81c\ucf54\ub4dc\uc640 \ub2e4\ub97c\ubc14 \uc5c6\ub294\ub370... ??)\n",
      "    \"\"\"\n",
      "    try:\n",
      "        print 'looking for {0}'.format(pattern)\n",
      "        while True:\n",
      "            line = (yield)               # yield \ub97c \uc785\ub825\uc73c\ub85c \uc0ac\uc6a9, consumer == coroutine, \n",
      "            if pattern in line:\n",
      "                print '\\'{0}\\' was found in line, \\'{1}\\''.format(pattern, line)\n",
      "    finally:\n",
      "        print 'coroutine terminated....'\n",
      "\n",
      "        \n",
      "g = grep(\"python\")\n",
      "# Notice how you don't need a next() call here\n",
      "g.send(\"Yeah, but no, but yeah, but no\")\n",
      "g.send(\"A series of tubes\")\n",
      "g.send(\"python generators rock!\") "
     ],
     "language": "python",
     "metadata": {},
     "outputs": [
      {
       "output_type": "stream",
       "stream": "stdout",
       "text": [
        "looking for python\n",
        "coroutine terminated....\n",
        "'python' was found in line, 'python generators rock!'\n"
       ]
      }
     ],
     "prompt_number": 41
    }
   ],
   "metadata": {}
  }
 ]
}