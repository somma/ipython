{
 "metadata": {
  "name": "",
  "signature": "sha256:83a76e0c277a032b6dbc472c456f8c3fa7ecb030961e0f6e533664f953456e5d"
 },
 "nbformat": 3,
 "nbformat_minor": 0,
 "worksheets": [
  {
   "cells": [
    {
     "cell_type": "markdown",
     "metadata": {},
     "source": [
      "# Version check"
     ]
    },
    {
     "cell_type": "code",
     "collapsed": false,
     "input": [
      "import sqlalchemy\n",
      "sqlalchemy.__version__"
     ],
     "language": "python",
     "metadata": {},
     "outputs": [
      {
       "metadata": {},
       "output_type": "pyout",
       "prompt_number": 1,
       "text": [
        "'0.9.8'"
       ]
      }
     ],
     "prompt_number": 1
    },
    {
     "cell_type": "markdown",
     "metadata": {},
     "source": [
      "# Connecting\n",
      "+ create_engien() \ud568\uc218 \ud30c\ub77c\ubbf8\ud130, database url \ud615\uc2dd\uc740 [\uc5ec\uae30](http://docs.sqlalchemy.org/en/latest/core/engines.html#database-urls)\uc5d0\uc11c \ud655\uc778"
     ]
    },
    {
     "cell_type": "code",
     "collapsed": false,
     "input": [
      "from sqlalchemy import create_engine\n",
      "engine = create_engine('sqlite:///:memory:', echo=True)"
     ],
     "language": "python",
     "metadata": {},
     "outputs": [],
     "prompt_number": 2
    },
    {
     "cell_type": "markdown",
     "metadata": {},
     "source": [
      "# Declare mapping\n",
      "+ `__tablename__`, `primary_key` \ub294 \ud544\uc218"
     ]
    },
    {
     "cell_type": "code",
     "collapsed": false,
     "input": [
      "from sqlalchemy.ext.declarative import declarative_base\n",
      "from sqlalchemy import Column, Integer, String\n",
      "\n",
      "Base = declarative_base()\n",
      "print Base"
     ],
     "language": "python",
     "metadata": {},
     "outputs": [
      {
       "output_type": "stream",
       "stream": "stdout",
       "text": [
        "<class 'sqlalchemy.ext.declarative.api.Base'>\n"
       ]
      }
     ],
     "prompt_number": 7
    },
    {
     "cell_type": "code",
     "collapsed": false,
     "input": [
      "class UserA(Base):\n",
      "    __tablename__ = 'users_a'\n",
      "    \n",
      "    id = Column(Integer, primary_key=True)\n",
      "    name = Column(String)\n",
      "    fullname = Column(String)\n",
      "    password = Column(String)\n",
      "    \n",
      "    def __repr__(self):\n",
      "        return \"<UserA(name='{0}', fullname='{1}', password='{3}')>\".format(self.name, self.fullname, self.password)"
     ],
     "language": "python",
     "metadata": {},
     "outputs": [],
     "prompt_number": 10
    },
    {
     "cell_type": "markdown",
     "metadata": {},
     "source": [
      "# Create a schema"
     ]
    },
    {
     "cell_type": "code",
     "collapsed": false,
     "input": [
      "UserA.__table__"
     ],
     "language": "python",
     "metadata": {},
     "outputs": [
      {
       "metadata": {},
       "output_type": "pyout",
       "prompt_number": 9,
       "text": [
        "Table('users_a', MetaData(bind=None), Column('id', Integer(), table=<users_a>, primary_key=True, nullable=False), Column('name', String(), table=<users_a>), Column('fullname', String(), table=<users_a>), Column('password', String(), table=<users_a>), schema=None)"
       ]
      }
     ],
     "prompt_number": 9
    },
    {
     "cell_type": "markdown",
     "metadata": {},
     "source": [
      "+ Table \uac1d\uccb4\ub294 \ub9ce\uc740 MetaData \uac1d\uccb4\ub85c \uc774\ub8e8\uc5b4\uc9c0\ub294\ub370, \uc2e0\uacbd \uc4f8 \ud544\uc694\uc5c6\ub2e4.\n",
      "\n",
      "    Table(\n",
      "        'users', MetaData(bind=None), \n",
      "        Column('id', Integer(), table=<users>, primary_key=True, nullable=False), \n",
      "        Column('name', String(), table=<users>), \n",
      "        Column('fullname', String(), table=<users>), \n",
      "        Column('password', String(), table=<users>), \n",
      "        schema=None)\n",
      "\n",
      "\n",
      "+ `Base.metadata.create_all( engine )` \uc744 \ud638\ucd9c\ud574\uc11c \uc2e4\uc81c\ub85c `users` \ud14c\uc774\ube14\uc744 \uc0dd\uc131\ud55c\ub2e4."
     ]
    },
    {
     "cell_type": "markdown",
     "metadata": {},
     "source": [
      "+ VARCHAR \ud544\ub4dc\uc5d0 length \uac00 \uc5c6\ub294\ub370, SQLite, Postgresql \uc5d0\uc11c\ub294 \uc720\ud6a8\ud558\uc9c0\ub9cc \ub2e4\ub978 DB \uc5d0\uc120 \uadf8\ub807\uc9c0 \uc54a\uc744 \uc218 \uc788\uc73c\uba70 `String(250)` \ud615\ud0dc\ub85c \uc368\uc8fc\uba74 VARCHAR \uc5d0 length \ub97c \uc9c0\uc815\ud560 \uc218 \uc788\uc74c"
     ]
    },
    {
     "cell_type": "code",
     "collapsed": false,
     "input": [
      "class User(Base):\n",
      "    __tablename__ = 'users'\n",
      "    __table_args__ = {'extend_existing':True}    # \uc774\ubbf8 users \ud14c\uc774\ube14\uc774 \uc874\uc7ac\ud558\ub294 \uacbd\uc6b0 \ub36e\uc5b4\uc500\n",
      "    \n",
      "    id = Column(Integer, primary_key=True)\n",
      "    name = Column(String(50))\n",
      "    fullname = Column(String(255))\n",
      "    password = Column(String(255))\n",
      "    \n",
      "    def __repr__(self):\n",
      "        return \"<User(name='{0}', fullname='{1}', password='{2}')>\".format(self.name, self.fullname, self.password)\n",
      "    \n",
      "# `users` table \uc744 \uc2e4\uc81c\ub85c \uc0dd\uc131\ud55c\ub2e4.    \n",
      "Base.metadata.create_all(engine)\n",
      "\n",
      "# `users`, `user_a` \ud14c\uc774\ube14\uc744 \ubcf4\ub824\uba74\n",
      "User.__table__"
     ],
     "language": "python",
     "metadata": {},
     "outputs": [
      {
       "output_type": "stream",
       "stream": "stdout",
       "text": [
        "2015-02-24 01:11:22,292 INFO sqlalchemy.engine.base.Engine PRAGMA table_info(\"users\")\n"
       ]
      },
      {
       "output_type": "stream",
       "stream": "stderr",
       "text": [
        "INFO:sqlalchemy.engine.base.Engine:PRAGMA table_info(\"users\")\n"
       ]
      },
      {
       "output_type": "stream",
       "stream": "stdout",
       "text": [
        "2015-02-24 01:11:22,298 INFO sqlalchemy.engine.base.Engine ()\n"
       ]
      },
      {
       "output_type": "stream",
       "stream": "stderr",
       "text": [
        "INFO:sqlalchemy.engine.base.Engine:()\n"
       ]
      },
      {
       "output_type": "stream",
       "stream": "stdout",
       "text": [
        "2015-02-24 01:11:22,392 INFO sqlalchemy.engine.base.Engine PRAGMA table_info(\"users_a\")\n"
       ]
      },
      {
       "output_type": "stream",
       "stream": "stderr",
       "text": [
        "INFO:sqlalchemy.engine.base.Engine:PRAGMA table_info(\"users_a\")\n"
       ]
      },
      {
       "output_type": "stream",
       "stream": "stdout",
       "text": [
        "2015-02-24 01:11:22,410 INFO sqlalchemy.engine.base.Engine ()\n"
       ]
      },
      {
       "output_type": "stream",
       "stream": "stderr",
       "text": [
        "INFO:sqlalchemy.engine.base.Engine:()\n"
       ]
      },
      {
       "metadata": {},
       "output_type": "pyout",
       "prompt_number": 28,
       "text": [
        "Table('users', MetaData(bind=None), Column('id', Integer(), table=<users>, primary_key=True, nullable=False), Column('name', String(length=50), table=<users>), Column('fullname', String(length=255), table=<users>), Column('password', String(length=255), table=<users>), schema=None)"
       ]
      }
     ],
     "prompt_number": 28
    },
    {
     "cell_type": "markdown",
     "metadata": {},
     "source": [
      "# Create an instance of the Mapped Class"
     ]
    },
    {
     "cell_type": "code",
     "collapsed": false,
     "input": [
      "ed_user = User(name=\"ed\", fullname=\"Ed jones\", password=\"EdsPasswordz\")\n",
      "print ed_user\n",
      "print ed_user.id    # sqlalchemy sets default value"
     ],
     "language": "python",
     "metadata": {},
     "outputs": [
      {
       "output_type": "stream",
       "stream": "stdout",
       "text": [
        "<User(name='ed', fullname='Ed jones', password='EdsPasswordz')>\n",
        "None\n"
       ]
      }
     ],
     "prompt_number": 32
    }
   ],
   "metadata": {}
  }
 ]
}