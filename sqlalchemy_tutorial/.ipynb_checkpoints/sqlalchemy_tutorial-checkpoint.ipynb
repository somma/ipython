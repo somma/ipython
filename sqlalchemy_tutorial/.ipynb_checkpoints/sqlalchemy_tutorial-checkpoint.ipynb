{
 "metadata": {
  "name": "",
  "signature": "sha256:c4c1a7977affb75f4db2ac57f210c4b26d0a648d051f8227079706b33f83c929"
 },
 "nbformat": 3,
 "nbformat_minor": 0,
 "worksheets": [
  {
   "cells": [
    {
     "cell_type": "markdown",
     "metadata": {},
     "source": [
      "# Version check"
     ]
    },
    {
     "cell_type": "code",
     "collapsed": false,
     "input": [
      "import sqlalchemy\n",
      "sqlalchemy.__version__"
     ],
     "language": "python",
     "metadata": {},
     "outputs": [
      {
       "metadata": {},
       "output_type": "pyout",
       "prompt_number": 1,
       "text": [
        "'0.9.8'"
       ]
      }
     ],
     "prompt_number": 1
    },
    {
     "cell_type": "markdown",
     "metadata": {},
     "source": [
      "# Connecting\n",
      "+ create_engien() \ud568\uc218 \ud30c\ub77c\ubbf8\ud130, database url \ud615\uc2dd\uc740 [\uc5ec\uae30](http://docs.sqlalchemy.org/en/latest/core/engines.html#database-urls)\uc5d0\uc11c \ud655\uc778"
     ]
    },
    {
     "cell_type": "code",
     "collapsed": false,
     "input": [
      "from sqlalchemy import create_engine\n",
      "engine = create_engine('sqlite:///:memory:', echo=True)"
     ],
     "language": "python",
     "metadata": {},
     "outputs": [],
     "prompt_number": 2
    },
    {
     "cell_type": "markdown",
     "metadata": {},
     "source": [
      "# Declare mapping\n",
      "+ `__tablename__`, `primary_key` \ub294 \ud544\uc218"
     ]
    },
    {
     "cell_type": "code",
     "collapsed": false,
     "input": [
      "from sqlalchemy.ext.declarative import declarative_base\n",
      "from sqlalchemy import Column, Integer, String\n",
      "\n",
      "Base = declarative_base()\n",
      "print Base"
     ],
     "language": "python",
     "metadata": {},
     "outputs": [
      {
       "output_type": "stream",
       "stream": "stdout",
       "text": [
        "<class 'sqlalchemy.ext.declarative.api.Base'>\n"
       ]
      }
     ],
     "prompt_number": 3
    },
    {
     "cell_type": "code",
     "collapsed": false,
     "input": [
      "class UserA(Base):\n",
      "    __tablename__ = 'users_a'\n",
      "    \n",
      "    id = Column(Integer, primary_key=True)\n",
      "    name = Column(String)\n",
      "    fullname = Column(String)\n",
      "    password = Column(String)\n",
      "    \n",
      "    def __repr__(self):\n",
      "        return \"<UserA(name='{0}', fullname='{1}', password='{3}')>\".format(self.name, self.fullname, self.password)"
     ],
     "language": "python",
     "metadata": {},
     "outputs": [],
     "prompt_number": 10
    },
    {
     "cell_type": "markdown",
     "metadata": {},
     "source": [
      "# Create a schema"
     ]
    },
    {
     "cell_type": "code",
     "collapsed": false,
     "input": [
      "UserA.__table__"
     ],
     "language": "python",
     "metadata": {},
     "outputs": [
      {
       "metadata": {},
       "output_type": "pyout",
       "prompt_number": 9,
       "text": [
        "Table('users_a', MetaData(bind=None), Column('id', Integer(), table=<users_a>, primary_key=True, nullable=False), Column('name', String(), table=<users_a>), Column('fullname', String(), table=<users_a>), Column('password', String(), table=<users_a>), schema=None)"
       ]
      }
     ],
     "prompt_number": 9
    },
    {
     "cell_type": "markdown",
     "metadata": {},
     "source": [
      "+ Table \uac1d\uccb4\ub294 \ub9ce\uc740 MetaData \uac1d\uccb4\ub85c \uc774\ub8e8\uc5b4\uc9c0\ub294\ub370, \uc2e0\uacbd \uc4f8 \ud544\uc694\uc5c6\ub2e4.\n",
      "\n",
      "    Table(\n",
      "        'users', MetaData(bind=None), \n",
      "        Column('id', Integer(), table=<users>, primary_key=True, nullable=False), \n",
      "        Column('name', String(), table=<users>), \n",
      "        Column('fullname', String(), table=<users>), \n",
      "        Column('password', String(), table=<users>), \n",
      "        schema=None)\n",
      "\n",
      "\n",
      "+ `Base.metadata.create_all( engine )` \uc744 \ud638\ucd9c\ud574\uc11c \uc2e4\uc81c\ub85c `users` \ud14c\uc774\ube14\uc744 \uc0dd\uc131\ud55c\ub2e4."
     ]
    },
    {
     "cell_type": "markdown",
     "metadata": {},
     "source": [
      "+ VARCHAR \ud544\ub4dc\uc5d0 length \uac00 \uc5c6\ub294\ub370, SQLite, Postgresql \uc5d0\uc11c\ub294 \uc720\ud6a8\ud558\uc9c0\ub9cc \ub2e4\ub978 DB \uc5d0\uc120 \uadf8\ub807\uc9c0 \uc54a\uc744 \uc218 \uc788\uc73c\uba70 `String(250)` \ud615\ud0dc\ub85c \uc368\uc8fc\uba74 VARCHAR \uc5d0 length \ub97c \uc9c0\uc815\ud560 \uc218 \uc788\uc74c"
     ]
    },
    {
     "cell_type": "code",
     "collapsed": false,
     "input": [
      "class User(Base):\n",
      "    __tablename__ = 'users'\n",
      "    __table_args__ = {'extend_existing':True}    # \uc774\ubbf8 users \ud14c\uc774\ube14\uc774 \uc874\uc7ac\ud558\ub294 \uacbd\uc6b0 \ub36e\uc5b4\uc500\n",
      "    \n",
      "    id = Column(Integer, primary_key=True)\n",
      "    name = Column(String(50))\n",
      "    fullname = Column(String(255))\n",
      "    password = Column(String(255))\n",
      "    \n",
      "    def __repr__(self):\n",
      "        return \"<User(id={3}, name='{0}', fullname='{1}', password='{2}')>\".format(self.name, self.fullname, self.password, self.id)\n",
      "    \n",
      "# `users` table \uc744 \uc2e4\uc81c\ub85c \uc0dd\uc131\ud55c\ub2e4.    \n",
      "Base.metadata.create_all(engine)\n",
      "\n",
      "# `users`, `user_a` \ud14c\uc774\ube14\uc744 \ubcf4\ub824\uba74\n",
      "User.__table__"
     ],
     "language": "python",
     "metadata": {},
     "outputs": [
      {
       "output_type": "stream",
       "stream": "stdout",
       "text": [
        "2015-02-24 12:40:09,132 INFO sqlalchemy.engine.base.Engine SELECT CAST('test plain returns' AS VARCHAR(60)) AS anon_1\n"
       ]
      },
      {
       "output_type": "stream",
       "stream": "stderr",
       "text": [
        "INFO:sqlalchemy.engine.base.Engine:SELECT CAST('test plain returns' AS VARCHAR(60)) AS anon_1\n"
       ]
      },
      {
       "output_type": "stream",
       "stream": "stdout",
       "text": [
        "2015-02-24 12:40:09,132 INFO sqlalchemy.engine.base.Engine ()\n"
       ]
      },
      {
       "output_type": "stream",
       "stream": "stderr",
       "text": [
        "INFO:sqlalchemy.engine.base.Engine:()\n"
       ]
      },
      {
       "output_type": "stream",
       "stream": "stdout",
       "text": [
        "2015-02-24 12:40:09,132 INFO sqlalchemy.engine.base.Engine SELECT CAST('test unicode returns' AS VARCHAR(60)) AS anon_1\n"
       ]
      },
      {
       "output_type": "stream",
       "stream": "stderr",
       "text": [
        "INFO:sqlalchemy.engine.base.Engine:SELECT CAST('test unicode returns' AS VARCHAR(60)) AS anon_1\n"
       ]
      },
      {
       "output_type": "stream",
       "stream": "stdout",
       "text": [
        "2015-02-24 12:40:09,142 INFO sqlalchemy.engine.base.Engine ()\n"
       ]
      },
      {
       "output_type": "stream",
       "stream": "stderr",
       "text": [
        "INFO:sqlalchemy.engine.base.Engine:()\n"
       ]
      },
      {
       "output_type": "stream",
       "stream": "stdout",
       "text": [
        "2015-02-24 12:40:09,144 INFO sqlalchemy.engine.base.Engine PRAGMA table_info(\"users\")\n"
       ]
      },
      {
       "output_type": "stream",
       "stream": "stderr",
       "text": [
        "INFO:sqlalchemy.engine.base.Engine:PRAGMA table_info(\"users\")\n"
       ]
      },
      {
       "output_type": "stream",
       "stream": "stdout",
       "text": [
        "2015-02-24 12:40:09,144 INFO sqlalchemy.engine.base.Engine ()\n"
       ]
      },
      {
       "output_type": "stream",
       "stream": "stderr",
       "text": [
        "INFO:sqlalchemy.engine.base.Engine:()\n"
       ]
      },
      {
       "output_type": "stream",
       "stream": "stdout",
       "text": [
        "2015-02-24 12:40:09,145 INFO sqlalchemy.engine.base.Engine \n",
        "CREATE TABLE users (\n",
        "\tid INTEGER NOT NULL, \n",
        "\tname VARCHAR(50), \n",
        "\tfullname VARCHAR(255), \n",
        "\tpassword VARCHAR(255), \n",
        "\tPRIMARY KEY (id)\n",
        ")\n",
        "\n",
        "\n"
       ]
      },
      {
       "output_type": "stream",
       "stream": "stderr",
       "text": [
        "INFO:sqlalchemy.engine.base.Engine:\n",
        "CREATE TABLE users (\n",
        "\tid INTEGER NOT NULL, \n",
        "\tname VARCHAR(50), \n",
        "\tfullname VARCHAR(255), \n",
        "\tpassword VARCHAR(255), \n",
        "\tPRIMARY KEY (id)\n",
        ")\n",
        "\n",
        "\n"
       ]
      },
      {
       "output_type": "stream",
       "stream": "stdout",
       "text": [
        "2015-02-24 12:40:09,147 INFO sqlalchemy.engine.base.Engine ()\n"
       ]
      },
      {
       "output_type": "stream",
       "stream": "stderr",
       "text": [
        "INFO:sqlalchemy.engine.base.Engine:()\n"
       ]
      },
      {
       "output_type": "stream",
       "stream": "stdout",
       "text": [
        "2015-02-24 12:40:09,148 INFO sqlalchemy.engine.base.Engine COMMIT\n"
       ]
      },
      {
       "output_type": "stream",
       "stream": "stderr",
       "text": [
        "INFO:sqlalchemy.engine.base.Engine:COMMIT\n"
       ]
      },
      {
       "metadata": {},
       "output_type": "pyout",
       "prompt_number": 4,
       "text": [
        "Table('users', MetaData(bind=None), Column('id', Integer(), table=<users>, primary_key=True, nullable=False), Column('name', String(length=50), table=<users>), Column('fullname', String(length=255), table=<users>), Column('password', String(length=255), table=<users>), schema=None)"
       ]
      }
     ],
     "prompt_number": 4
    },
    {
     "cell_type": "markdown",
     "metadata": {},
     "source": [
      "# Create an instance of the Mapped Class"
     ]
    },
    {
     "cell_type": "code",
     "collapsed": false,
     "input": [
      "ed_user = User(name=\"ed\", fullname=\"Ed jones\", password=\"EdsPasswordz\")\n",
      "print ed_user\n",
      "print ed_user.id    # sqlalchemy sets default value"
     ],
     "language": "python",
     "metadata": {},
     "outputs": [
      {
       "output_type": "stream",
       "stream": "stdout",
       "text": [
        "<User(id=None, name='ed', fullname='Ed jones', password='EdsPasswordz')>\n",
        "None\n"
       ]
      }
     ],
     "prompt_number": 5
    },
    {
     "cell_type": "markdown",
     "metadata": {},
     "source": [
      "# Creating a session\n",
      "`create_engine()` \uc744 \ud1b5\ud574\uc11c `engine` \uc778\uc2a4\ud134\uc2a4\uac00 \uc544\uc9c1 \ub9cc\ub4e4\uc5b4\uc9c0\uc9c0 \uc54a\uc740 \uacbd\uc6b0\n",
      "\n",
      "    Session = sessionmaker()\n",
      "    ...\n",
      "    # engine instance \ub97c \ub9cc\ub4e0 \ud6c4\n",
      "    ...\n",
      "    ...\n",
      "    # \ub098\uc911\uc5d0 engine \uacfc \uc5f0\uacb0\uc2dc\ucf1c session \uc778\uc2a4\ud134\uc2a4\ub97c \uc0dd\uc131\ud560 \uc218 \ub3c4 \uc788\ub2e4.\n",
      "    session = Session.configure(bind=engine)\n",
      "    ...\n",
      "    "
     ]
    },
    {
     "cell_type": "code",
     "collapsed": false,
     "input": [
      "from sqlalchemy.orm import sessionmaker\n",
      "Session = sessionmaker(bind=engine)\n",
      "session = Session()    # session \uc778\uc2a4\ud134\uc2a4 \uc0dd\uc131"
     ],
     "language": "python",
     "metadata": {},
     "outputs": [],
     "prompt_number": 6
    },
    {
     "cell_type": "markdown",
     "metadata": {},
     "source": [
      "# Adding new objects\n",
      "+ session.add() \ub97c \ud638\ucd9c\ud558\ub294 \uc2dc\uc810\uc5d0 `insert` \uac00 \uc774\ub8e8\uc5b4\uc9c0\uc9c0 \uc54a\uace0, \ud544\uc694\ud55c \uc2dc\uc810\uc744 sqlalchemy \uac00 \uce90\uce58\ud574\uc11c `insert` \ud55c\ub2e4. (select \ub97c \ud55c\ub2e4\ub4e0\uac00...)"
     ]
    },
    {
     "cell_type": "code",
     "collapsed": false,
     "input": [
      "ed_user = User(name='ed', fullname='ed jones', password='edspasswordz')\n",
      "session.add(ed_user)\n",
      "our_user = session.query(User).filter_by(name='ed').first()\n",
      "print our_user, our_user.id"
     ],
     "language": "python",
     "metadata": {},
     "outputs": [
      {
       "output_type": "stream",
       "stream": "stdout",
       "text": [
        "2015-02-24 12:40:20,440 INFO sqlalchemy.engine.base.Engine BEGIN (implicit)\n"
       ]
      },
      {
       "output_type": "stream",
       "stream": "stderr",
       "text": [
        "INFO:sqlalchemy.engine.base.Engine:BEGIN (implicit)\n"
       ]
      },
      {
       "output_type": "stream",
       "stream": "stdout",
       "text": [
        "2015-02-24 12:40:20,440 INFO sqlalchemy.engine.base.Engine INSERT INTO users (name, fullname, password) VALUES (?, ?, ?)\n"
       ]
      },
      {
       "output_type": "stream",
       "stream": "stderr",
       "text": [
        "INFO:sqlalchemy.engine.base.Engine:INSERT INTO users (name, fullname, password) VALUES (?, ?, ?)\n"
       ]
      },
      {
       "output_type": "stream",
       "stream": "stdout",
       "text": [
        "2015-02-24 12:40:20,441 INFO sqlalchemy.engine.base.Engine ('ed', 'ed jones', 'edspasswordz')\n"
       ]
      },
      {
       "output_type": "stream",
       "stream": "stderr",
       "text": [
        "INFO:sqlalchemy.engine.base.Engine:('ed', 'ed jones', 'edspasswordz')\n"
       ]
      },
      {
       "output_type": "stream",
       "stream": "stdout",
       "text": [
        "2015-02-24 12:40:20,444 INFO sqlalchemy.engine.base.Engine SELECT users.id AS users_id, users.name AS users_name, users.fullname AS users_fullname, users.password AS users_password \n",
        "FROM users \n",
        "WHERE users.name = ?\n",
        " LIMIT ? OFFSET ?\n"
       ]
      },
      {
       "output_type": "stream",
       "stream": "stderr",
       "text": [
        "INFO:sqlalchemy.engine.base.Engine:SELECT users.id AS users_id, users.name AS users_name, users.fullname AS users_fullname, users.password AS users_password \n",
        "FROM users \n",
        "WHERE users.name = ?\n",
        " LIMIT ? OFFSET ?\n"
       ]
      },
      {
       "output_type": "stream",
       "stream": "stdout",
       "text": [
        "2015-02-24 12:40:20,444 INFO sqlalchemy.engine.base.Engine ('ed', 1, 0)\n"
       ]
      },
      {
       "output_type": "stream",
       "stream": "stderr",
       "text": [
        "INFO:sqlalchemy.engine.base.Engine:('ed', 1, 0)\n"
       ]
      },
      {
       "output_type": "stream",
       "stream": "stdout",
       "text": [
        "<User(id=1, name='ed', fullname='ed jones', password='edspasswordz')> 1\n"
       ]
      }
     ],
     "prompt_number": 7
    },
    {
     "cell_type": "markdown",
     "metadata": {},
     "source": [
      "+ \uc5ec\ub7ec `User` \uac1d\uccb4\ub97c insert"
     ]
    },
    {
     "cell_type": "code",
     "collapsed": false,
     "input": [
      "session.add_all([\n",
      "    User(name='somma', fullname='yonghwan, noh', password='passwordzzzzzz'), \n",
      "    User(name='somma1', fullname='yonghwan, noh1', password='passwordzzzzzz1'), \n",
      "    User(name='somma2', fullname='yonghwan, noh2', password='passwordzzzzzz2'), \n",
      "    User(name='somma3', fullname='yonghwan, noh3', password='passwordzzzzzz3'), \n",
      "    User(name='somma4', fullname='yonghwan, noh4', password='passwordzzzzzz4'), \n",
      "    User(name='somma5', fullname='yonghwan, noh5', password='passwordzzzzzz5'), \n",
      "    User(name='somma6', fullname='yonghwan, noh6', password='passwordzzzzzz6'), \n",
      "])"
     ],
     "language": "python",
     "metadata": {},
     "outputs": [],
     "prompt_number": 8
    },
    {
     "cell_type": "markdown",
     "metadata": {},
     "source": [
      "+ ed_user \uac1d\uccb4\uc758 \uac12\uc744 \ubcc0\uacbd\ud558\uba74 \uc54c\uc544\uc11c \uac10\uc9c0\ud574\uc11c \ucc98\ub9ac\ud574\uc900\ub2e4. "
     ]
    },
    {
     "cell_type": "code",
     "collapsed": false,
     "input": [
      "print ed_user\n",
      "ed_user.password = 'changed passwordzz'\n",
      "print ed_user\n",
      "\n",
      "session.dirty    # identity map \uc744 \ud1b5\ud574 \ubcc0\uacbd\uc774 \uc77c\uc5b4\ub09c \uac1d\uccb4\ub97c \ubcf4\uc5ec\uc8fc\uace0\n",
      "\n",
      "session.new      # \ucd94\uac00\ub41c \uac1d\uccb4\ub4e4...\n",
      "\n",
      "session.commit() # db \uc5d0 \uc4f4\ub2e4.\n",
      "\n",
      "ed_user.id\n"
     ],
     "language": "python",
     "metadata": {},
     "outputs": [
      {
       "output_type": "stream",
       "stream": "stdout",
       "text": [
        "<User(id=1, name='ed', fullname='ed jones', password='edspasswordz')>\n",
        "<User(id=1, name='ed', fullname='ed jones', password='changed passwordzz')>\n",
        "2015-02-24 12:40:25,219 INFO sqlalchemy.engine.base.Engine UPDATE users SET password=? WHERE users.id = ?\n"
       ]
      },
      {
       "output_type": "stream",
       "stream": "stderr",
       "text": [
        "INFO:sqlalchemy.engine.base.Engine:UPDATE users SET password=? WHERE users.id = ?\n"
       ]
      },
      {
       "output_type": "stream",
       "stream": "stdout",
       "text": [
        "2015-02-24 12:40:25,219 INFO sqlalchemy.engine.base.Engine ('changed passwordzz', 1)\n"
       ]
      },
      {
       "output_type": "stream",
       "stream": "stderr",
       "text": [
        "INFO:sqlalchemy.engine.base.Engine:('changed passwordzz', 1)\n"
       ]
      },
      {
       "output_type": "stream",
       "stream": "stdout",
       "text": [
        "2015-02-24 12:40:25,219 INFO sqlalchemy.engine.base.Engine INSERT INTO users (name, fullname, password) VALUES (?, ?, ?)\n"
       ]
      },
      {
       "output_type": "stream",
       "stream": "stderr",
       "text": [
        "INFO:sqlalchemy.engine.base.Engine:INSERT INTO users (name, fullname, password) VALUES (?, ?, ?)\n"
       ]
      },
      {
       "output_type": "stream",
       "stream": "stdout",
       "text": [
        "2015-02-24 12:40:25,229 INFO sqlalchemy.engine.base.Engine ('somma', 'yonghwan, noh', 'passwordzzzzzz')\n"
       ]
      },
      {
       "output_type": "stream",
       "stream": "stderr",
       "text": [
        "INFO:sqlalchemy.engine.base.Engine:('somma', 'yonghwan, noh', 'passwordzzzzzz')\n"
       ]
      },
      {
       "output_type": "stream",
       "stream": "stdout",
       "text": [
        "2015-02-24 12:40:25,230 INFO sqlalchemy.engine.base.Engine INSERT INTO users (name, fullname, password) VALUES (?, ?, ?)\n"
       ]
      },
      {
       "output_type": "stream",
       "stream": "stderr",
       "text": [
        "INFO:sqlalchemy.engine.base.Engine:INSERT INTO users (name, fullname, password) VALUES (?, ?, ?)\n"
       ]
      },
      {
       "output_type": "stream",
       "stream": "stdout",
       "text": [
        "2015-02-24 12:40:25,232 INFO sqlalchemy.engine.base.Engine ('somma1', 'yonghwan, noh1', 'passwordzzzzzz1')\n"
       ]
      },
      {
       "output_type": "stream",
       "stream": "stderr",
       "text": [
        "INFO:sqlalchemy.engine.base.Engine:('somma1', 'yonghwan, noh1', 'passwordzzzzzz1')\n"
       ]
      },
      {
       "output_type": "stream",
       "stream": "stdout",
       "text": [
        "2015-02-24 12:40:25,233 INFO sqlalchemy.engine.base.Engine INSERT INTO users (name, fullname, password) VALUES (?, ?, ?)\n"
       ]
      },
      {
       "output_type": "stream",
       "stream": "stderr",
       "text": [
        "INFO:sqlalchemy.engine.base.Engine:INSERT INTO users (name, fullname, password) VALUES (?, ?, ?)\n"
       ]
      },
      {
       "output_type": "stream",
       "stream": "stdout",
       "text": [
        "2015-02-24 12:40:25,253 INFO sqlalchemy.engine.base.Engine ('somma2', 'yonghwan, noh2', 'passwordzzzzzz2')\n"
       ]
      },
      {
       "output_type": "stream",
       "stream": "stderr",
       "text": [
        "INFO:sqlalchemy.engine.base.Engine:('somma2', 'yonghwan, noh2', 'passwordzzzzzz2')\n"
       ]
      },
      {
       "output_type": "stream",
       "stream": "stdout",
       "text": [
        "2015-02-24 12:40:25,256 INFO sqlalchemy.engine.base.Engine INSERT INTO users (name, fullname, password) VALUES (?, ?, ?)\n"
       ]
      },
      {
       "output_type": "stream",
       "stream": "stderr",
       "text": [
        "INFO:sqlalchemy.engine.base.Engine:INSERT INTO users (name, fullname, password) VALUES (?, ?, ?)\n"
       ]
      },
      {
       "output_type": "stream",
       "stream": "stdout",
       "text": [
        "2015-02-24 12:40:25,257 INFO sqlalchemy.engine.base.Engine ('somma3', 'yonghwan, noh3', 'passwordzzzzzz3')\n"
       ]
      },
      {
       "output_type": "stream",
       "stream": "stderr",
       "text": [
        "INFO:sqlalchemy.engine.base.Engine:('somma3', 'yonghwan, noh3', 'passwordzzzzzz3')\n"
       ]
      },
      {
       "output_type": "stream",
       "stream": "stdout",
       "text": [
        "2015-02-24 12:40:25,259 INFO sqlalchemy.engine.base.Engine INSERT INTO users (name, fullname, password) VALUES (?, ?, ?)\n"
       ]
      },
      {
       "output_type": "stream",
       "stream": "stderr",
       "text": [
        "INFO:sqlalchemy.engine.base.Engine:INSERT INTO users (name, fullname, password) VALUES (?, ?, ?)\n"
       ]
      },
      {
       "output_type": "stream",
       "stream": "stdout",
       "text": [
        "2015-02-24 12:40:25,260 INFO sqlalchemy.engine.base.Engine ('somma4', 'yonghwan, noh4', 'passwordzzzzzz4')\n"
       ]
      },
      {
       "output_type": "stream",
       "stream": "stderr",
       "text": [
        "INFO:sqlalchemy.engine.base.Engine:('somma4', 'yonghwan, noh4', 'passwordzzzzzz4')\n"
       ]
      },
      {
       "output_type": "stream",
       "stream": "stdout",
       "text": [
        "2015-02-24 12:40:25,263 INFO sqlalchemy.engine.base.Engine INSERT INTO users (name, fullname, password) VALUES (?, ?, ?)\n"
       ]
      },
      {
       "output_type": "stream",
       "stream": "stderr",
       "text": [
        "INFO:sqlalchemy.engine.base.Engine:INSERT INTO users (name, fullname, password) VALUES (?, ?, ?)\n"
       ]
      },
      {
       "output_type": "stream",
       "stream": "stdout",
       "text": [
        "2015-02-24 12:40:25,263 INFO sqlalchemy.engine.base.Engine ('somma5', 'yonghwan, noh5', 'passwordzzzzzz5')\n"
       ]
      },
      {
       "output_type": "stream",
       "stream": "stderr",
       "text": [
        "INFO:sqlalchemy.engine.base.Engine:('somma5', 'yonghwan, noh5', 'passwordzzzzzz5')\n"
       ]
      },
      {
       "output_type": "stream",
       "stream": "stdout",
       "text": [
        "2015-02-24 12:40:25,266 INFO sqlalchemy.engine.base.Engine INSERT INTO users (name, fullname, password) VALUES (?, ?, ?)\n"
       ]
      },
      {
       "output_type": "stream",
       "stream": "stderr",
       "text": [
        "INFO:sqlalchemy.engine.base.Engine:INSERT INTO users (name, fullname, password) VALUES (?, ?, ?)\n"
       ]
      },
      {
       "output_type": "stream",
       "stream": "stdout",
       "text": [
        "2015-02-24 12:40:25,266 INFO sqlalchemy.engine.base.Engine ('somma6', 'yonghwan, noh6', 'passwordzzzzzz6')\n"
       ]
      },
      {
       "output_type": "stream",
       "stream": "stderr",
       "text": [
        "INFO:sqlalchemy.engine.base.Engine:('somma6', 'yonghwan, noh6', 'passwordzzzzzz6')\n"
       ]
      },
      {
       "output_type": "stream",
       "stream": "stdout",
       "text": [
        "2015-02-24 12:40:25,269 INFO sqlalchemy.engine.base.Engine COMMIT\n"
       ]
      },
      {
       "output_type": "stream",
       "stream": "stderr",
       "text": [
        "INFO:sqlalchemy.engine.base.Engine:COMMIT\n"
       ]
      },
      {
       "output_type": "stream",
       "stream": "stdout",
       "text": [
        "2015-02-24 12:40:25,272 INFO sqlalchemy.engine.base.Engine BEGIN (implicit)\n"
       ]
      },
      {
       "output_type": "stream",
       "stream": "stderr",
       "text": [
        "INFO:sqlalchemy.engine.base.Engine:BEGIN (implicit)\n"
       ]
      },
      {
       "output_type": "stream",
       "stream": "stdout",
       "text": [
        "2015-02-24 12:40:25,273 INFO sqlalchemy.engine.base.Engine SELECT users.id AS users_id, users.name AS users_name, users.fullname AS users_fullname, users.password AS users_password \n",
        "FROM users \n",
        "WHERE users.id = ?\n"
       ]
      },
      {
       "output_type": "stream",
       "stream": "stderr",
       "text": [
        "INFO:sqlalchemy.engine.base.Engine:SELECT users.id AS users_id, users.name AS users_name, users.fullname AS users_fullname, users.password AS users_password \n",
        "FROM users \n",
        "WHERE users.id = ?\n"
       ]
      },
      {
       "output_type": "stream",
       "stream": "stdout",
       "text": [
        "2015-02-24 12:40:25,275 INFO sqlalchemy.engine.base.Engine (1,)\n"
       ]
      },
      {
       "output_type": "stream",
       "stream": "stderr",
       "text": [
        "INFO:sqlalchemy.engine.base.Engine:(1,)\n"
       ]
      },
      {
       "metadata": {},
       "output_type": "pyout",
       "prompt_number": 9,
       "text": [
        "1"
       ]
      }
     ],
     "prompt_number": 9
    },
    {
     "cell_type": "markdown",
     "metadata": {},
     "source": [
      "# Rolling Back\n",
      "session \uc740 transaction \uc548\uc5d0\uc11c \ub3d9\uc791\ud558\uae30 \ub54c\ubb38\uc5d0 rollback \ud560 \uc218 \uc788\ub2e4. "
     ]
    },
    {
     "cell_type": "code",
     "collapsed": false,
     "input": [
      "# modify ed_user's name\n",
      "print ed_user.name\n",
      "ed_user.name = 'not ed jones'\n",
      "\n",
      "# add erroneous user, `fake_user`\n",
      "fake_user = User(name=\"fakeuser\", fullname=\"invalid\", password=\"abcde\")\n",
      "session.add(fake_user)\n",
      "\n",
      "# query\n",
      "session.query(User).filter(User.name.in_(['not ed jones', 'fakeuser'])).all()"
     ],
     "language": "python",
     "metadata": {},
     "outputs": [
      {
       "output_type": "stream",
       "stream": "stdout",
       "text": [
        "ed\n",
        "2015-02-24 10:15:38,661 INFO sqlalchemy.engine.base.Engine UPDATE users SET name=? WHERE users.id = ?\n"
       ]
      },
      {
       "output_type": "stream",
       "stream": "stderr",
       "text": [
        "INFO:sqlalchemy.engine.base.Engine:UPDATE users SET name=? WHERE users.id = ?\n"
       ]
      },
      {
       "output_type": "stream",
       "stream": "stdout",
       "text": [
        "2015-02-24 10:15:38,664 INFO sqlalchemy.engine.base.Engine ('not ed jones', 1)\n"
       ]
      },
      {
       "output_type": "stream",
       "stream": "stderr",
       "text": [
        "INFO:sqlalchemy.engine.base.Engine:('not ed jones', 1)\n"
       ]
      },
      {
       "output_type": "stream",
       "stream": "stdout",
       "text": [
        "2015-02-24 10:15:38,665 INFO sqlalchemy.engine.base.Engine INSERT INTO users (name, fullname, password) VALUES (?, ?, ?)\n"
       ]
      },
      {
       "output_type": "stream",
       "stream": "stderr",
       "text": [
        "INFO:sqlalchemy.engine.base.Engine:INSERT INTO users (name, fullname, password) VALUES (?, ?, ?)\n"
       ]
      },
      {
       "output_type": "stream",
       "stream": "stdout",
       "text": [
        "2015-02-24 10:15:38,667 INFO sqlalchemy.engine.base.Engine ('fakeuser', 'invalid', 'abcde')\n"
       ]
      },
      {
       "output_type": "stream",
       "stream": "stderr",
       "text": [
        "INFO:sqlalchemy.engine.base.Engine:('fakeuser', 'invalid', 'abcde')\n"
       ]
      },
      {
       "output_type": "stream",
       "stream": "stdout",
       "text": [
        "2015-02-24 10:15:38,671 INFO sqlalchemy.engine.base.Engine SELECT users.id AS users_id, users.name AS users_name, users.fullname AS users_fullname, users.password AS users_password \n",
        "FROM users \n",
        "WHERE users.name IN (?, ?)\n"
       ]
      },
      {
       "output_type": "stream",
       "stream": "stderr",
       "text": [
        "INFO:sqlalchemy.engine.base.Engine:SELECT users.id AS users_id, users.name AS users_name, users.fullname AS users_fullname, users.password AS users_password \n",
        "FROM users \n",
        "WHERE users.name IN (?, ?)\n"
       ]
      },
      {
       "output_type": "stream",
       "stream": "stdout",
       "text": [
        "2015-02-24 10:15:38,671 INFO sqlalchemy.engine.base.Engine ('not ed jones', 'fakeuser')\n"
       ]
      },
      {
       "output_type": "stream",
       "stream": "stderr",
       "text": [
        "INFO:sqlalchemy.engine.base.Engine:('not ed jones', 'fakeuser')\n"
       ]
      },
      {
       "metadata": {},
       "output_type": "pyout",
       "prompt_number": 9,
       "text": [
        "[<User(name='not ed jones', fullname='ed jones', password='changed passwordzz')>,\n",
        " <User(name='fakeuser', fullname='invalid', password='abcde')>]"
       ]
      }
     ],
     "prompt_number": 9
    },
    {
     "cell_type": "code",
     "collapsed": false,
     "input": [
      "# rollback\n",
      "session.rollback()\n",
      "print session.query(User).filter(User.name.in_(['not ed jones', 'fakeuser'])).all()\n",
      "print ed_user.name\n"
     ],
     "language": "python",
     "metadata": {},
     "outputs": [
      {
       "output_type": "stream",
       "stream": "stdout",
       "text": [
        "2015-02-24 10:15:43,224 INFO sqlalchemy.engine.base.Engine ROLLBACK\n"
       ]
      },
      {
       "output_type": "stream",
       "stream": "stderr",
       "text": [
        "INFO:sqlalchemy.engine.base.Engine:ROLLBACK\n"
       ]
      },
      {
       "output_type": "stream",
       "stream": "stdout",
       "text": [
        "2015-02-24 10:15:43,224 INFO sqlalchemy.engine.base.Engine BEGIN (implicit)\n"
       ]
      },
      {
       "output_type": "stream",
       "stream": "stderr",
       "text": [
        "INFO:sqlalchemy.engine.base.Engine:BEGIN (implicit)\n"
       ]
      },
      {
       "output_type": "stream",
       "stream": "stdout",
       "text": [
        "2015-02-24 10:15:43,224 INFO sqlalchemy.engine.base.Engine SELECT users.id AS users_id, users.name AS users_name, users.fullname AS users_fullname, users.password AS users_password \n",
        "FROM users \n",
        "WHERE users.name IN (?, ?)\n"
       ]
      },
      {
       "output_type": "stream",
       "stream": "stderr",
       "text": [
        "INFO:sqlalchemy.engine.base.Engine:SELECT users.id AS users_id, users.name AS users_name, users.fullname AS users_fullname, users.password AS users_password \n",
        "FROM users \n",
        "WHERE users.name IN (?, ?)\n"
       ]
      },
      {
       "output_type": "stream",
       "stream": "stdout",
       "text": [
        "2015-02-24 10:15:43,234 INFO sqlalchemy.engine.base.Engine ('not ed jones', 'fakeuser')\n"
       ]
      },
      {
       "output_type": "stream",
       "stream": "stderr",
       "text": [
        "INFO:sqlalchemy.engine.base.Engine:('not ed jones', 'fakeuser')\n"
       ]
      },
      {
       "output_type": "stream",
       "stream": "stdout",
       "text": [
        "[]\n",
        "2015-02-24 10:15:43,234 INFO sqlalchemy.engine.base.Engine SELECT users.id AS users_id, users.name AS users_name, users.fullname AS users_fullname, users.password AS users_password \n",
        "FROM users \n",
        "WHERE users.id = ?\n"
       ]
      },
      {
       "output_type": "stream",
       "stream": "stderr",
       "text": [
        "INFO:sqlalchemy.engine.base.Engine:SELECT users.id AS users_id, users.name AS users_name, users.fullname AS users_fullname, users.password AS users_password \n",
        "FROM users \n",
        "WHERE users.id = ?\n"
       ]
      },
      {
       "output_type": "stream",
       "stream": "stdout",
       "text": [
        "2015-02-24 10:15:43,234 INFO sqlalchemy.engine.base.Engine (1,)\n"
       ]
      },
      {
       "output_type": "stream",
       "stream": "stderr",
       "text": [
        "INFO:sqlalchemy.engine.base.Engine:(1,)\n"
       ]
      },
      {
       "output_type": "stream",
       "stream": "stdout",
       "text": [
        "ed\n"
       ]
      }
     ],
     "prompt_number": 10
    },
    {
     "cell_type": "markdown",
     "metadata": {},
     "source": [
      "# Querying"
     ]
    },
    {
     "cell_type": "markdown",
     "metadata": {},
     "source": [
      "## basic query, order_by, label"
     ]
    },
    {
     "cell_type": "code",
     "collapsed": false,
     "input": [
      "for instance in session.query(User).order_by(User.id):\n",
      "    print instance.name, instance.fullname\n",
      "    \n",
      "\n",
      "for name, fullname in session.query(User.name, User.fullname):\n",
      "    print name, fullname\n",
      "    \n",
      "for row in session.query(User, User.name).all():\n",
      "    print row.User, row.name\n",
      "    \n",
      "for row in session.query(User.name.label('name_label')).all():\n",
      "    print row.name_label"
     ],
     "language": "python",
     "metadata": {},
     "outputs": [
      {
       "output_type": "stream",
       "stream": "stdout",
       "text": [
        "2015-02-24 12:40:28,190 INFO sqlalchemy.engine.base.Engine SELECT users.id AS users_id, users.name AS users_name, users.fullname AS users_fullname, users.password AS users_password \n",
        "FROM users ORDER BY users.id\n"
       ]
      },
      {
       "output_type": "stream",
       "stream": "stderr",
       "text": [
        "INFO:sqlalchemy.engine.base.Engine:SELECT users.id AS users_id, users.name AS users_name, users.fullname AS users_fullname, users.password AS users_password \n",
        "FROM users ORDER BY users.id\n"
       ]
      },
      {
       "output_type": "stream",
       "stream": "stdout",
       "text": [
        "2015-02-24 12:40:28,194 INFO sqlalchemy.engine.base.Engine ()\n"
       ]
      },
      {
       "output_type": "stream",
       "stream": "stderr",
       "text": [
        "INFO:sqlalchemy.engine.base.Engine:()\n"
       ]
      },
      {
       "output_type": "stream",
       "stream": "stdout",
       "text": [
        "ed ed jones\n",
        "somma yonghwan, noh\n",
        "somma1 yonghwan, noh1\n",
        "somma2 yonghwan, noh2\n",
        "somma3 yonghwan, noh3\n",
        "somma4 yonghwan, noh4\n",
        "somma5 yonghwan, noh5\n",
        "somma6 yonghwan, noh6\n",
        "2015-02-24 12:40:28,197 INFO sqlalchemy.engine.base.Engine SELECT users.name AS users_name, users.fullname AS users_fullname \n",
        "FROM users\n"
       ]
      },
      {
       "output_type": "stream",
       "stream": "stderr",
       "text": [
        "INFO:sqlalchemy.engine.base.Engine:SELECT users.name AS users_name, users.fullname AS users_fullname \n",
        "FROM users\n"
       ]
      },
      {
       "output_type": "stream",
       "stream": "stdout",
       "text": [
        "2015-02-24 12:40:28,198 INFO sqlalchemy.engine.base.Engine ()\n"
       ]
      },
      {
       "output_type": "stream",
       "stream": "stderr",
       "text": [
        "INFO:sqlalchemy.engine.base.Engine:()\n"
       ]
      },
      {
       "output_type": "stream",
       "stream": "stdout",
       "text": [
        "ed ed jones\n",
        "somma yonghwan, noh\n",
        "somma1 yonghwan, noh1\n",
        "somma2 yonghwan, noh2\n",
        "somma3 yonghwan, noh3\n",
        "somma4 yonghwan, noh4\n",
        "somma5 yonghwan, noh5\n",
        "somma6 yonghwan, noh6\n",
        "2015-02-24 12:40:28,203 INFO sqlalchemy.engine.base.Engine SELECT users.id AS users_id, users.name AS users_name, users.fullname AS users_fullname, users.password AS users_password \n",
        "FROM users\n"
       ]
      },
      {
       "output_type": "stream",
       "stream": "stderr",
       "text": [
        "INFO:sqlalchemy.engine.base.Engine:SELECT users.id AS users_id, users.name AS users_name, users.fullname AS users_fullname, users.password AS users_password \n",
        "FROM users\n"
       ]
      },
      {
       "output_type": "stream",
       "stream": "stdout",
       "text": [
        "2015-02-24 12:40:28,204 INFO sqlalchemy.engine.base.Engine ()\n"
       ]
      },
      {
       "output_type": "stream",
       "stream": "stderr",
       "text": [
        "INFO:sqlalchemy.engine.base.Engine:()\n"
       ]
      },
      {
       "output_type": "stream",
       "stream": "stdout",
       "text": [
        "<User(id=1, name='ed', fullname='ed jones', password='changed passwordzz')> ed\n",
        "<User(id=2, name='somma', fullname='yonghwan, noh', password='passwordzzzzzz')> somma\n",
        "<User(id=3, name='somma1', fullname='yonghwan, noh1', password='passwordzzzzzz1')> somma1\n",
        "<User(id=4, name='somma2', fullname='yonghwan, noh2', password='passwordzzzzzz2')> somma2\n",
        "<User(id=5, name='somma3', fullname='yonghwan, noh3', password='passwordzzzzzz3')> somma3\n",
        "<User(id=6, name='somma4', fullname='yonghwan, noh4', password='passwordzzzzzz4')> somma4\n",
        "<User(id=7, name='somma5', fullname='yonghwan, noh5', password='passwordzzzzzz5')> somma5\n",
        "<User(id=8, name='somma6', fullname='yonghwan, noh6', password='passwordzzzzzz6')> somma6\n",
        "2015-02-24 12:40:28,209 INFO sqlalchemy.engine.base.Engine SELECT users.name AS name_label \n",
        "FROM users\n"
       ]
      },
      {
       "output_type": "stream",
       "stream": "stderr",
       "text": [
        "INFO:sqlalchemy.engine.base.Engine:SELECT users.name AS name_label \n",
        "FROM users\n"
       ]
      },
      {
       "output_type": "stream",
       "stream": "stdout",
       "text": [
        "2015-02-24 12:40:28,210 INFO sqlalchemy.engine.base.Engine ()\n"
       ]
      },
      {
       "output_type": "stream",
       "stream": "stderr",
       "text": [
        "INFO:sqlalchemy.engine.base.Engine:()\n"
       ]
      },
      {
       "output_type": "stream",
       "stream": "stdout",
       "text": [
        "ed\n",
        "somma\n",
        "somma1\n",
        "somma2\n",
        "somma3\n",
        "somma4\n",
        "somma5\n",
        "somma6\n"
       ]
      }
     ],
     "prompt_number": 10
    },
    {
     "cell_type": "markdown",
     "metadata": {},
     "source": [
      "## alias, limit, offset"
     ]
    },
    {
     "cell_type": "code",
     "collapsed": false,
     "input": [
      "# alias\n",
      "from sqlalchemy.orm import aliased\n",
      "user_alias = aliased(User, name='user_alias')\n",
      "\n",
      "for row in session.query(user_alias, user_alias.name).all():\n",
      "    print row.user_alias\n",
      "\n",
      "# limit     \n",
      "for u in session.query(User).order_by(User.id)[1:3]:\n",
      "    print u\n",
      "    "
     ],
     "language": "python",
     "metadata": {},
     "outputs": [
      {
       "output_type": "stream",
       "stream": "stdout",
       "text": [
        "2015-02-24 12:40:31,642 INFO sqlalchemy.engine.base.Engine SELECT user_alias.id AS user_alias_id, user_alias.name AS user_alias_name, user_alias.fullname AS user_alias_fullname, user_alias.password AS user_alias_password \n",
        "FROM users AS user_alias\n"
       ]
      },
      {
       "output_type": "stream",
       "stream": "stderr",
       "text": [
        "INFO:sqlalchemy.engine.base.Engine:SELECT user_alias.id AS user_alias_id, user_alias.name AS user_alias_name, user_alias.fullname AS user_alias_fullname, user_alias.password AS user_alias_password \n",
        "FROM users AS user_alias\n"
       ]
      },
      {
       "output_type": "stream",
       "stream": "stdout",
       "text": [
        "2015-02-24 12:40:31,645 INFO sqlalchemy.engine.base.Engine ()\n"
       ]
      },
      {
       "output_type": "stream",
       "stream": "stderr",
       "text": [
        "INFO:sqlalchemy.engine.base.Engine:()\n"
       ]
      },
      {
       "output_type": "stream",
       "stream": "stdout",
       "text": [
        "<User(id=1, name='ed', fullname='ed jones', password='changed passwordzz')>\n",
        "<User(id=2, name='somma', fullname='yonghwan, noh', password='passwordzzzzzz')>\n",
        "<User(id=3, name='somma1', fullname='yonghwan, noh1', password='passwordzzzzzz1')>\n",
        "<User(id=4, name='somma2', fullname='yonghwan, noh2', password='passwordzzzzzz2')>\n",
        "<User(id=5, name='somma3', fullname='yonghwan, noh3', password='passwordzzzzzz3')>\n",
        "<User(id=6, name='somma4', fullname='yonghwan, noh4', password='passwordzzzzzz4')>\n",
        "<User(id=7, name='somma5', fullname='yonghwan, noh5', password='passwordzzzzzz5')>\n",
        "<User(id=8, name='somma6', fullname='yonghwan, noh6', password='passwordzzzzzz6')>\n",
        "2015-02-24 12:40:31,651 INFO sqlalchemy.engine.base.Engine SELECT users.id AS users_id, users.name AS users_name, users.fullname AS users_fullname, users.password AS users_password \n",
        "FROM users ORDER BY users.id\n",
        " LIMIT ? OFFSET ?\n"
       ]
      },
      {
       "output_type": "stream",
       "stream": "stderr",
       "text": [
        "INFO:sqlalchemy.engine.base.Engine:SELECT users.id AS users_id, users.name AS users_name, users.fullname AS users_fullname, users.password AS users_password \n",
        "FROM users ORDER BY users.id\n",
        " LIMIT ? OFFSET ?\n"
       ]
      },
      {
       "output_type": "stream",
       "stream": "stdout",
       "text": [
        "2015-02-24 12:40:31,653 INFO sqlalchemy.engine.base.Engine (2, 1)\n"
       ]
      },
      {
       "output_type": "stream",
       "stream": "stderr",
       "text": [
        "INFO:sqlalchemy.engine.base.Engine:(2, 1)\n"
       ]
      },
      {
       "output_type": "stream",
       "stream": "stdout",
       "text": [
        "<User(id=2, name='somma', fullname='yonghwan, noh', password='passwordzzzzzz')>\n",
        "<User(id=3, name='somma1', fullname='yonghwan, noh1', password='passwordzzzzzz1')>\n"
       ]
      }
     ],
     "prompt_number": 11
    },
    {
     "cell_type": "markdown",
     "metadata": {},
     "source": [
      "## filtering results\n",
      "`session.query()` \uc758 \uacb0\uacfc\ub294 `KeyedTuple` \uac1d\uccb4, `for name, in ...` \uc774\ub807\uac8c \uc4f0\uba74 name \uc5d0\ub294 tuple[0] \uc774 \ud560\ub2f9\ub418\uace0, `for name in ...` \uc774\ub807\uac8c \uc4f0\uba74 name \uc740 KeyedTuple \uac1d\uccb4\uc774\ubbc0\ub85c \ucd9c\ub825\ud558\ub824\uba74 `name[0], name[1]` \uc774\ub7f0\uc2dd\uc73c\ub85c \uc0ac\uc6a9\ud558\uba74 \ub428"
     ]
    },
    {
     "cell_type": "code",
     "collapsed": false,
     "input": [
      "for name in session.query(User.name).filter_by(fullname='ed jones'):\n",
      "    print name[0], type(name)\n",
      "    \n",
      "for name, in session.query(User.name).filter_by(fullname='ed jones'):\n",
      "    print name\n",
      "    \n",
      "for name, in session.query(User.name).filter(User.fullname=='ed jones'):\n",
      "    print name\n",
      "    \n",
      "for name, in session.query(User.name).filter(User.name == 'ed').\\\n",
      "                                      filter(User.fullname == 'ed jones'):\n",
      "    print name"
     ],
     "language": "python",
     "metadata": {},
     "outputs": [
      {
       "output_type": "stream",
       "stream": "stdout",
       "text": [
        "2015-02-24 12:58:36,792 INFO sqlalchemy.engine.base.Engine SELECT users.name AS users_name \n",
        "FROM users \n",
        "WHERE users.fullname = ?\n"
       ]
      },
      {
       "output_type": "stream",
       "stream": "stderr",
       "text": [
        "INFO:sqlalchemy.engine.base.Engine:SELECT users.name AS users_name \n",
        "FROM users \n",
        "WHERE users.fullname = ?\n"
       ]
      },
      {
       "output_type": "stream",
       "stream": "stdout",
       "text": [
        "2015-02-24 12:58:36,795 INFO sqlalchemy.engine.base.Engine ('ed jones',)\n"
       ]
      },
      {
       "output_type": "stream",
       "stream": "stderr",
       "text": [
        "INFO:sqlalchemy.engine.base.Engine:('ed jones',)\n"
       ]
      },
      {
       "output_type": "stream",
       "stream": "stdout",
       "text": [
        "ed <class 'sqlalchemy.util._collections.KeyedTuple'>\n",
        "2015-02-24 12:58:36,798 INFO sqlalchemy.engine.base.Engine SELECT users.name AS users_name \n",
        "FROM users \n",
        "WHERE users.fullname = ?\n"
       ]
      },
      {
       "output_type": "stream",
       "stream": "stderr",
       "text": [
        "INFO:sqlalchemy.engine.base.Engine:SELECT users.name AS users_name \n",
        "FROM users \n",
        "WHERE users.fullname = ?\n"
       ]
      },
      {
       "output_type": "stream",
       "stream": "stdout",
       "text": [
        "2015-02-24 12:58:36,799 INFO sqlalchemy.engine.base.Engine ('ed jones',)\n"
       ]
      },
      {
       "output_type": "stream",
       "stream": "stderr",
       "text": [
        "INFO:sqlalchemy.engine.base.Engine:('ed jones',)\n"
       ]
      },
      {
       "output_type": "stream",
       "stream": "stdout",
       "text": [
        "ed\n",
        "2015-02-24 12:58:36,802 INFO sqlalchemy.engine.base.Engine SELECT users.name AS users_name \n",
        "FROM users \n",
        "WHERE users.fullname = ?\n"
       ]
      },
      {
       "output_type": "stream",
       "stream": "stderr",
       "text": [
        "INFO:sqlalchemy.engine.base.Engine:SELECT users.name AS users_name \n",
        "FROM users \n",
        "WHERE users.fullname = ?\n"
       ]
      },
      {
       "output_type": "stream",
       "stream": "stdout",
       "text": [
        "2015-02-24 12:58:36,803 INFO sqlalchemy.engine.base.Engine ('ed jones',)\n"
       ]
      },
      {
       "output_type": "stream",
       "stream": "stderr",
       "text": [
        "INFO:sqlalchemy.engine.base.Engine:('ed jones',)\n"
       ]
      },
      {
       "output_type": "stream",
       "stream": "stdout",
       "text": [
        "ed\n",
        "2015-02-24 12:58:36,806 INFO sqlalchemy.engine.base.Engine SELECT users.name AS users_name \n",
        "FROM users \n",
        "WHERE users.name = ? AND users.fullname = ?\n"
       ]
      },
      {
       "output_type": "stream",
       "stream": "stderr",
       "text": [
        "INFO:sqlalchemy.engine.base.Engine:SELECT users.name AS users_name \n",
        "FROM users \n",
        "WHERE users.name = ? AND users.fullname = ?\n"
       ]
      },
      {
       "output_type": "stream",
       "stream": "stdout",
       "text": [
        "2015-02-24 12:58:36,809 INFO sqlalchemy.engine.base.Engine ('ed', 'ed jones')\n"
       ]
      },
      {
       "output_type": "stream",
       "stream": "stderr",
       "text": [
        "INFO:sqlalchemy.engine.base.Engine:('ed', 'ed jones')\n"
       ]
      },
      {
       "output_type": "stream",
       "stream": "stdout",
       "text": [
        "ed\n"
       ]
      }
     ],
     "prompt_number": 20
    },
    {
     "cell_type": "markdown",
     "metadata": {},
     "source": [
      "## common filter operators"
     ]
    },
    {
     "cell_type": "code",
     "collapsed": false,
     "input": [
      "# is null / is not null\n",
      "print session.query(User).filter(User.name != None).first()\n",
      "print session.query(User).filter(User.name.is_(None)).first()    \n",
      "print session.query(User).filter(User.name.isnot(None)).first()\n",
      "\n",
      "# not in\n",
      "print session.query(User).filter(~User.name.in_(['ed', 'somma'])).first()\n",
      "\n",
      "# in\n",
      "print session.query(User).filter(User.name.in_(['ed', 'somma'])).first()\n",
      "    \n",
      "# like\n",
      "print session.query(User).filter(User.name.like('%somma%')).first()\n",
      "\n",
      "# not equals\n",
      "print session.query(User).filter(User.name != 'ed').first()\n",
      "    \n",
      "# equals\n",
      "print session.query(User).filter(User.name == 'ed').first()"
     ],
     "language": "python",
     "metadata": {},
     "outputs": [
      {
       "output_type": "stream",
       "stream": "stdout",
       "text": [
        "2015-02-24 16:22:55,877 INFO sqlalchemy.engine.base.Engine SELECT users.id AS users_id, users.name AS users_name, users.fullname AS users_fullname, users.password AS users_password \n",
        "FROM users \n",
        "WHERE users.name IS NOT NULL\n",
        " LIMIT ? OFFSET ?\n"
       ]
      },
      {
       "output_type": "stream",
       "stream": "stderr",
       "text": [
        "INFO:sqlalchemy.engine.base.Engine:SELECT users.id AS users_id, users.name AS users_name, users.fullname AS users_fullname, users.password AS users_password \n",
        "FROM users \n",
        "WHERE users.name IS NOT NULL\n",
        " LIMIT ? OFFSET ?\n"
       ]
      },
      {
       "output_type": "stream",
       "stream": "stdout",
       "text": [
        "2015-02-24 16:22:55,880 INFO sqlalchemy.engine.base.Engine (1, 0)\n"
       ]
      },
      {
       "output_type": "stream",
       "stream": "stderr",
       "text": [
        "INFO:sqlalchemy.engine.base.Engine:(1, 0)\n"
       ]
      },
      {
       "output_type": "stream",
       "stream": "stdout",
       "text": [
        "<User(id=1, name='ed', fullname='ed jones', password='changed passwordzz')>\n",
        "2015-02-24 16:22:55,881 INFO sqlalchemy.engine.base.Engine SELECT users.id AS users_id, users.name AS users_name, users.fullname AS users_fullname, users.password AS users_password \n",
        "FROM users \n",
        "WHERE users.name IS NULL\n",
        " LIMIT ? OFFSET ?\n"
       ]
      },
      {
       "output_type": "stream",
       "stream": "stderr",
       "text": [
        "INFO:sqlalchemy.engine.base.Engine:SELECT users.id AS users_id, users.name AS users_name, users.fullname AS users_fullname, users.password AS users_password \n",
        "FROM users \n",
        "WHERE users.name IS NULL\n",
        " LIMIT ? OFFSET ?\n"
       ]
      },
      {
       "output_type": "stream",
       "stream": "stdout",
       "text": [
        "2015-02-24 16:22:55,882 INFO sqlalchemy.engine.base.Engine (1, 0)\n"
       ]
      },
      {
       "output_type": "stream",
       "stream": "stderr",
       "text": [
        "INFO:sqlalchemy.engine.base.Engine:(1, 0)\n"
       ]
      },
      {
       "output_type": "stream",
       "stream": "stdout",
       "text": [
        "None\n",
        "2015-02-24 16:22:55,884 INFO sqlalchemy.engine.base.Engine SELECT users.id AS users_id, users.name AS users_name, users.fullname AS users_fullname, users.password AS users_password \n",
        "FROM users \n",
        "WHERE users.name IS NOT NULL\n",
        " LIMIT ? OFFSET ?\n"
       ]
      },
      {
       "output_type": "stream",
       "stream": "stderr",
       "text": [
        "INFO:sqlalchemy.engine.base.Engine:SELECT users.id AS users_id, users.name AS users_name, users.fullname AS users_fullname, users.password AS users_password \n",
        "FROM users \n",
        "WHERE users.name IS NOT NULL\n",
        " LIMIT ? OFFSET ?\n"
       ]
      },
      {
       "output_type": "stream",
       "stream": "stdout",
       "text": [
        "2015-02-24 16:22:55,885 INFO sqlalchemy.engine.base.Engine (1, 0)\n"
       ]
      },
      {
       "output_type": "stream",
       "stream": "stderr",
       "text": [
        "INFO:sqlalchemy.engine.base.Engine:(1, 0)\n"
       ]
      },
      {
       "output_type": "stream",
       "stream": "stdout",
       "text": [
        "<User(id=1, name='ed', fullname='ed jones', password='changed passwordzz')>\n",
        "2015-02-24 16:22:55,888 INFO sqlalchemy.engine.base.Engine SELECT users.id AS users_id, users.name AS users_name, users.fullname AS users_fullname, users.password AS users_password \n",
        "FROM users \n",
        "WHERE users.name NOT IN (?, ?)\n",
        " LIMIT ? OFFSET ?\n"
       ]
      },
      {
       "output_type": "stream",
       "stream": "stderr",
       "text": [
        "INFO:sqlalchemy.engine.base.Engine:SELECT users.id AS users_id, users.name AS users_name, users.fullname AS users_fullname, users.password AS users_password \n",
        "FROM users \n",
        "WHERE users.name NOT IN (?, ?)\n",
        " LIMIT ? OFFSET ?\n"
       ]
      },
      {
       "output_type": "stream",
       "stream": "stdout",
       "text": [
        "2015-02-24 16:22:55,888 INFO sqlalchemy.engine.base.Engine ('ed', 'somma', 1, 0)\n"
       ]
      },
      {
       "output_type": "stream",
       "stream": "stderr",
       "text": [
        "INFO:sqlalchemy.engine.base.Engine:('ed', 'somma', 1, 0)\n"
       ]
      },
      {
       "output_type": "stream",
       "stream": "stdout",
       "text": [
        "<User(id=3, name='somma1', fullname='yonghwan, noh1', password='passwordzzzzzz1')>\n",
        "2015-02-24 16:22:55,891 INFO sqlalchemy.engine.base.Engine SELECT users.id AS users_id, users.name AS users_name, users.fullname AS users_fullname, users.password AS users_password \n",
        "FROM users \n",
        "WHERE users.name IN (?, ?)\n",
        " LIMIT ? OFFSET ?\n"
       ]
      },
      {
       "output_type": "stream",
       "stream": "stderr",
       "text": [
        "INFO:sqlalchemy.engine.base.Engine:SELECT users.id AS users_id, users.name AS users_name, users.fullname AS users_fullname, users.password AS users_password \n",
        "FROM users \n",
        "WHERE users.name IN (?, ?)\n",
        " LIMIT ? OFFSET ?\n"
       ]
      },
      {
       "output_type": "stream",
       "stream": "stdout",
       "text": [
        "2015-02-24 16:22:55,892 INFO sqlalchemy.engine.base.Engine ('ed', 'somma', 1, 0)\n"
       ]
      },
      {
       "output_type": "stream",
       "stream": "stderr",
       "text": [
        "INFO:sqlalchemy.engine.base.Engine:('ed', 'somma', 1, 0)\n"
       ]
      },
      {
       "output_type": "stream",
       "stream": "stdout",
       "text": [
        "<User(id=1, name='ed', fullname='ed jones', password='changed passwordzz')>\n",
        "2015-02-24 16:22:55,894 INFO sqlalchemy.engine.base.Engine SELECT users.id AS users_id, users.name AS users_name, users.fullname AS users_fullname, users.password AS users_password \n",
        "FROM users \n",
        "WHERE users.name LIKE ?\n",
        " LIMIT ? OFFSET ?\n"
       ]
      },
      {
       "output_type": "stream",
       "stream": "stderr",
       "text": [
        "INFO:sqlalchemy.engine.base.Engine:SELECT users.id AS users_id, users.name AS users_name, users.fullname AS users_fullname, users.password AS users_password \n",
        "FROM users \n",
        "WHERE users.name LIKE ?\n",
        " LIMIT ? OFFSET ?\n"
       ]
      },
      {
       "output_type": "stream",
       "stream": "stdout",
       "text": [
        "2015-02-24 16:22:55,895 INFO sqlalchemy.engine.base.Engine ('%somma%', 1, 0)\n"
       ]
      },
      {
       "output_type": "stream",
       "stream": "stderr",
       "text": [
        "INFO:sqlalchemy.engine.base.Engine:('%somma%', 1, 0)\n"
       ]
      },
      {
       "output_type": "stream",
       "stream": "stdout",
       "text": [
        "<User(id=2, name='somma', fullname='yonghwan, noh', password='passwordzzzzzz')>\n",
        "2015-02-24 16:22:55,898 INFO sqlalchemy.engine.base.Engine SELECT users.id AS users_id, users.name AS users_name, users.fullname AS users_fullname, users.password AS users_password \n",
        "FROM users \n",
        "WHERE users.name != ?\n",
        " LIMIT ? OFFSET ?\n"
       ]
      },
      {
       "output_type": "stream",
       "stream": "stderr",
       "text": [
        "INFO:sqlalchemy.engine.base.Engine:SELECT users.id AS users_id, users.name AS users_name, users.fullname AS users_fullname, users.password AS users_password \n",
        "FROM users \n",
        "WHERE users.name != ?\n",
        " LIMIT ? OFFSET ?\n"
       ]
      },
      {
       "output_type": "stream",
       "stream": "stdout",
       "text": [
        "2015-02-24 16:22:55,900 INFO sqlalchemy.engine.base.Engine ('ed', 1, 0)\n"
       ]
      },
      {
       "output_type": "stream",
       "stream": "stderr",
       "text": [
        "INFO:sqlalchemy.engine.base.Engine:('ed', 1, 0)\n"
       ]
      },
      {
       "output_type": "stream",
       "stream": "stdout",
       "text": [
        "<User(id=2, name='somma', fullname='yonghwan, noh', password='passwordzzzzzz')>\n",
        "2015-02-24 16:22:55,901 INFO sqlalchemy.engine.base.Engine SELECT users.id AS users_id, users.name AS users_name, users.fullname AS users_fullname, users.password AS users_password \n",
        "FROM users \n",
        "WHERE users.name = ?\n",
        " LIMIT ? OFFSET ?\n"
       ]
      },
      {
       "output_type": "stream",
       "stream": "stderr",
       "text": [
        "INFO:sqlalchemy.engine.base.Engine:SELECT users.id AS users_id, users.name AS users_name, users.fullname AS users_fullname, users.password AS users_password \n",
        "FROM users \n",
        "WHERE users.name = ?\n",
        " LIMIT ? OFFSET ?\n"
       ]
      },
      {
       "output_type": "stream",
       "stream": "stdout",
       "text": [
        "2015-02-24 16:22:55,904 INFO sqlalchemy.engine.base.Engine ('ed', 1, 0)\n"
       ]
      },
      {
       "output_type": "stream",
       "stream": "stderr",
       "text": [
        "INFO:sqlalchemy.engine.base.Engine:('ed', 1, 0)\n"
       ]
      },
      {
       "output_type": "stream",
       "stream": "stdout",
       "text": [
        "<User(id=1, name='ed', fullname='ed jones', password='changed passwordzz')>\n"
       ]
      }
     ],
     "prompt_number": 49
    },
    {
     "cell_type": "code",
     "collapsed": false,
     "input": [
      "# and \n",
      "from sqlalchemy import and_\n",
      "print session.query(User).filter(and_(User.name == 'ed', User.fullname == 'ed jones')).first()\n",
      "\n",
      "# send multiple expression to .filter()\n",
      "print session.query(User).filter(User.name == 'ed', User.fullname == 'ed jones').first()\n",
      "\n",
      "# or chain multiple filter()/filter_by() calls\n",
      "print session.query(User).filter(User.name == 'ed').filter(User.fullname == 'ed jones').first()"
     ],
     "language": "python",
     "metadata": {},
     "outputs": [
      {
       "output_type": "stream",
       "stream": "stdout",
       "text": [
        "2015-02-24 16:34:57,168 INFO sqlalchemy.engine.base.Engine SELECT users.id AS users_id, users.name AS users_name, users.fullname AS users_fullname, users.password AS users_password \n",
        "FROM users \n",
        "WHERE users.name = ? AND users.fullname = ?\n",
        " LIMIT ? OFFSET ?\n"
       ]
      },
      {
       "output_type": "stream",
       "stream": "stderr",
       "text": [
        "INFO:sqlalchemy.engine.base.Engine:SELECT users.id AS users_id, users.name AS users_name, users.fullname AS users_fullname, users.password AS users_password \n",
        "FROM users \n",
        "WHERE users.name = ? AND users.fullname = ?\n",
        " LIMIT ? OFFSET ?\n"
       ]
      },
      {
       "output_type": "stream",
       "stream": "stdout",
       "text": [
        "2015-02-24 16:34:57,171 INFO sqlalchemy.engine.base.Engine ('ed', 'ed jones', 1, 0)\n"
       ]
      },
      {
       "output_type": "stream",
       "stream": "stderr",
       "text": [
        "INFO:sqlalchemy.engine.base.Engine:('ed', 'ed jones', 1, 0)\n"
       ]
      },
      {
       "output_type": "stream",
       "stream": "stdout",
       "text": [
        "<User(id=1, name='ed', fullname='ed jones', password='changed passwordzz')>\n",
        "2015-02-24 16:34:57,174 INFO sqlalchemy.engine.base.Engine SELECT users.id AS users_id, users.name AS users_name, users.fullname AS users_fullname, users.password AS users_password \n",
        "FROM users \n",
        "WHERE users.name = ? AND users.fullname = ?\n",
        " LIMIT ? OFFSET ?\n"
       ]
      },
      {
       "output_type": "stream",
       "stream": "stderr",
       "text": [
        "INFO:sqlalchemy.engine.base.Engine:SELECT users.id AS users_id, users.name AS users_name, users.fullname AS users_fullname, users.password AS users_password \n",
        "FROM users \n",
        "WHERE users.name = ? AND users.fullname = ?\n",
        " LIMIT ? OFFSET ?\n"
       ]
      },
      {
       "output_type": "stream",
       "stream": "stdout",
       "text": [
        "2015-02-24 16:34:57,176 INFO sqlalchemy.engine.base.Engine ('ed', 'ed jones', 1, 0)\n"
       ]
      },
      {
       "output_type": "stream",
       "stream": "stderr",
       "text": [
        "INFO:sqlalchemy.engine.base.Engine:('ed', 'ed jones', 1, 0)\n"
       ]
      },
      {
       "output_type": "stream",
       "stream": "stdout",
       "text": [
        "<User(id=1, name='ed', fullname='ed jones', password='changed passwordzz')>\n",
        "2015-02-24 16:34:57,178 INFO sqlalchemy.engine.base.Engine SELECT users.id AS users_id, users.name AS users_name, users.fullname AS users_fullname, users.password AS users_password \n",
        "FROM users \n",
        "WHERE users.name = ? AND users.fullname = ?\n",
        " LIMIT ? OFFSET ?\n"
       ]
      },
      {
       "output_type": "stream",
       "stream": "stderr",
       "text": [
        "INFO:sqlalchemy.engine.base.Engine:SELECT users.id AS users_id, users.name AS users_name, users.fullname AS users_fullname, users.password AS users_password \n",
        "FROM users \n",
        "WHERE users.name = ? AND users.fullname = ?\n",
        " LIMIT ? OFFSET ?\n"
       ]
      },
      {
       "output_type": "stream",
       "stream": "stdout",
       "text": [
        "2015-02-24 16:34:57,180 INFO sqlalchemy.engine.base.Engine ('ed', 'ed jones', 1, 0)\n"
       ]
      },
      {
       "output_type": "stream",
       "stream": "stderr",
       "text": [
        "INFO:sqlalchemy.engine.base.Engine:('ed', 'ed jones', 1, 0)\n"
       ]
      },
      {
       "output_type": "stream",
       "stream": "stdout",
       "text": [
        "<User(id=1, name='ed', fullname='ed jones', password='changed passwordzz')>\n"
       ]
      }
     ],
     "prompt_number": 55
    },
    {
     "cell_type": "code",
     "collapsed": false,
     "input": [
      "# or\n",
      "from sqlalchemy import or_\n",
      "print session.query(User).filter(or_(User.name == 'ed', User.fullname == 'ed jones' )).first()"
     ],
     "language": "python",
     "metadata": {},
     "outputs": [
      {
       "output_type": "stream",
       "stream": "stdout",
       "text": [
        "2015-02-24 16:36:11,789 INFO sqlalchemy.engine.base.Engine SELECT users.id AS users_id, users.name AS users_name, users.fullname AS users_fullname, users.password AS users_password \n",
        "FROM users \n",
        "WHERE users.name = ? OR users.fullname = ?\n",
        " LIMIT ? OFFSET ?\n"
       ]
      },
      {
       "output_type": "stream",
       "stream": "stderr",
       "text": [
        "INFO:sqlalchemy.engine.base.Engine:SELECT users.id AS users_id, users.name AS users_name, users.fullname AS users_fullname, users.password AS users_password \n",
        "FROM users \n",
        "WHERE users.name = ? OR users.fullname = ?\n",
        " LIMIT ? OFFSET ?\n"
       ]
      },
      {
       "output_type": "stream",
       "stream": "stdout",
       "text": [
        "2015-02-24 16:36:11,789 INFO sqlalchemy.engine.base.Engine ('ed', 'ed jones', 1, 0)\n"
       ]
      },
      {
       "output_type": "stream",
       "stream": "stderr",
       "text": [
        "INFO:sqlalchemy.engine.base.Engine:('ed', 'ed jones', 1, 0)\n"
       ]
      },
      {
       "output_type": "stream",
       "stream": "stdout",
       "text": [
        "<User(id=1, name='ed', fullname='ed jones', password='changed passwordzz')>\n"
       ]
      }
     ],
     "prompt_number": 58
    },
    {
     "cell_type": "markdown",
     "metadata": {},
     "source": [
      "# Returning Lists and Scalars"
     ]
    },
    {
     "cell_type": "code",
     "collapsed": false,
     "input": [
      "# all()\n",
      "query = session.query(User).filter(User.name.like('somm%')).order_by(User.id)\n",
      "for row in query.all():\n",
      "    print row\n",
      "    \n",
      "# first()    \n",
      "print query.first()"
     ],
     "language": "python",
     "metadata": {},
     "outputs": [
      {
       "output_type": "stream",
       "stream": "stdout",
       "text": [
        "2015-02-24 20:16:35,249 INFO sqlalchemy.engine.base.Engine SELECT users.id AS users_id, users.name AS users_name, users.fullname AS users_fullname, users.password AS users_password \n",
        "FROM users \n",
        "WHERE users.name LIKE ? ORDER BY users.id\n"
       ]
      },
      {
       "output_type": "stream",
       "stream": "stderr",
       "text": [
        "INFO:sqlalchemy.engine.base.Engine:SELECT users.id AS users_id, users.name AS users_name, users.fullname AS users_fullname, users.password AS users_password \n",
        "FROM users \n",
        "WHERE users.name LIKE ? ORDER BY users.id\n"
       ]
      },
      {
       "output_type": "stream",
       "stream": "stdout",
       "text": [
        "2015-02-24 20:16:35,269 INFO sqlalchemy.engine.base.Engine ('somm%',)\n"
       ]
      },
      {
       "output_type": "stream",
       "stream": "stderr",
       "text": [
        "INFO:sqlalchemy.engine.base.Engine:('somm%',)\n"
       ]
      },
      {
       "output_type": "stream",
       "stream": "stdout",
       "text": [
        "<User(id=2, name='somma', fullname='yonghwan, noh', password='passwordzzzzzz')>\n",
        "<User(id=3, name='somma1', fullname='yonghwan, noh1', password='passwordzzzzzz1')>\n",
        "<User(id=4, name='somma2', fullname='yonghwan, noh2', password='passwordzzzzzz2')>\n",
        "<User(id=5, name='somma3', fullname='yonghwan, noh3', password='passwordzzzzzz3')>\n",
        "<User(id=6, name='somma4', fullname='yonghwan, noh4', password='passwordzzzzzz4')>\n",
        "<User(id=7, name='somma5', fullname='yonghwan, noh5', password='passwordzzzzzz5')>\n",
        "<User(id=8, name='somma6', fullname='yonghwan, noh6', password='passwordzzzzzz6')>\n",
        "2015-02-24 20:16:35,279 INFO sqlalchemy.engine.base.Engine SELECT users.id AS users_id, users.name AS users_name, users.fullname AS users_fullname, users.password AS users_password \n",
        "FROM users \n",
        "WHERE users.name LIKE ? ORDER BY users.id\n",
        " LIMIT ? OFFSET ?\n"
       ]
      },
      {
       "output_type": "stream",
       "stream": "stderr",
       "text": [
        "INFO:sqlalchemy.engine.base.Engine:SELECT users.id AS users_id, users.name AS users_name, users.fullname AS users_fullname, users.password AS users_password \n",
        "FROM users \n",
        "WHERE users.name LIKE ? ORDER BY users.id\n",
        " LIMIT ? OFFSET ?\n"
       ]
      },
      {
       "output_type": "stream",
       "stream": "stdout",
       "text": [
        "2015-02-24 20:16:35,282 INFO sqlalchemy.engine.base.Engine ('somm%', 1, 0)\n"
       ]
      },
      {
       "output_type": "stream",
       "stream": "stderr",
       "text": [
        "INFO:sqlalchemy.engine.base.Engine:('somm%', 1, 0)\n"
       ]
      },
      {
       "output_type": "stream",
       "stream": "stdout",
       "text": [
        "<User(id=2, name='somma', fullname='yonghwan, noh', password='passwordzzzzzz')>\n"
       ]
      }
     ],
     "prompt_number": 73
    },
    {
     "cell_type": "code",
     "collapsed": false,
     "input": [
      "# one() \n",
      "from sqlalchemy.orm.exc import NoResultFound, MultipleResultsFound\n",
      "\n",
      "# if no result\n",
      "try:\n",
      "    query = session.query(User).filter(User.name == 'no_name').order_by(User.id)\n",
      "    users = query.one()\n",
      "except NoResultFound as e:\n",
      "    print 'exception = {0}'.format(e.message)\n",
      "    \n",
      "# if multiple results    \n",
      "try:\n",
      "    query = session.query(User).filter(User.name.like('somma%')).order_by(User.id)\n",
      "    users = query.one()\n",
      "    print users\n",
      "except MultipleResultsFound as e:\n",
      "    print 'exception = {0}'.format(e.message)\n",
      "    \n",
      "\n",
      "# scalar()\n",
      "# return first element of first result or None if no result present. \n",
      "# if multiple result returned, `MultipleResultsFound` exception raised.\n",
      "\n",
      "try:\n",
      "    query = session.query(User).filter(User.name.like('somma%')).order_by(User.id)\n",
      "    users = query.scalar()\n",
      "except MultipleResultsFound as e:\n",
      "    print 'exception = {0}'.format(e.message)\n",
      "\n",
      "    "
     ],
     "language": "python",
     "metadata": {},
     "outputs": [
      {
       "output_type": "stream",
       "stream": "stdout",
       "text": [
        "2015-02-24 20:51:26,339 INFO sqlalchemy.engine.base.Engine SELECT users.id AS users_id, users.name AS users_name, users.fullname AS users_fullname, users.password AS users_password \n",
        "FROM users \n",
        "WHERE users.name = ? ORDER BY users.id\n"
       ]
      },
      {
       "output_type": "stream",
       "stream": "stderr",
       "text": [
        "INFO:sqlalchemy.engine.base.Engine:SELECT users.id AS users_id, users.name AS users_name, users.fullname AS users_fullname, users.password AS users_password \n",
        "FROM users \n",
        "WHERE users.name = ? ORDER BY users.id\n"
       ]
      },
      {
       "output_type": "stream",
       "stream": "stdout",
       "text": [
        "2015-02-24 20:51:26,342 INFO sqlalchemy.engine.base.Engine ('no_name',)\n"
       ]
      },
      {
       "output_type": "stream",
       "stream": "stderr",
       "text": [
        "INFO:sqlalchemy.engine.base.Engine:('no_name',)\n"
       ]
      },
      {
       "output_type": "stream",
       "stream": "stdout",
       "text": [
        "exception = No row was found for one()\n",
        "2015-02-24 20:51:26,348 INFO sqlalchemy.engine.base.Engine SELECT users.id AS users_id, users.name AS users_name, users.fullname AS users_fullname, users.password AS users_password \n",
        "FROM users \n",
        "WHERE users.name LIKE ? ORDER BY users.id\n"
       ]
      },
      {
       "output_type": "stream",
       "stream": "stderr",
       "text": [
        "INFO:sqlalchemy.engine.base.Engine:SELECT users.id AS users_id, users.name AS users_name, users.fullname AS users_fullname, users.password AS users_password \n",
        "FROM users \n",
        "WHERE users.name LIKE ? ORDER BY users.id\n"
       ]
      },
      {
       "output_type": "stream",
       "stream": "stdout",
       "text": [
        "2015-02-24 20:51:26,349 INFO sqlalchemy.engine.base.Engine ('somma%',)\n"
       ]
      },
      {
       "output_type": "stream",
       "stream": "stderr",
       "text": [
        "INFO:sqlalchemy.engine.base.Engine:('somma%',)\n"
       ]
      },
      {
       "output_type": "stream",
       "stream": "stdout",
       "text": [
        "exception = Multiple rows were found for one()\n",
        "2015-02-24 20:51:26,355 INFO sqlalchemy.engine.base.Engine SELECT users.id AS users_id, users.name AS users_name, users.fullname AS users_fullname, users.password AS users_password \n",
        "FROM users \n",
        "WHERE users.name LIKE ? ORDER BY users.id\n"
       ]
      },
      {
       "output_type": "stream",
       "stream": "stderr",
       "text": [
        "INFO:sqlalchemy.engine.base.Engine:SELECT users.id AS users_id, users.name AS users_name, users.fullname AS users_fullname, users.password AS users_password \n",
        "FROM users \n",
        "WHERE users.name LIKE ? ORDER BY users.id\n"
       ]
      },
      {
       "output_type": "stream",
       "stream": "stdout",
       "text": [
        "2015-02-24 20:51:26,358 INFO sqlalchemy.engine.base.Engine ('somma%',)\n"
       ]
      },
      {
       "output_type": "stream",
       "stream": "stderr",
       "text": [
        "INFO:sqlalchemy.engine.base.Engine:('somma%',)\n"
       ]
      },
      {
       "output_type": "stream",
       "stream": "stdout",
       "text": [
        "exception = Multiple rows were found for one()\n"
       ]
      }
     ],
     "prompt_number": 89
    },
    {
     "cell_type": "markdown",
     "metadata": {},
     "source": [
      "# Using Literal SQL"
     ]
    },
    {
     "cell_type": "code",
     "collapsed": false,
     "input": [
      "from sqlalchemy import text\n",
      "for user in session.query(User).filter(text('id < 3')).order_by(text('id')).all():\n",
      "    print user.name\n",
      "\n",
      "for user in session.query(User).filter(text('id < :id and name = :name')).params(id = 3, name = 'somma').all():\n",
      "    print user.name\n",
      "    \n",
      "for users in session.query(User).from_statement(text('select * from users where name=:name')).params(name='ed').all():\n",
      "    print users\n",
      "    \n",
      "for id, name, third_ret in session.query('id', 'name', 'the_number_12')\\\n",
      "                    .from_statement(text('select id, name, 12 as the_number_12 from users where name like :name'))\\\n",
      "                    .params(name='somma%').all():\n",
      "    print '{0}, {1}, {2}'.format(id, name, third_ret)\n",
      "    \n",
      "                                        "
     ],
     "language": "python",
     "metadata": {},
     "outputs": [
      {
       "output_type": "stream",
       "stream": "stdout",
       "text": [
        "2015-02-24 21:12:33,016 INFO sqlalchemy.engine.base.Engine SELECT users.id AS users_id, users.name AS users_name, users.fullname AS users_fullname, users.password AS users_password \n",
        "FROM users \n",
        "WHERE id < 3 ORDER BY id\n"
       ]
      },
      {
       "output_type": "stream",
       "stream": "stderr",
       "text": [
        "INFO:sqlalchemy.engine.base.Engine:SELECT users.id AS users_id, users.name AS users_name, users.fullname AS users_fullname, users.password AS users_password \n",
        "FROM users \n",
        "WHERE id < 3 ORDER BY id\n"
       ]
      },
      {
       "output_type": "stream",
       "stream": "stdout",
       "text": [
        "2015-02-24 21:12:33,022 INFO sqlalchemy.engine.base.Engine ()\n"
       ]
      },
      {
       "output_type": "stream",
       "stream": "stderr",
       "text": [
        "INFO:sqlalchemy.engine.base.Engine:()\n"
       ]
      },
      {
       "output_type": "stream",
       "stream": "stdout",
       "text": [
        "ed\n",
        "somma\n",
        "2015-02-24 21:12:33,029 INFO sqlalchemy.engine.base.Engine SELECT users.id AS users_id, users.name AS users_name, users.fullname AS users_fullname, users.password AS users_password \n",
        "FROM users \n",
        "WHERE id < ? and name = ?\n"
       ]
      },
      {
       "output_type": "stream",
       "stream": "stderr",
       "text": [
        "INFO:sqlalchemy.engine.base.Engine:SELECT users.id AS users_id, users.name AS users_name, users.fullname AS users_fullname, users.password AS users_password \n",
        "FROM users \n",
        "WHERE id < ? and name = ?\n"
       ]
      },
      {
       "output_type": "stream",
       "stream": "stdout",
       "text": [
        "2015-02-24 21:12:33,032 INFO sqlalchemy.engine.base.Engine (3, 'somma')\n"
       ]
      },
      {
       "output_type": "stream",
       "stream": "stderr",
       "text": [
        "INFO:sqlalchemy.engine.base.Engine:(3, 'somma')\n"
       ]
      },
      {
       "output_type": "stream",
       "stream": "stdout",
       "text": [
        "somma\n",
        "2015-02-24 21:12:33,033 INFO sqlalchemy.engine.base.Engine select * from users where name=?\n"
       ]
      },
      {
       "output_type": "stream",
       "stream": "stderr",
       "text": [
        "INFO:sqlalchemy.engine.base.Engine:select * from users where name=?\n"
       ]
      },
      {
       "output_type": "stream",
       "stream": "stdout",
       "text": [
        "2015-02-24 21:12:33,036 INFO sqlalchemy.engine.base.Engine ('ed',)\n"
       ]
      },
      {
       "output_type": "stream",
       "stream": "stderr",
       "text": [
        "INFO:sqlalchemy.engine.base.Engine:('ed',)\n"
       ]
      },
      {
       "output_type": "stream",
       "stream": "stdout",
       "text": [
        "<User(id=1, name='ed', fullname='ed jones', password='changed passwordzz')>\n",
        "2015-02-24 21:12:33,043 INFO sqlalchemy.engine.base.Engine select id, name, 12 as the_number_12 from users where name like ?\n"
       ]
      },
      {
       "output_type": "stream",
       "stream": "stderr",
       "text": [
        "INFO:sqlalchemy.engine.base.Engine:select id, name, 12 as the_number_12 from users where name like ?\n"
       ]
      },
      {
       "output_type": "stream",
       "stream": "stdout",
       "text": [
        "2015-02-24 21:12:33,053 INFO sqlalchemy.engine.base.Engine ('somma%',)\n"
       ]
      },
      {
       "output_type": "stream",
       "stream": "stderr",
       "text": [
        "INFO:sqlalchemy.engine.base.Engine:('somma%',)\n"
       ]
      },
      {
       "output_type": "stream",
       "stream": "stdout",
       "text": [
        "2, somma, 12\n",
        "3, somma1, 12\n",
        "4, somma2, 12\n",
        "5, somma3, 12\n",
        "6, somma4, 12\n",
        "7, somma5, 12\n",
        "8, somma6, 12\n"
       ]
      }
     ],
     "prompt_number": 100
    }
   ],
   "metadata": {}
  }
 ]
}