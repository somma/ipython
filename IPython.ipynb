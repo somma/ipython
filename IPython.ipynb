{
 "metadata": {
  "name": "",
  "signature": "sha256:2fc638730ae6d4c49b272d4d20e0a4871aeedb620edd3b52dadce67fcc1e881f"
 },
 "nbformat": 3,
 "nbformat_minor": 0,
 "worksheets": [
  {
   "cells": [
    {
     "cell_type": "markdown",
     "metadata": {},
     "source": [
      "# IPython custom css \n",
      "1. \uc5ec\uae30\uc11c [custom css](https://github.com/nsonnad/base16-ipython-notebook) \ub97c \ubc1b\uace0\n",
      "1. `./.myprofile` \uacbd\ub85c\uc5d0 ipython profile \uc744 \uc0dd\uc131\ud55c\ub2e4. \n",
      "    \n",
      "        d:\\work.python\\ipython_notebook>ipython profile create --profile-dir=d:\\work.python\\ipython_notebook\\.myprofile\n",
      "\n",
      "        [ProfileCreate] Generating default config file: u'd:\\\\work.python\\\\ipython_notebook\\\\myprofile\\\\ipython_config.py'\n",
      "        [ProfileCreate] Generating default config file: u'd:\\\\work.python\\\\ipython_notebook\\\\myprofile\\\\ipython_qtconsole_config.py'\n",
      "        [ProfileCreate] Generating default config file: u'd:\\\\work.python\\\\ipython_notebook\\\\myprofile\\\\ipython_notebook_config.py'\n",
      "        [ProfileCreate] Generating default config file: u'd:\\\\work.python\\\\ipython_notebook\\\\myprofile\\\\ipython_nbconvert_config.py'\n",
      "        \n",
      "1. \ub2e4\uc6b4\ub85c\ub4dc\ud55c custom css \uc911 \ub9d8\uc5d0\ub4dc\ub294 \uac83\uc744 `.myprofile\\static\\custom\\custom.css` \ub85c \ubcf5\uc0ac (google light)\n",
      "1. `ipython notebook --profile-dir=d:\\work.python\\ipython_notebook\\.myprofile --notebook-dir=d:\\work.python\\ipython_notebook` \uba85\ub839\uc73c\ub85c \uc2e4\ud589"
     ]
    }
   ],
   "metadata": {}
  }
 ]
}