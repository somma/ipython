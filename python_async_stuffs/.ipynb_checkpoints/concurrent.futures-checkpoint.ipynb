{
 "metadata": {
  "name": "",
  "signature": "sha256:8e5ec5cc2b299477c50c665f4d59a8a49aa4edc72e2148589e074b02a71a42b1"
 },
 "nbformat": 3,
 "nbformat_minor": 0,
 "worksheets": [
  {
   "cells": [
    {
     "cell_type": "markdown",
     "metadata": {},
     "source": [
      "#1. Futures\n",
      "- [PEP 3148 - futures - execute computations asynchronously](https://www.python.org/dev/peps/pep-3148/)\n",
      "- [17.4. concurrent.futures \u2014 Launching parallel tasks](https://docs.python.org/dev/library/concurrent.futures.html)\n",
      "- [futures 2.2.0 for python 2.6+ release](https://pypi.python.org/pypi/futures)\n",
      "- [python futures module official site - code.google.com](https://code.google.com/p/pythonfutures/)\n",
      "- [futures module documentation](http://pythonhosted.org//futures/)"
     ]
    }
   ],
   "metadata": {}
  }
 ]
}