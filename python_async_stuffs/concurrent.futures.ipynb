{
 "metadata": {
  "name": "",
  "signature": "sha256:91f5461e2e575ca7cb6cecc4d9ff4eaedb9ad95dc17e2cd02a03984f7fb90b31"
 },
 "nbformat": 3,
 "nbformat_minor": 0,
 "worksheets": [
  {
   "cells": [
    {
     "cell_type": "markdown",
     "metadata": {},
     "source": [
      "#1. Futures\n",
      "- [PEP 3148 - futures - execute computations asynchronously](https://www.python.org/dev/peps/pep-3148/)\n",
      "- [17.4. concurrent.futures \u2014 Launching parallel tasks](https://docs.python.org/dev/library/concurrent.futures.html)\n",
      "- [futures 2.2.0 for python 2.6+ release](https://pypi.python.org/pypi/futures)\n",
      "- [python futures module official site - code.google.com](https://code.google.com/p/pythonfutures/)\n",
      "- [futures module documentation](http://pythonhosted.org//futures/)\n",
      "\n"
     ]
    }
   ],
   "metadata": {}
  }
 ]
}