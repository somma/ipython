{
 "cells": [
  {
   "cell_type": "markdown",
   "metadata": {},
   "source": [
    "# IPython custom css \n",
    "1. 여기서 [custom css](https://github.com/nsonnad/base16-ipython-notebook) 를 받고\n",
    "1. `./.myprofile` 경로에 ipython profile 을 생성한다. \n",
    "    \n",
    "        d:\\work.python\\ipython_notebook>ipython profile create --profile-dir=d:\\work.python\\ipython_notebook\\.myprofile\n",
    "\n",
    "        [ProfileCreate] Generating default config file: u'd:\\\\work.python\\\\ipython_notebook\\\\myprofile\\\\ipython_config.py'\n",
    "        [ProfileCreate] Generating default config file: u'd:\\\\work.python\\\\ipython_notebook\\\\myprofile\\\\ipython_qtconsole_config.py'\n",
    "        [ProfileCreate] Generating default config file: u'd:\\\\work.python\\\\ipython_notebook\\\\myprofile\\\\ipython_notebook_config.py'\n",
    "        [ProfileCreate] Generating default config file: u'd:\\\\work.python\\\\ipython_notebook\\\\myprofile\\\\ipython_nbconvert_config.py'\n",
    "        \n",
    "1. 다운로드한 custom css 중 맘에드는 것을 `.myprofile\\static\\custom\\custom.css` 로 복사 (google light)\n",
    "1. `ipython notebook --profile-dir=d:\\work.python\\ipython_notebook\\.myprofile --notebook-dir=d:\\work.python\\ipython_notebook` 명령으로 실행"
   ]
  }
 ],
 "metadata": {
  "kernelspec": {
   "display_name": "Python 2",
   "language": "python",
   "name": "python2"
  },
  "language_info": {
   "codemirror_mode": {
    "name": "ipython",
    "version": 2
   },
   "file_extension": ".py",
   "mimetype": "text/x-python",
   "name": "python",
   "nbconvert_exporter": "python",
   "pygments_lexer": "ipython2",
   "version": "2.7.9"
  }
 },
 "nbformat": 4,
 "nbformat_minor": 0
}
