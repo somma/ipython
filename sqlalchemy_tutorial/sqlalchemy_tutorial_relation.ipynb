{
 "metadata": {
  "name": "",
  "signature": "sha256:b7f61f5ea7b6db5f0c1be8a4875e72a94ca85e7b24dd18e57bb8ea0e05674705"
 },
 "nbformat": 3,
 "nbformat_minor": 0,
 "worksheets": [
  {
   "cells": [
    {
     "cell_type": "markdown",
     "metadata": {},
     "source": [
      "# Building Relationship\n",
      "---"
     ]
    },
    {
     "cell_type": "code",
     "collapsed": false,
     "input": [
      "from sqlalchemy import create_engine\n",
      "from sqlalchemy import Column, Integer, String\n",
      "from sqlalchemy import ForeignKey\n",
      "from sqlalchemy import func\n",
      "\n",
      "from sqlalchemy.ext.declarative import declarative_base\n",
      "from sqlalchemy.orm import sessionmaker\n",
      "from sqlalchemy.orm import relationship, backref\n",
      "\n",
      "# connect to database\n",
      "engine = create_engine('sqlite:///:memory:', echo = True)\n",
      "\n",
      "# create base class for ORM\n",
      "Base = declarative_base()\n",
      "\n",
      "# create database schema\n",
      "class User(Base):\n",
      "    __tablename__ = 'users'\n",
      "    \n",
      "    id = Column(Integer, primary_key = True)\n",
      "    name = Column(String)\n",
      "    fullname = Column(String)\n",
      "    password = Column(String)\n",
      "    \n",
      "    def __repr__(self):\n",
      "        return '<User (id = {0}, name = {1}, fullname = {2}, passowrd = {3})>'.format(self.id, self.name, self.fullname, self.password)\n",
      "    \n",
      "class Address(Base):\n",
      "    __tablename__ = 'addresses'\n",
      "    \n",
      "    id = Column(Integer, primary_key = True)\n",
      "    email_address = Column(String, nullable = False)\n",
      "    \n",
      "    # `relationship()` \ub294 ORM \uc5d0\uac8c `Address.user` \ub97c \ud1b5\ud574\uc11c `User` \ud074\ub798\uc2a4\uc640 \uc5f0\uacb0\ud558\uac8c \ub9cc\ub4dc\ub294\ub370, \n",
      "    # \uc774\ub54c \ub450 \ud14c\uc774\ube14\uac04\uc758 \uc5f0\uacb0\uc740 `ForeignKey` \uad00\uacc4\ub97c \uc774\uc6a9\ud55c\ub2e4. \n",
      "    #\n",
      "    # `relationship( ... backref = backref(''))` \ub294 \uac70\uafb8\ub85c\uc758 \uc5f0\uacb0\uc744 \uc0dd\uc131\ud55c\ub2e4. \n",
      "    # `User.addresses` \ub97c \ud1b5\ud574\uc11c `Address.id` \ub85c \uc815\ub82c\ub41c `Address` \ud074\ub798\uc2a4\ub85c\uc758 \uc5f0\uacb0\uc744 \ucc3e\uc744 \uc218 \uc788\ub2e4. \n",
      "    user_id = Column(Integer, ForeignKey('users.id'))\n",
      "    user = relationship('User', backref = backref('addresses', order_by = id))\n",
      "    \n",
      "    def __repr__(self):\n",
      "        return '<Address (id = {0}, email_address = {1})>'.format(self.id, self.email_address)\n",
      "                \n",
      "    \n",
      "    \n",
      "# create table    \n",
      "Base.metadata.create_all(engine)\n",
      "\n",
      "# create ORM's handle to database called `session`\n",
      "Session = sessionmaker(bind=engine)\n",
      "session = Session()"
     ],
     "language": "python",
     "metadata": {},
     "outputs": [
      {
       "output_type": "stream",
       "stream": "stdout",
       "text": [
        "2015-02-25 01:33:46,121 INFO sqlalchemy.engine.base.Engine SELECT CAST('test plain returns' AS VARCHAR(60)) AS anon_1\n"
       ]
      },
      {
       "output_type": "stream",
       "stream": "stderr",
       "text": [
        "INFO:sqlalchemy.engine.base.Engine:SELECT CAST('test plain returns' AS VARCHAR(60)) AS anon_1\n"
       ]
      },
      {
       "output_type": "stream",
       "stream": "stdout",
       "text": [
        "2015-02-25 01:33:46,124 INFO sqlalchemy.engine.base.Engine ()\n"
       ]
      },
      {
       "output_type": "stream",
       "stream": "stderr",
       "text": [
        "INFO:sqlalchemy.engine.base.Engine:()\n"
       ]
      },
      {
       "output_type": "stream",
       "stream": "stdout",
       "text": [
        "2015-02-25 01:33:46,127 INFO sqlalchemy.engine.base.Engine SELECT CAST('test unicode returns' AS VARCHAR(60)) AS anon_1\n"
       ]
      },
      {
       "output_type": "stream",
       "stream": "stderr",
       "text": [
        "INFO:sqlalchemy.engine.base.Engine:SELECT CAST('test unicode returns' AS VARCHAR(60)) AS anon_1\n"
       ]
      },
      {
       "output_type": "stream",
       "stream": "stdout",
       "text": [
        "2015-02-25 01:33:46,128 INFO sqlalchemy.engine.base.Engine ()\n"
       ]
      },
      {
       "output_type": "stream",
       "stream": "stderr",
       "text": [
        "INFO:sqlalchemy.engine.base.Engine:()\n"
       ]
      },
      {
       "output_type": "stream",
       "stream": "stdout",
       "text": [
        "2015-02-25 01:33:46,131 INFO sqlalchemy.engine.base.Engine PRAGMA table_info(\"users\")\n"
       ]
      },
      {
       "output_type": "stream",
       "stream": "stderr",
       "text": [
        "INFO:sqlalchemy.engine.base.Engine:PRAGMA table_info(\"users\")\n"
       ]
      },
      {
       "output_type": "stream",
       "stream": "stdout",
       "text": [
        "2015-02-25 01:33:46,134 INFO sqlalchemy.engine.base.Engine ()\n"
       ]
      },
      {
       "output_type": "stream",
       "stream": "stderr",
       "text": [
        "INFO:sqlalchemy.engine.base.Engine:()\n"
       ]
      },
      {
       "output_type": "stream",
       "stream": "stdout",
       "text": [
        "2015-02-25 01:33:46,137 INFO sqlalchemy.engine.base.Engine PRAGMA table_info(\"addresses\")\n"
       ]
      },
      {
       "output_type": "stream",
       "stream": "stderr",
       "text": [
        "INFO:sqlalchemy.engine.base.Engine:PRAGMA table_info(\"addresses\")\n"
       ]
      },
      {
       "output_type": "stream",
       "stream": "stdout",
       "text": [
        "2015-02-25 01:33:46,141 INFO sqlalchemy.engine.base.Engine ()\n"
       ]
      },
      {
       "output_type": "stream",
       "stream": "stderr",
       "text": [
        "INFO:sqlalchemy.engine.base.Engine:()\n"
       ]
      },
      {
       "output_type": "stream",
       "stream": "stdout",
       "text": [
        "2015-02-25 01:33:46,144 INFO sqlalchemy.engine.base.Engine \n",
        "CREATE TABLE users (\n",
        "\tid INTEGER NOT NULL, \n",
        "\tname VARCHAR, \n",
        "\tfullname VARCHAR, \n",
        "\tpassword VARCHAR, \n",
        "\tPRIMARY KEY (id)\n",
        ")\n",
        "\n",
        "\n"
       ]
      },
      {
       "output_type": "stream",
       "stream": "stderr",
       "text": [
        "INFO:sqlalchemy.engine.base.Engine:\n",
        "CREATE TABLE users (\n",
        "\tid INTEGER NOT NULL, \n",
        "\tname VARCHAR, \n",
        "\tfullname VARCHAR, \n",
        "\tpassword VARCHAR, \n",
        "\tPRIMARY KEY (id)\n",
        ")\n",
        "\n",
        "\n"
       ]
      },
      {
       "output_type": "stream",
       "stream": "stdout",
       "text": [
        "2015-02-25 01:33:46,147 INFO sqlalchemy.engine.base.Engine ()\n"
       ]
      },
      {
       "output_type": "stream",
       "stream": "stderr",
       "text": [
        "INFO:sqlalchemy.engine.base.Engine:()\n"
       ]
      },
      {
       "output_type": "stream",
       "stream": "stdout",
       "text": [
        "2015-02-25 01:33:46,148 INFO sqlalchemy.engine.base.Engine COMMIT\n"
       ]
      },
      {
       "output_type": "stream",
       "stream": "stderr",
       "text": [
        "INFO:sqlalchemy.engine.base.Engine:COMMIT\n"
       ]
      },
      {
       "output_type": "stream",
       "stream": "stdout",
       "text": [
        "2015-02-25 01:33:46,154 INFO sqlalchemy.engine.base.Engine \n",
        "CREATE TABLE addresses (\n",
        "\tid INTEGER NOT NULL, \n",
        "\temail_address VARCHAR NOT NULL, \n",
        "\tuser_id INTEGER, \n",
        "\tPRIMARY KEY (id), \n",
        "\tFOREIGN KEY(user_id) REFERENCES users (id)\n",
        ")\n",
        "\n",
        "\n"
       ]
      },
      {
       "output_type": "stream",
       "stream": "stderr",
       "text": [
        "INFO:sqlalchemy.engine.base.Engine:\n",
        "CREATE TABLE addresses (\n",
        "\tid INTEGER NOT NULL, \n",
        "\temail_address VARCHAR NOT NULL, \n",
        "\tuser_id INTEGER, \n",
        "\tPRIMARY KEY (id), \n",
        "\tFOREIGN KEY(user_id) REFERENCES users (id)\n",
        ")\n",
        "\n",
        "\n"
       ]
      },
      {
       "output_type": "stream",
       "stream": "stdout",
       "text": [
        "2015-02-25 01:33:46,158 INFO sqlalchemy.engine.base.Engine ()\n"
       ]
      },
      {
       "output_type": "stream",
       "stream": "stderr",
       "text": [
        "INFO:sqlalchemy.engine.base.Engine:()\n"
       ]
      },
      {
       "output_type": "stream",
       "stream": "stdout",
       "text": [
        "2015-02-25 01:33:46,164 INFO sqlalchemy.engine.base.Engine COMMIT\n"
       ]
      },
      {
       "output_type": "stream",
       "stream": "stderr",
       "text": [
        "INFO:sqlalchemy.engine.base.Engine:COMMIT\n"
       ]
      }
     ],
     "prompt_number": 39
    },
    {
     "cell_type": "markdown",
     "metadata": {},
     "source": [
      "# Playing with Related Objects\n",
      "---"
     ]
    },
    {
     "cell_type": "code",
     "collapsed": false,
     "input": [
      "# add instances\n",
      "ed_user = User(name = 'ed', fullname = 'ed jones', password = 'ed_passwd')\n",
      "jack = User(name = 'jack', fullname = 'jack bean', password = 'jack_password')\n",
      "\n",
      "print ed_user.addresses\n",
      "print jack.addresses\n",
      "\n",
      "jack.addresses = \\\n",
      "    [\n",
      "        Address(email_address = 'abc@jack.com'), \n",
      "        Address(email_address = 'jack@jack.com')\n",
      "    ]\n",
      "    \n",
      "print jack.addresses[0]\n",
      "print jack.addresses[1]\n",
      "\n",
      "# insert into database\n",
      "session.add_all([ed_user, jack])\n",
      "session.commit()\n"
     ],
     "language": "python",
     "metadata": {},
     "outputs": [
      {
       "output_type": "stream",
       "stream": "stdout",
       "text": [
        "[]\n",
        "[]\n",
        "<Address (id = None, email_address = abc@jack.com)>\n",
        "<Address (id = None, email_address = jack@jack.com)>\n",
        "2015-02-25 01:35:22,773 INFO sqlalchemy.engine.base.Engine INSERT INTO users (name, fullname, password) VALUES (?, ?, ?)\n"
       ]
      },
      {
       "output_type": "stream",
       "stream": "stderr",
       "text": [
        "INFO:sqlalchemy.engine.base.Engine:INSERT INTO users (name, fullname, password) VALUES (?, ?, ?)\n"
       ]
      },
      {
       "output_type": "stream",
       "stream": "stdout",
       "text": [
        "2015-02-25 01:35:22,779 INFO sqlalchemy.engine.base.Engine ('ed', 'ed jones', 'ed_passwd')\n"
       ]
      },
      {
       "output_type": "stream",
       "stream": "stderr",
       "text": [
        "INFO:sqlalchemy.engine.base.Engine:('ed', 'ed jones', 'ed_passwd')\n"
       ]
      },
      {
       "output_type": "stream",
       "stream": "stdout",
       "text": [
        "2015-02-25 01:35:22,780 INFO sqlalchemy.engine.base.Engine INSERT INTO users (name, fullname, password) VALUES (?, ?, ?)\n"
       ]
      },
      {
       "output_type": "stream",
       "stream": "stderr",
       "text": [
        "INFO:sqlalchemy.engine.base.Engine:INSERT INTO users (name, fullname, password) VALUES (?, ?, ?)\n"
       ]
      },
      {
       "output_type": "stream",
       "stream": "stdout",
       "text": [
        "2015-02-25 01:35:22,786 INFO sqlalchemy.engine.base.Engine ('jack', 'jack bean', 'jack_password')\n"
       ]
      },
      {
       "output_type": "stream",
       "stream": "stderr",
       "text": [
        "INFO:sqlalchemy.engine.base.Engine:('jack', 'jack bean', 'jack_password')\n"
       ]
      },
      {
       "output_type": "stream",
       "stream": "stdout",
       "text": [
        "2015-02-25 01:35:22,789 INFO sqlalchemy.engine.base.Engine INSERT INTO addresses (email_address, user_id) VALUES (?, ?)\n"
       ]
      },
      {
       "output_type": "stream",
       "stream": "stderr",
       "text": [
        "INFO:sqlalchemy.engine.base.Engine:INSERT INTO addresses (email_address, user_id) VALUES (?, ?)\n"
       ]
      },
      {
       "output_type": "stream",
       "stream": "stdout",
       "text": [
        "2015-02-25 01:35:22,790 INFO sqlalchemy.engine.base.Engine ('abc@jack.com', 3)\n"
       ]
      },
      {
       "output_type": "stream",
       "stream": "stderr",
       "text": [
        "INFO:sqlalchemy.engine.base.Engine:('abc@jack.com', 3)\n"
       ]
      },
      {
       "output_type": "stream",
       "stream": "stdout",
       "text": [
        "2015-02-25 01:35:22,796 INFO sqlalchemy.engine.base.Engine INSERT INTO addresses (email_address, user_id) VALUES (?, ?)\n"
       ]
      },
      {
       "output_type": "stream",
       "stream": "stderr",
       "text": [
        "INFO:sqlalchemy.engine.base.Engine:INSERT INTO addresses (email_address, user_id) VALUES (?, ?)\n"
       ]
      },
      {
       "output_type": "stream",
       "stream": "stdout",
       "text": [
        "2015-02-25 01:35:22,799 INFO sqlalchemy.engine.base.Engine ('jack@jack.com', 3)\n"
       ]
      },
      {
       "output_type": "stream",
       "stream": "stderr",
       "text": [
        "INFO:sqlalchemy.engine.base.Engine:('jack@jack.com', 3)\n"
       ]
      },
      {
       "output_type": "stream",
       "stream": "stdout",
       "text": [
        "2015-02-25 01:35:22,801 INFO sqlalchemy.engine.base.Engine COMMIT\n"
       ]
      },
      {
       "output_type": "stream",
       "stream": "stderr",
       "text": [
        "INFO:sqlalchemy.engine.base.Engine:COMMIT\n"
       ]
      }
     ],
     "prompt_number": 45
    },
    {
     "cell_type": "code",
     "collapsed": false,
     "input": [
      "# seledt `addresses` table\n",
      "for address in session.query(Address).all():\n",
      "    print address\n",
      "\n",
      "# select all\n",
      "for user in session.query(User).all():\n",
      "    print 'user = {0}'.format(user)\n",
      "    for email_address in user.addresses:\n",
      "        print '... email_address = {0}'.format(email_address)\n",
      "        \n",
      "        \n",
      "        \n"
     ],
     "language": "python",
     "metadata": {},
     "outputs": [
      {
       "output_type": "stream",
       "stream": "stdout",
       "text": [
        "2015-02-25 01:37:42,279 INFO sqlalchemy.engine.base.Engine SELECT addresses.id AS addresses_id, addresses.email_address AS addresses_email_address, addresses.user_id AS addresses_user_id \n",
        "FROM addresses\n"
       ]
      },
      {
       "output_type": "stream",
       "stream": "stderr",
       "text": [
        "INFO:sqlalchemy.engine.base.Engine:SELECT addresses.id AS addresses_id, addresses.email_address AS addresses_email_address, addresses.user_id AS addresses_user_id \n",
        "FROM addresses\n"
       ]
      },
      {
       "output_type": "stream",
       "stream": "stdout",
       "text": [
        "2015-02-25 01:37:42,279 INFO sqlalchemy.engine.base.Engine ()\n"
       ]
      },
      {
       "output_type": "stream",
       "stream": "stderr",
       "text": [
        "INFO:sqlalchemy.engine.base.Engine:()\n"
       ]
      },
      {
       "output_type": "stream",
       "stream": "stdout",
       "text": [
        "<Address (id = 1, email_address = abc@jack.com)>\n",
        "<Address (id = 2, email_address = jack@jack.com)>\n",
        "<Address (id = 3, email_address = abc@jack.com)>\n",
        "<Address (id = 4, email_address = jack@jack.com)>\n",
        "2015-02-25 01:37:42,295 INFO sqlalchemy.engine.base.Engine SELECT users.id AS users_id, users.name AS users_name, users.fullname AS users_fullname, users.password AS users_password \n",
        "FROM users\n"
       ]
      },
      {
       "output_type": "stream",
       "stream": "stderr",
       "text": [
        "INFO:sqlalchemy.engine.base.Engine:SELECT users.id AS users_id, users.name AS users_name, users.fullname AS users_fullname, users.password AS users_password \n",
        "FROM users\n"
       ]
      },
      {
       "output_type": "stream",
       "stream": "stdout",
       "text": [
        "2015-02-25 01:37:42,295 INFO sqlalchemy.engine.base.Engine ()\n"
       ]
      },
      {
       "output_type": "stream",
       "stream": "stderr",
       "text": [
        "INFO:sqlalchemy.engine.base.Engine:()\n"
       ]
      },
      {
       "output_type": "stream",
       "stream": "stdout",
       "text": [
        "user = <User (id = 1, name = ed, fullname = ed jones, passowrd = ed_passwd)>\n",
        "2015-02-25 01:37:42,295 INFO sqlalchemy.engine.base.Engine SELECT addresses.id AS addresses_id, addresses.email_address AS addresses_email_address, addresses.user_id AS addresses_user_id \n",
        "FROM addresses \n",
        "WHERE ? = addresses.user_id ORDER BY addresses.id\n"
       ]
      },
      {
       "output_type": "stream",
       "stream": "stderr",
       "text": [
        "INFO:sqlalchemy.engine.base.Engine:SELECT addresses.id AS addresses_id, addresses.email_address AS addresses_email_address, addresses.user_id AS addresses_user_id \n",
        "FROM addresses \n",
        "WHERE ? = addresses.user_id ORDER BY addresses.id\n"
       ]
      },
      {
       "output_type": "stream",
       "stream": "stdout",
       "text": [
        "2015-02-25 01:37:42,309 INFO sqlalchemy.engine.base.Engine (1,)\n"
       ]
      },
      {
       "output_type": "stream",
       "stream": "stderr",
       "text": [
        "INFO:sqlalchemy.engine.base.Engine:(1,)\n"
       ]
      },
      {
       "output_type": "stream",
       "stream": "stdout",
       "text": [
        "user = <User (id = 2, name = ed, fullname = ed jones, passowrd = ed_passwd)>\n",
        "... email_address = <Address (id = 1, email_address = abc@jack.com)>\n",
        "... email_address = <Address (id = 2, email_address = jack@jack.com)>\n",
        "user = <User (id = 3, name = jack, fullname = jack bean, passowrd = jack_password)>\n",
        "... email_address = <Address (id = 3, email_address = abc@jack.com)>\n",
        "... email_address = <Address (id = 4, email_address = jack@jack.com)>\n"
       ]
      }
     ],
     "prompt_number": 48
    },
    {
     "cell_type": "markdown",
     "metadata": {},
     "source": [
      "# Querying with Joins\n",
      "---"
     ]
    },
    {
     "cell_type": "code",
     "collapsed": false,
     "input": [],
     "language": "python",
     "metadata": {},
     "outputs": []
    },
    {
     "cell_type": "markdown",
     "metadata": {},
     "source": [
      "# Deleting\n",
      "---"
     ]
    },
    {
     "cell_type": "code",
     "collapsed": false,
     "input": [
      "session.query(User).filter(User.name == 'jack').delete()\n",
      "session.commit()\n",
      "session.query(func.count(User.id)).scalar()"
     ],
     "language": "python",
     "metadata": {},
     "outputs": [
      {
       "output_type": "stream",
       "stream": "stdout",
       "text": [
        "2015-02-25 01:35:16,673 INFO sqlalchemy.engine.base.Engine DELETE FROM users WHERE users.name = ?\n"
       ]
      },
      {
       "output_type": "stream",
       "stream": "stderr",
       "text": [
        "INFO:sqlalchemy.engine.base.Engine:DELETE FROM users WHERE users.name = ?\n"
       ]
      },
      {
       "output_type": "stream",
       "stream": "stdout",
       "text": [
        "2015-02-25 01:35:16,673 INFO sqlalchemy.engine.base.Engine ('jack',)\n"
       ]
      },
      {
       "output_type": "stream",
       "stream": "stderr",
       "text": [
        "INFO:sqlalchemy.engine.base.Engine:('jack',)\n"
       ]
      },
      {
       "output_type": "stream",
       "stream": "stdout",
       "text": [
        "2015-02-25 01:35:16,673 INFO sqlalchemy.engine.base.Engine COMMIT\n"
       ]
      },
      {
       "output_type": "stream",
       "stream": "stderr",
       "text": [
        "INFO:sqlalchemy.engine.base.Engine:COMMIT\n"
       ]
      },
      {
       "output_type": "stream",
       "stream": "stdout",
       "text": [
        "2015-02-25 01:35:16,673 INFO sqlalchemy.engine.base.Engine BEGIN (implicit)\n"
       ]
      },
      {
       "output_type": "stream",
       "stream": "stderr",
       "text": [
        "INFO:sqlalchemy.engine.base.Engine:BEGIN (implicit)\n"
       ]
      },
      {
       "output_type": "stream",
       "stream": "stdout",
       "text": [
        "2015-02-25 01:35:16,687 INFO sqlalchemy.engine.base.Engine SELECT count(users.id) AS count_1 \n",
        "FROM users\n"
       ]
      },
      {
       "output_type": "stream",
       "stream": "stderr",
       "text": [
        "INFO:sqlalchemy.engine.base.Engine:SELECT count(users.id) AS count_1 \n",
        "FROM users\n"
       ]
      },
      {
       "output_type": "stream",
       "stream": "stdout",
       "text": [
        "2015-02-25 01:35:16,687 INFO sqlalchemy.engine.base.Engine ()\n"
       ]
      },
      {
       "output_type": "stream",
       "stream": "stderr",
       "text": [
        "INFO:sqlalchemy.engine.base.Engine:()\n"
       ]
      },
      {
       "metadata": {},
       "output_type": "pyout",
       "prompt_number": 44,
       "text": [
        "1"
       ]
      }
     ],
     "prompt_number": 44
    }
   ],
   "metadata": {}
  }
 ]
}