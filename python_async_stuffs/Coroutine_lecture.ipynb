{
 "cells": [
  {
   "cell_type": "markdown",
   "metadata": {},
   "source": [
    "# [Part I] Introduction to Generators and Coroutines"
   ]
  },
  {
   "cell_type": "markdown",
   "metadata": {},
   "source": [
    "## generator"
   ]
  },
  {
   "cell_type": "code",
   "execution_count": 17,
   "metadata": {
    "collapsed": false
   },
   "outputs": [],
   "source": [
    "def countdown(n):\n",
    "    print '> counting down from {}'.format(n)\n",
    "    while n > 0:\n",
    "        yield n\n",
    "        n -= 1\n",
    "    print ''\n",
    "    print '< countdown'"
   ]
  },
  {
   "cell_type": "code",
   "execution_count": 18,
   "metadata": {
    "collapsed": false
   },
   "outputs": [
    {
     "name": "stdout",
     "output_type": "stream",
     "text": [
      "> counting down from 10\n",
      "10 9 8 7 6 5 4 3 2 1 \n",
      "< countdown\n"
     ]
    }
   ],
   "source": [
    "for n in countdown(10):\n",
    "    print n,"
   ]
  },
  {
   "cell_type": "markdown",
   "metadata": {},
   "source": [
    "+ `generator` 함수를 호출하는것은 `generator` 객체를 생성하는것이지 함수를 실행하는 것이 아님\n",
    "+ `generator`.next() 를 호출하면 함수가 실행되고, \n",
    "+ `yield` 를 통해서 값을 **생성**하고, 함수의 실행을 잠시 중단하고, \n",
    "+ `.next()` 호출을 통해 실행을 재개한다. \n",
    "+ `generator` 가 리턴하면, iteration 은 멈춘다."
   ]
  },
  {
   "cell_type": "code",
   "execution_count": 26,
   "metadata": {
    "collapsed": false
   },
   "outputs": [
    {
     "name": "stdout",
     "output_type": "stream",
     "text": [
      "<generator object countdown at 0x035BD8F0>\n",
      "> counting down from 3\n",
      "3\n",
      "2\n",
      "1\n",
      "\n",
      "< countdown\n"
     ]
    },
    {
     "ename": "StopIteration",
     "evalue": "",
     "output_type": "error",
     "traceback": [
      "\u001b[1;31m---------------------------------------------------------------------------\u001b[0m\n\u001b[1;31mStopIteration\u001b[0m                             Traceback (most recent call last)",
      "\u001b[1;32m<ipython-input-26-b93f85de60e0>\u001b[0m in \u001b[0;36m<module>\u001b[1;34m()\u001b[0m\n\u001b[0;32m      7\u001b[0m \u001b[1;32mprint\u001b[0m \u001b[0mx\u001b[0m\u001b[1;33m.\u001b[0m\u001b[0mnext\u001b[0m\u001b[1;33m(\u001b[0m\u001b[1;33m)\u001b[0m\u001b[1;33m\u001b[0m\u001b[0m\n\u001b[0;32m      8\u001b[0m \u001b[1;32mprint\u001b[0m \u001b[0mx\u001b[0m\u001b[1;33m.\u001b[0m\u001b[0mnext\u001b[0m\u001b[1;33m(\u001b[0m\u001b[1;33m)\u001b[0m\u001b[1;33m\u001b[0m\u001b[0m\n\u001b[1;32m----> 9\u001b[1;33m \u001b[1;32mprint\u001b[0m \u001b[0mx\u001b[0m\u001b[1;33m.\u001b[0m\u001b[0mnext\u001b[0m\u001b[1;33m(\u001b[0m\u001b[1;33m)\u001b[0m\u001b[1;33m\u001b[0m\u001b[0m\n\u001b[0m\u001b[0;32m     10\u001b[0m \u001b[1;33m\u001b[0m\u001b[0m\n",
      "\u001b[1;31mStopIteration\u001b[0m: "
     ]
    }
   ],
   "source": [
    "# calling generator fucntion creates the generator object not start the function\n",
    "x = countdown(3)\n",
    "print x\n",
    "\n",
    "# call `.next()` starts generator object.\n",
    "print x.next()\n",
    "print x.next()\n",
    "print x.next()\n",
    "print x.next()\n",
    "\n"
   ]
  },
  {
   "cell_type": "markdown",
   "metadata": {},
   "source": [
    "## tail -f (python version)"
   ]
  },
  {
   "cell_type": "code",
   "execution_count": 32,
   "metadata": {
    "collapsed": false
   },
   "outputs": [
    {
     "name": "stdout",
     "output_type": "stream",
     "text": [
      "d:\\work.python\\ipython_notebook\\python_async_stuffs\n"
     ]
    }
   ],
   "source": [
    "import os\n",
    "print os.getcwd()"
   ]
  },
  {
   "cell_type": "code",
   "execution_count": 37,
   "metadata": {
    "collapsed": false
   },
   "outputs": [
    {
     "ename": "KeyboardInterrupt",
     "evalue": "",
     "output_type": "error",
     "traceback": [
      "\u001b[1;31m---------------------------------------------------------------------------\u001b[0m\n\u001b[1;31mKeyboardInterrupt\u001b[0m                         Traceback (most recent call last)",
      "\u001b[1;32m<ipython-input-37-857ca5c48920>\u001b[0m in \u001b[0;36m<module>\u001b[1;34m()\u001b[0m\n\u001b[0;32m     28\u001b[0m \u001b[1;31m#logfile = open(\"run/foo/access-log\",\"r\")\u001b[0m\u001b[1;33m\u001b[0m\u001b[1;33m\u001b[0m\u001b[0m\n\u001b[0;32m     29\u001b[0m \u001b[0mlogfile\u001b[0m \u001b[1;33m=\u001b[0m \u001b[0mopen\u001b[0m\u001b[1;33m(\u001b[0m\u001b[1;34mr'd:\\work.python\\python_async_stuffs\\coroutine_www.dabeaz.com\\run\\foo\\access-log'\u001b[0m\u001b[1;33m)\u001b[0m\u001b[1;33m\u001b[0m\u001b[0m\n\u001b[1;32m---> 30\u001b[1;33m \u001b[1;32mfor\u001b[0m \u001b[0mline\u001b[0m \u001b[1;32min\u001b[0m \u001b[0mfollow\u001b[0m\u001b[1;33m(\u001b[0m\u001b[0mlogfile\u001b[0m\u001b[1;33m)\u001b[0m\u001b[1;33m:\u001b[0m\u001b[1;33m\u001b[0m\u001b[0m\n\u001b[0m\u001b[0;32m     31\u001b[0m     \u001b[1;32mprint\u001b[0m \u001b[0mline\u001b[0m\u001b[1;33m,\u001b[0m\u001b[1;33m\u001b[0m\u001b[0m\n",
      "\u001b[1;32m<ipython-input-37-857ca5c48920>\u001b[0m in \u001b[0;36mfollow\u001b[1;34m(thefile)\u001b[0m\n\u001b[0;32m     13\u001b[0m         \u001b[0mline\u001b[0m \u001b[1;33m=\u001b[0m \u001b[0mthefile\u001b[0m\u001b[1;33m.\u001b[0m\u001b[0mreadline\u001b[0m\u001b[1;33m(\u001b[0m\u001b[1;33m)\u001b[0m\u001b[1;33m\u001b[0m\u001b[0m\n\u001b[0;32m     14\u001b[0m         \u001b[1;32mif\u001b[0m \u001b[1;32mnot\u001b[0m \u001b[0mline\u001b[0m\u001b[1;33m:\u001b[0m\u001b[1;33m\u001b[0m\u001b[0m\n\u001b[1;32m---> 15\u001b[1;33m             \u001b[0mtime\u001b[0m\u001b[1;33m.\u001b[0m\u001b[0msleep\u001b[0m\u001b[1;33m(\u001b[0m\u001b[1;36m0.1\u001b[0m\u001b[1;33m)\u001b[0m\u001b[1;33m\u001b[0m\u001b[0m\n\u001b[0m\u001b[0;32m     16\u001b[0m             \u001b[1;32mcontinue\u001b[0m\u001b[1;33m\u001b[0m\u001b[0m\n\u001b[0;32m     17\u001b[0m         \u001b[1;32myield\u001b[0m \u001b[0mline\u001b[0m\u001b[1;33m\u001b[0m\u001b[0m\n",
      "\u001b[1;31mKeyboardInterrupt\u001b[0m: "
     ]
    }
   ],
   "source": [
    "\"\"\"\n",
    "generator 강의자료에 run/foo/xxx 등이 있는데 거기에 있는걸 복사해서 실행환경을 만들면 됨\n",
    "\"\"\"\n",
    "# follow.py\n",
    "#\n",
    "# Follow a file like tail -f.\n",
    "\n",
    "import time\n",
    "\n",
    "def follow(thefile):\n",
    "    thefile.seek(0,2)\n",
    "    while True:\n",
    "        line = thefile.readline()\n",
    "        if not line:\n",
    "            time.sleep(0.1)\n",
    "            continue\n",
    "        yield line\n",
    "\n",
    "# Example use\n",
    "# Note : This example requires the use of an apache log simulator.\n",
    "# \n",
    "# Go to the directory run/foo and run the program 'logsim.py' from\n",
    "# that directory.   Run this program as a background process and\n",
    "# leave it running in a separate window.  We'll write program\n",
    "# that read the output file being generated\n",
    "# \n",
    "\n",
    "#logfile = open(\"run/foo/access-log\",\"r\")\n",
    "logfile = open(r'd:\\work.python\\python_async_stuffs\\coroutine_www.dabeaz.com\\run\\foo\\access-log')\n",
    "for line in follow(logfile):\n",
    "    print line,"
   ]
  },
  {
   "cell_type": "markdown",
   "metadata": {},
   "source": [
    "## Coroutine\n",
    "+ yield 를 표현식으로, \n",
    "+ next() 또는 send(None) 메소드로 함수를 시작하고\n",
    "+ yield 를 통해 값을 대기하고, send() 메소드로 값을 전달"
   ]
  },
  {
   "cell_type": "code",
   "execution_count": 40,
   "metadata": {
    "collapsed": false
   },
   "outputs": [],
   "source": [
    "def grep(pattern):\n",
    "    print 'looking for %s' % pattern\n",
    "    while True:\n",
    "        line = (yield)\n",
    "        if pattern in line:\n",
    "            print line,"
   ]
  },
  {
   "cell_type": "code",
   "execution_count": 47,
   "metadata": {
    "collapsed": false
   },
   "outputs": [
    {
     "name": "stdout",
     "output_type": "stream",
     "text": [
      "looking for python\n",
      "wow python rocks!\n"
     ]
    }
   ],
   "source": [
    "g = grep(\"python\")\n",
    "g.next()   # prime it!\n",
    "g.send(\"hey!!\")\n",
    "g.send(\"welcome to koread\")\n",
    "g.send(\"wow python rocks!\")\n",
    "g.send(\"really?\")"
   ]
  },
  {
   "cell_type": "markdown",
   "metadata": {},
   "source": [
    "+ next() 는 까먹기 쉬우니까 decorator 를 이용하자.\n",
    "+ 종료시에는 close() 를 호출하자 (가비지 컬렉터가 알아서 close() 를 호출하지만)\n",
    "+ close() 를 호출하면 `GeneratorExit` 예외가 발생하니까 coroutine 에서 잡아준다. "
   ]
  },
  {
   "cell_type": "code",
   "execution_count": 55,
   "metadata": {
    "collapsed": false
   },
   "outputs": [],
   "source": [
    "def coroutine(func):\n",
    "    \"\"\"\n",
    "    \n",
    "    \"\"\"\n",
    "    def start_coroutine(*args, **kwargs):\n",
    "        crtn = func(*args, **kwargs);\n",
    "        crtn.next()\n",
    "        return crtn\n",
    "    return start_coroutine"
   ]
  },
  {
   "cell_type": "code",
   "execution_count": 77,
   "metadata": {
    "collapsed": false
   },
   "outputs": [],
   "source": [
    "@coroutine\n",
    "def grep(pattern):\n",
    "    print '[*] looking for %s' % pattern\n",
    "    try:\n",
    "        while True:\n",
    "            line = (yield)\n",
    "            if pattern in line:\n",
    "                print line,\n",
    "    except GeneratorExit as e:\n",
    "        print '\\n[*] Going away, bye (gc or U called close())'\n",
    "    "
   ]
  },
  {
   "cell_type": "code",
   "execution_count": 79,
   "metadata": {
    "collapsed": false
   },
   "outputs": [
    {
     "name": "stdout",
     "output_type": "stream",
     "text": [
      "[*] looking for python\n",
      "wow python rocks! \n",
      "[*] Going away, bye (gc or U called close())\n"
     ]
    }
   ],
   "source": [
    "g = grep('python')\n",
    "#g.next()   # no need to call next()\n",
    "g.send(\"hey!!\")\n",
    "g.send(\"welcome to koread\")\n",
    "g.send(\"wow python rocks!\")\n",
    "g.close()"
   ]
  },
  {
   "cell_type": "markdown",
   "metadata": {},
   "source": [
    "## 예외 던지기"
   ]
  },
  {
   "cell_type": "code",
   "execution_count": 83,
   "metadata": {
    "collapsed": false
   },
   "outputs": [
    {
     "name": "stdout",
     "output_type": "stream",
     "text": [
      "[*] looking for python\n",
      "\n",
      "[*] Going away, bye (gc or U called close())\n",
      "wow! python is rock! wow! python is rock! wow! python is rock!"
     ]
    },
    {
     "ename": "RuntimeError",
     "evalue": "exception thrown",
     "output_type": "error",
     "traceback": [
      "\u001b[1;31m---------------------------------------------------------------------------\u001b[0m\n\u001b[1;31mRuntimeError\u001b[0m                              Traceback (most recent call last)",
      "\u001b[1;32m<ipython-input-83-573c8937e6d6>\u001b[0m in \u001b[0;36m<module>\u001b[1;34m()\u001b[0m\n\u001b[0;32m      3\u001b[0m \u001b[0mg\u001b[0m\u001b[1;33m.\u001b[0m\u001b[0msend\u001b[0m\u001b[1;33m(\u001b[0m\u001b[1;34m'wow! python is rock!'\u001b[0m\u001b[1;33m)\u001b[0m\u001b[1;33m\u001b[0m\u001b[0m\n\u001b[0;32m      4\u001b[0m \u001b[0mg\u001b[0m\u001b[1;33m.\u001b[0m\u001b[0msend\u001b[0m\u001b[1;33m(\u001b[0m\u001b[1;34m'wow! python is rock!'\u001b[0m\u001b[1;33m)\u001b[0m\u001b[1;33m\u001b[0m\u001b[0m\n\u001b[1;32m----> 5\u001b[1;33m \u001b[0mg\u001b[0m\u001b[1;33m.\u001b[0m\u001b[0mthrow\u001b[0m\u001b[1;33m(\u001b[0m\u001b[0mRuntimeError\u001b[0m\u001b[1;33m,\u001b[0m \u001b[1;34m\"exception thrown\"\u001b[0m\u001b[1;33m)\u001b[0m\u001b[1;33m\u001b[0m\u001b[0m\n\u001b[0m",
      "\u001b[1;32m<ipython-input-77-849e2bda9321>\u001b[0m in \u001b[0;36mgrep\u001b[1;34m(pattern)\u001b[0m\n\u001b[0;32m      4\u001b[0m     \u001b[1;32mtry\u001b[0m\u001b[1;33m:\u001b[0m\u001b[1;33m\u001b[0m\u001b[0m\n\u001b[0;32m      5\u001b[0m         \u001b[1;32mwhile\u001b[0m \u001b[0mTrue\u001b[0m\u001b[1;33m:\u001b[0m\u001b[1;33m\u001b[0m\u001b[0m\n\u001b[1;32m----> 6\u001b[1;33m             \u001b[0mline\u001b[0m \u001b[1;33m=\u001b[0m \u001b[1;33m(\u001b[0m\u001b[1;32myield\u001b[0m\u001b[1;33m)\u001b[0m\u001b[1;33m\u001b[0m\u001b[0m\n\u001b[0m\u001b[0;32m      7\u001b[0m             \u001b[1;32mif\u001b[0m \u001b[0mpattern\u001b[0m \u001b[1;32min\u001b[0m \u001b[0mline\u001b[0m\u001b[1;33m:\u001b[0m\u001b[1;33m\u001b[0m\u001b[0m\n\u001b[0;32m      8\u001b[0m                 \u001b[1;32mprint\u001b[0m \u001b[0mline\u001b[0m\u001b[1;33m,\u001b[0m\u001b[1;33m\u001b[0m\u001b[0m\n",
      "\u001b[1;31mRuntimeError\u001b[0m: exception thrown"
     ]
    }
   ],
   "source": [
    "g = grep('python')\n",
    "g.send('wow! python is rock!')\n",
    "g.send('wow! python is rock!')\n",
    "g.send('wow! python is rock!')\n",
    "g.throw(RuntimeError, \"exception thrown\")"
   ]
  },
  {
   "cell_type": "markdown",
   "metadata": {},
   "source": [
    "## bogus sample"
   ]
  },
  {
   "cell_type": "code",
   "execution_count": 85,
   "metadata": {
    "collapsed": false
   },
   "outputs": [
    {
     "name": "stdout",
     "output_type": "stream",
     "text": [
      "Counting down from 5\n",
      "5\n",
      "2\n",
      "1\n",
      "0\n"
     ]
    }
   ],
   "source": [
    "# bogus.py\n",
    "#\n",
    "# Bogus example of a generator that produces and receives values\n",
    "\n",
    "def countdown(n):\n",
    "    print \"Counting down from\", n\n",
    "    while n >= 0:\n",
    "        newvalue = (yield n)\n",
    "        # If a new value got sent in, reset n with it\n",
    "        if newvalue is not None:\n",
    "            n = newvalue\n",
    "        else:\n",
    "            n -= 1\n",
    "\n",
    "# The holy grail countdown\n",
    "c = countdown(5)\n",
    "for x in c:\n",
    "    print x\n",
    "    if x == 5:\n",
    "        c.send(3)"
   ]
  },
  {
   "cell_type": "markdown",
   "metadata": {},
   "source": [
    "## 정리\n",
    "+ **generator 는 iteration 을 위해 데이터를 생성한다.   (producer)**\n",
    "+ **coroutine 은 데이터의 사용자이다. (consumer)**\n",
    "+ **coroutine 은 iteration 과 아무 상관없다. **"
   ]
  },
  {
   "cell_type": "markdown",
   "metadata": {},
   "source": [
    "---\n",
    "# [Part II] Coroutines, Pipelines, and Dataflow"
   ]
  },
  {
   "cell_type": "markdown",
   "metadata": {
    "collapsed": false
   },
   "source": [
    "+ coroutine 은 파이프를 설치하는데 사용할 수 있음\n",
    "+ send() -> [coroutine] -> send() -> [coroutine] ->"
   ]
  },
  {
   "cell_type": "markdown",
   "metadata": {},
   "source": [
    "## example"
   ]
  },
  {
   "cell_type": "code",
   "execution_count": 13,
   "metadata": {
    "collapsed": false
   },
   "outputs": [
    {
     "name": "stdout",
     "output_type": "stream",
     "text": [
      "67.195.44.107 - - [24/Feb/2008:06:00:26 -0600] \"GET /robots.txt HTTP/1.0\" 200 71\n",
      "\n",
      "86.157.119.197 - - [24/Feb/2008:06:00:44 -0600] \"GET /favicon.ico HTTP/1.1\" 404 133\n",
      "\n"
     ]
    },
    {
     "ename": "KeyboardInterrupt",
     "evalue": "",
     "output_type": "error",
     "traceback": [
      "\u001b[1;31m---------------------------------------------------------------------------\u001b[0m",
      "\u001b[1;31mKeyboardInterrupt\u001b[0m                         Traceback (most recent call last)",
      "\u001b[1;32m<ipython-input-13-03233fc77ce1>\u001b[0m in \u001b[0;36m<module>\u001b[1;34m()\u001b[0m\n\u001b[0;32m     35\u001b[0m \u001b[0mf\u001b[0m \u001b[1;33m=\u001b[0m \u001b[0mopen\u001b[0m\u001b[1;33m(\u001b[0m\u001b[1;34mr'd:\\work.python\\python_async_stuffs\\coroutine_www.dabeaz.com\\run\\foo\\access-log'\u001b[0m\u001b[1;33m)\u001b[0m\u001b[1;33m\u001b[0m\u001b[0m\n\u001b[0;32m     36\u001b[0m \u001b[1;31m#follow(f, printer)   # 요거는 오류 남, 'AttributeError: 'function' object has no attribute 'send'\u001b[0m\u001b[1;33m\u001b[0m\u001b[1;33m\u001b[0m\u001b[0m\n\u001b[1;32m---> 37\u001b[1;33m \u001b[0mfollow\u001b[0m\u001b[1;33m(\u001b[0m \u001b[0mf\u001b[0m\u001b[1;33m,\u001b[0m \u001b[0mprinter\u001b[0m\u001b[1;33m(\u001b[0m\u001b[1;33m)\u001b[0m \u001b[1;33m)\u001b[0m\u001b[1;33m\u001b[0m\u001b[0m\n\u001b[0m\u001b[0;32m     38\u001b[0m \u001b[1;33m\u001b[0m\u001b[0m\n",
      "\u001b[1;32m<ipython-input-13-03233fc77ce1>\u001b[0m in \u001b[0;36mfollow\u001b[1;34m(thefile, target)\u001b[0m\n\u001b[0;32m     20\u001b[0m         \u001b[0mline\u001b[0m \u001b[1;33m=\u001b[0m \u001b[0mthefile\u001b[0m\u001b[1;33m.\u001b[0m\u001b[0mreadline\u001b[0m\u001b[1;33m(\u001b[0m\u001b[1;33m)\u001b[0m\u001b[1;33m\u001b[0m\u001b[0m\n\u001b[0;32m     21\u001b[0m         \u001b[1;32mif\u001b[0m \u001b[1;32mnot\u001b[0m \u001b[0mline\u001b[0m\u001b[1;33m:\u001b[0m\u001b[1;33m\u001b[0m\u001b[0m\n\u001b[1;32m---> 22\u001b[1;33m             \u001b[0mtime\u001b[0m\u001b[1;33m.\u001b[0m\u001b[0msleep\u001b[0m\u001b[1;33m(\u001b[0m\u001b[1;36m0.1\u001b[0m\u001b[1;33m)\u001b[0m\u001b[1;33m\u001b[0m\u001b[0m\n\u001b[0m\u001b[0;32m     23\u001b[0m             \u001b[1;32mcontinue\u001b[0m\u001b[1;33m\u001b[0m\u001b[0m\n\u001b[0;32m     24\u001b[0m \u001b[1;33m\u001b[0m\u001b[0m\n",
      "\u001b[1;31mKeyboardInterrupt\u001b[0m: "
     ]
    }
   ],
   "source": [
    "import time\n",
    "\n",
    "def coroutine(func):\n",
    "    \"\"\"A decorator function that takes care of starting a coroutine\n",
    "    automatically on call.\n",
    "\n",
    "    \"\"\"\n",
    "    def start(*args,**kwargs):\n",
    "        cr = func(*args,**kwargs)\n",
    "        cr.next()\n",
    "        #print 'coroutine started...'\n",
    "        return cr\n",
    "    \n",
    "    return start\n",
    "\n",
    "# data source\n",
    "def follow(thefile, target):\n",
    "    thefile.seek(0, 2)      # goto end of the file\n",
    "    while True:\n",
    "        line = thefile.readline()\n",
    "        if not line:\n",
    "            time.sleep(0.1)\n",
    "            continue\n",
    "        \n",
    "        target.send(line)    # 최초로 호출되는 시점에 객체(target)가 생성됨 \n",
    "        \n",
    "# sink - a coroutine that receives data\n",
    "@coroutine\n",
    "def printer():\n",
    "    while True:\n",
    "        line = (yield)\n",
    "        print line\n",
    "        \n",
    "# useage\n",
    "f = open(r'd:\\work.python\\python_async_stuffs\\coroutine_www.dabeaz.com\\run\\foo\\access-log')\n",
    "#follow(f, printer)   # 요거는 오류 남, 'AttributeError: 'function' object has no attribute 'send'\n",
    "follow( f, printer() )  \n",
    "\n"
   ]
  },
  {
   "cell_type": "markdown",
   "metadata": {},
   "source": [
    "## Filter example"
   ]
  },
  {
   "cell_type": "code",
   "execution_count": 16,
   "metadata": {
    "collapsed": false,
    "scrolled": true
   },
   "outputs": [
    {
     "name": "stdout",
     "output_type": "stream",
     "text": [
      "no  128.143.38.123 - - [24/Feb/2008:10:31:14 -0600] \"GET /favicon.ico HTTP/1.1\" 404 133\n",
      "\n",
      "no  71.206.180.32 - - [24/Feb/2008:10:31:38 -0600] \"GET /ply/ply.html HTTP/1.1\" 200 97238\n",
      "\n",
      "no  71.206.180.32 - - [24/Feb/2008:10:31:40 -0600] \"GET /favicon.ico HTTP/1.1\" 404 133\n",
      "\n",
      "no  71.206.180.32 - - [24/Feb/2008:10:31:40 -0600] \"GET /favicon.ico HTTP/1.1\" 404 133\n",
      "\n",
      "no  74.6.8.73 - - [24/Feb/2008:10:34:02 -0600] \"GET /ply/ply-1.3.1.tar.gz HTTP/1.0\" 304 -\n",
      "\n"
     ]
    },
    {
     "ename": "KeyboardInterrupt",
     "evalue": "",
     "output_type": "error",
     "traceback": [
      "\u001b[1;31m---------------------------------------------------------------------------\u001b[0m",
      "\u001b[1;31mKeyboardInterrupt\u001b[0m                         Traceback (most recent call last)",
      "\u001b[1;32m<ipython-input-16-012153cf2e24>\u001b[0m in \u001b[0;36m<module>\u001b[1;34m()\u001b[0m\n\u001b[0;32m     28\u001b[0m \u001b[1;31m# useage\u001b[0m\u001b[1;33m\u001b[0m\u001b[1;33m\u001b[0m\u001b[0m\n\u001b[0;32m     29\u001b[0m \u001b[0mf\u001b[0m \u001b[1;33m=\u001b[0m \u001b[0mopen\u001b[0m\u001b[1;33m(\u001b[0m\u001b[1;34mr'd:\\work.python\\python_async_stuffs\\coroutine_www.dabeaz.com\\run\\foo\\access-log'\u001b[0m\u001b[1;33m)\u001b[0m\u001b[1;33m\u001b[0m\u001b[0m\n\u001b[1;32m---> 30\u001b[1;33m \u001b[0mfollow\u001b[0m\u001b[1;33m(\u001b[0m \u001b[0mf\u001b[0m\u001b[1;33m,\u001b[0m \u001b[0mgrep\u001b[0m\u001b[1;33m(\u001b[0m\u001b[1;34m'python'\u001b[0m\u001b[1;33m,\u001b[0m \u001b[0mprinter\u001b[0m\u001b[1;33m(\u001b[0m\u001b[1;33m)\u001b[0m\u001b[1;33m)\u001b[0m \u001b[1;33m)\u001b[0m\u001b[1;33m\u001b[0m\u001b[0m\n\u001b[0m",
      "\u001b[1;32m<ipython-input-16-012153cf2e24>\u001b[0m in \u001b[0;36mfollow\u001b[1;34m(thefile, target)\u001b[0m\n\u001b[0;32m      5\u001b[0m         \u001b[0mline\u001b[0m \u001b[1;33m=\u001b[0m \u001b[0mthefile\u001b[0m\u001b[1;33m.\u001b[0m\u001b[0mreadline\u001b[0m\u001b[1;33m(\u001b[0m\u001b[1;33m)\u001b[0m\u001b[1;33m\u001b[0m\u001b[0m\n\u001b[0;32m      6\u001b[0m         \u001b[1;32mif\u001b[0m \u001b[1;32mnot\u001b[0m \u001b[0mline\u001b[0m\u001b[1;33m:\u001b[0m\u001b[1;33m\u001b[0m\u001b[0m\n\u001b[1;32m----> 7\u001b[1;33m             \u001b[0mtime\u001b[0m\u001b[1;33m.\u001b[0m\u001b[0msleep\u001b[0m\u001b[1;33m(\u001b[0m\u001b[1;36m0.1\u001b[0m\u001b[1;33m)\u001b[0m\u001b[1;33m\u001b[0m\u001b[0m\n\u001b[0m\u001b[0;32m      8\u001b[0m             \u001b[1;32mcontinue\u001b[0m\u001b[1;33m\u001b[0m\u001b[0m\n\u001b[0;32m      9\u001b[0m         \u001b[0mtarget\u001b[0m\u001b[1;33m.\u001b[0m\u001b[0msend\u001b[0m\u001b[1;33m(\u001b[0m\u001b[0mline\u001b[0m\u001b[1;33m)\u001b[0m\u001b[1;33m\u001b[0m\u001b[0m\n",
      "\u001b[1;31mKeyboardInterrupt\u001b[0m: "
     ]
    }
   ],
   "source": [
    "# data source\n",
    "def follow(thefile, target):\n",
    "    thefile.seek(0, 2)\n",
    "    while True:\n",
    "        line = thefile.readline()\n",
    "        if not line:\n",
    "            time.sleep(0.1)\n",
    "            continue            \n",
    "        target.send(line)\n",
    "        \n",
    "# filter        \n",
    "@coroutine\n",
    "def grep(pattern, target):\n",
    "    while True:\n",
    "        line = (yield)              # receive a line\n",
    "        if pattern in line:\n",
    "            target.send(line)       # send to next stage\n",
    "        \n",
    "# sink - a coroutine that receives data\n",
    "@coroutine\n",
    "def printer():\n",
    "    while True:\n",
    "        line = (yield)\n",
    "        print line,\n",
    "\n",
    "# useage\n",
    "f = open(r'd:\\work.python\\python_async_stuffs\\coroutine_www.dabeaz.com\\run\\foo\\access-log')\n",
    "follow( f, grep('python', printer()) )  \n"
   ]
  },
  {
   "cell_type": "markdown",
   "metadata": {},
   "source": [
    "## Interlude"
   ]
  },
  {
   "cell_type": "code",
   "execution_count": null,
   "metadata": {
    "collapsed": true
   },
   "outputs": [],
   "source": []
  }
 ],
 "metadata": {
  "kernelspec": {
   "display_name": "Python 2",
   "language": "python",
   "name": "python2"
  },
  "language_info": {
   "codemirror_mode": {
    "name": "ipython",
    "version": 2
   },
   "file_extension": ".py",
   "mimetype": "text/x-python",
   "name": "python",
   "nbconvert_exporter": "python",
   "pygments_lexer": "ipython2",
   "version": "2.7.9"
  }
 },
 "nbformat": 4,
 "nbformat_minor": 0
}
