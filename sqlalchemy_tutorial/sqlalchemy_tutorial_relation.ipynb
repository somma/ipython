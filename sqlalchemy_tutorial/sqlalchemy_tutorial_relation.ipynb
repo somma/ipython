{
 "cells": [
  {
   "cell_type": "markdown",
   "metadata": {},
   "source": [
    "# Building Relationship\n",
    "---"
   ]
  },
  {
   "cell_type": "code",
   "execution_count": 1,
   "metadata": {
    "collapsed": false
   },
   "outputs": [],
   "source": [
    "from sqlalchemy import create_engine\n",
    "from sqlalchemy import Column, Integer, String\n",
    "from sqlalchemy import ForeignKey\n",
    "from sqlalchemy import func\n",
    "\n",
    "from sqlalchemy.ext.declarative import declarative_base\n",
    "from sqlalchemy.orm import sessionmaker\n",
    "from sqlalchemy.orm import relationship, backref\n",
    "\n",
    "# connect to database\n",
    "engine = create_engine('sqlite:///:memory:', echo = False)\n",
    "\n",
    "# create base class for ORM\n",
    "Base = declarative_base()\n",
    "\n",
    "# create database schema\n",
    "class User(Base):\n",
    "    __tablename__ = 'users'\n",
    "    \n",
    "    id = Column(Integer, primary_key = True)\n",
    "    name = Column(String)\n",
    "    fullname = Column(String)\n",
    "    password = Column(String)\n",
    "    \n",
    "    def __repr__(self):\n",
    "        return '<User (id = {0}, name = {1}, fullname = {2}, passowrd = {3})>'.format(self.id, self.name, self.fullname, self.password)\n",
    "    \n",
    "class Address(Base):\n",
    "    __tablename__ = 'addresses'\n",
    "    \n",
    "    id = Column(Integer, primary_key = True)\n",
    "    email_address = Column(String, nullable = False)\n",
    "    \n",
    "    # `relationship()` 는 ORM 에게 `Address.user` 를 통해서 `User` 클래스와 연결하게 만드는데, \n",
    "    # 이때 두 테이블간의 연결은 `ForeignKey` 관계를 이용한다. \n",
    "    #\n",
    "    # `relationship( ... backref = backref(''))` 는 거꾸로의 연결을 생성한다. \n",
    "    # `User.addresses` 를 통해서 `Address.id` 로 정렬된 `Address` 클래스로의 연결을 찾을 수 있다. \n",
    "    user_id = Column(Integer, ForeignKey('users.id'))\n",
    "    user = relationship('User', backref = backref('addresses', order_by = id))\n",
    "    \n",
    "    def __repr__(self):\n",
    "        return '<Address (id = {0}, email_address = {1})>'.format(self.id, self.email_address)\n",
    "                \n",
    "    \n",
    "    \n",
    "# create table    \n",
    "Base.metadata.create_all(engine)\n",
    "\n",
    "# create ORM's handle to database called `session`\n",
    "Session = sessionmaker(bind=engine)\n",
    "session = Session()"
   ]
  },
  {
   "cell_type": "markdown",
   "metadata": {},
   "source": [
    "# Playing with Related Objects\n",
    "---"
   ]
  },
  {
   "cell_type": "code",
   "execution_count": 2,
   "metadata": {
    "collapsed": false
   },
   "outputs": [
    {
     "name": "stdout",
     "output_type": "stream",
     "text": [
      "[]\n",
      "[]\n",
      "<Address (id = None, email_address = abc@jack.com)>\n",
      "<Address (id = None, email_address = jack@jack.com)>\n"
     ]
    }
   ],
   "source": [
    "# add instances\n",
    "ed_user = User(name = 'ed', fullname = 'ed jones', password = 'ed_passwd')\n",
    "jack = User(name = 'jack', fullname = 'jack bean', password = 'jack_password')\n",
    "\n",
    "print ed_user.addresses\n",
    "print jack.addresses\n",
    "\n",
    "jack.addresses = \\\n",
    "    [\n",
    "        Address(email_address = 'abc@jack.com'), \n",
    "        Address(email_address = 'jack@jack.com')\n",
    "    ]\n",
    "    \n",
    "print jack.addresses[0]\n",
    "print jack.addresses[1]\n",
    "\n",
    "# insert into database\n",
    "session.add_all([ed_user, jack])\n",
    "session.commit()\n"
   ]
  },
  {
   "cell_type": "code",
   "execution_count": 3,
   "metadata": {
    "collapsed": false
   },
   "outputs": [
    {
     "name": "stdout",
     "output_type": "stream",
     "text": [
      "<Address (id = 1, email_address = abc@jack.com)>\n",
      "<Address (id = 2, email_address = jack@jack.com)>\n",
      "user = <User (id = 1, name = ed, fullname = ed jones, passowrd = ed_passwd)>\n",
      "user = <User (id = 2, name = jack, fullname = jack bean, passowrd = jack_password)>\n",
      "... email_address = <Address (id = 1, email_address = abc@jack.com)>\n",
      "... email_address = <Address (id = 2, email_address = jack@jack.com)>\n"
     ]
    }
   ],
   "source": [
    "# select `addresses` table\n",
    "for address in session.query(Address).all():\n",
    "    print address\n",
    "\n",
    "# select all\n",
    "for user in session.query(User).all():\n",
    "    print 'user = {0}'.format(user)\n",
    "    for email_address in user.addresses:\n",
    "        print '... email_address = {0}'.format(email_address)\n",
    "        \n",
    "        \n",
    "        \n"
   ]
  },
  {
   "cell_type": "markdown",
   "metadata": {},
   "source": [
    "# Querying with Joins\n",
    "---"
   ]
  },
  {
   "cell_type": "code",
   "execution_count": 4,
   "metadata": {
    "collapsed": false
   },
   "outputs": [
    {
     "name": "stdout",
     "output_type": "stream",
     "text": [
      "> <User (id = 2, name = jack, fullname = jack bean, passowrd = jack_password)>\n",
      "> <Address (id = 2, email_address = jack@jack.com)>\n",
      "> [<User (id = 2, name = jack, fullname = jack bean, passowrd = jack_password)>]\n",
      "> [<User (id = 2, name = jack, fullname = jack bean, passowrd = jack_password)>]\n",
      "> [<User (id = 2, name = jack, fullname = jack bean, passowrd = jack_password)>]\n",
      "> [<User (id = 2, name = jack, fullname = jack bean, passowrd = jack_password)>]\n",
      "> [<User (id = 2, name = jack, fullname = jack bean, passowrd = jack_password)>]\n",
      "> <User (id = 1, name = ed, fullname = ed jones, passowrd = ed_passwd)>\n",
      "> <User (id = 2, name = jack, fullname = jack bean, passowrd = jack_password)>\n"
     ]
    }
   ],
   "source": [
    "for u, a in session.query(User, Address).filter(User.id == Address.user_id).filter(Address.email_address == 'jack@jack.com').all():\n",
    "    print '> {0}'.format(u)\n",
    "    print '> {0}'.format(a)\n",
    "    \n",
    "    \n",
    "# more explicit way\n",
    "# no need to specify `User.id == Address.user_id`, because there are only one `ForeignKey` between them.\n",
    "print '> {0}'.format( session.query(User).join(Address).filter(Address.email_address == 'jack@jack.com').all() )\n",
    "        \n",
    "# if more than one ForeignKey or No `foreignkey` exists, use following form.\n",
    "print '> {0}'.format( session.query(User).join(Address, User.id == Address.user_id).filter(Address.email_address == 'jack@jack.com').all() )\n",
    "print '> {0}'.format( session.query(User).join(User.addresses).filter(Address.email_address == 'jack@jack.com').all() )\n",
    "print '> {0}'.format( session.query(User).join(Address, User.addresses).filter(Address.email_address == 'jack@jack.com').all() )\n",
    "print '> {0}'.format( session.query(User).join('addresses').filter(Address.email_address == 'jack@jack.com').all() )\n",
    "\n",
    "    \n",
    "# outerjoin() - LEFT OUTER JOIN\n",
    "for u in session.query(User).outerjoin(User.addresses).all():\n",
    "    print '> {0}'.format(u)"
   ]
  },
  {
   "cell_type": "markdown",
   "metadata": {},
   "source": [
    "# Using aliases\n",
    "---\n",
    "... to be continued..."
   ]
  },
  {
   "cell_type": "code",
   "execution_count": null,
   "metadata": {
    "collapsed": false
   },
   "outputs": [],
   "source": []
  },
  {
   "cell_type": "markdown",
   "metadata": {},
   "source": [
    "# Deleting\n",
    "---"
   ]
  },
  {
   "cell_type": "code",
   "execution_count": 5,
   "metadata": {
    "collapsed": false
   },
   "outputs": [
    {
     "name": "stdout",
     "output_type": "stream",
     "text": [
      "before count = 2\n",
      "after count = 1\n"
     ]
    }
   ],
   "source": [
    "print 'before count = {0}'.format( session.query(func.count(User.id)).scalar() )\n",
    "session.query(User).filter(User.name == 'jack').delete()\n",
    "session.expire_all()\n",
    "#session.commit()\n",
    "print 'after count = {0}'.format( session.query(func.count(User.id)).scalar() )"
   ]
  }
 ],
 "metadata": {
  "kernelspec": {
   "display_name": "Python 2",
   "language": "python",
   "name": "python2"
  },
  "language_info": {
   "codemirror_mode": {
    "name": "ipython",
    "version": 2
   },
   "file_extension": ".py",
   "mimetype": "text/x-python",
   "name": "python",
   "nbconvert_exporter": "python",
   "pygments_lexer": "ipython2",
   "version": "2.7.9"
  }
 },
 "nbformat": 4,
 "nbformat_minor": 0
}
