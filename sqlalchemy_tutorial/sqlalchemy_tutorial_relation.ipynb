{
 "metadata": {
  "name": "",
  "signature": "sha256:843e7804d6ef3e4373738b91feb29406427fbf4a0f869d41350be45e2e596839"
 },
 "nbformat": 3,
 "nbformat_minor": 0,
 "worksheets": [
  {
   "cells": [
    {
     "cell_type": "markdown",
     "metadata": {},
     "source": [
      "# Building Relationship\n",
      "---"
     ]
    },
    {
     "cell_type": "code",
     "collapsed": false,
     "input": [
      "from sqlalchemy import create_engine\n",
      "from sqlalchemy import Column, Integer, String\n",
      "from sqlalchemy import ForeignKey\n",
      "from sqlalchemy import func\n",
      "\n",
      "from sqlalchemy.ext.declarative import declarative_base\n",
      "from sqlalchemy.orm import sessionmaker\n",
      "from sqlalchemy.orm import relationship, backref\n",
      "\n",
      "# connect to database\n",
      "engine = create_engine('sqlite:///:memory:', echo = False)\n",
      "\n",
      "# create base class for ORM\n",
      "Base = declarative_base()\n",
      "\n",
      "# create database schema\n",
      "class User(Base):\n",
      "    __tablename__ = 'users'\n",
      "    \n",
      "    id = Column(Integer, primary_key = True)\n",
      "    name = Column(String)\n",
      "    fullname = Column(String)\n",
      "    password = Column(String)\n",
      "    \n",
      "    def __repr__(self):\n",
      "        return '<User (id = {0}, name = {1}, fullname = {2}, passowrd = {3})>'.format(self.id, self.name, self.fullname, self.password)\n",
      "    \n",
      "class Address(Base):\n",
      "    __tablename__ = 'addresses'\n",
      "    \n",
      "    id = Column(Integer, primary_key = True)\n",
      "    email_address = Column(String, nullable = False)\n",
      "    \n",
      "    # `relationship()` \ub294 ORM \uc5d0\uac8c `Address.user` \ub97c \ud1b5\ud574\uc11c `User` \ud074\ub798\uc2a4\uc640 \uc5f0\uacb0\ud558\uac8c \ub9cc\ub4dc\ub294\ub370, \n",
      "    # \uc774\ub54c \ub450 \ud14c\uc774\ube14\uac04\uc758 \uc5f0\uacb0\uc740 `ForeignKey` \uad00\uacc4\ub97c \uc774\uc6a9\ud55c\ub2e4. \n",
      "    #\n",
      "    # `relationship( ... backref = backref(''))` \ub294 \uac70\uafb8\ub85c\uc758 \uc5f0\uacb0\uc744 \uc0dd\uc131\ud55c\ub2e4. \n",
      "    # `User.addresses` \ub97c \ud1b5\ud574\uc11c `Address.id` \ub85c \uc815\ub82c\ub41c `Address` \ud074\ub798\uc2a4\ub85c\uc758 \uc5f0\uacb0\uc744 \ucc3e\uc744 \uc218 \uc788\ub2e4. \n",
      "    user_id = Column(Integer, ForeignKey('users.id'))\n",
      "    user = relationship('User', backref = backref('addresses', order_by = id))\n",
      "    \n",
      "    def __repr__(self):\n",
      "        return '<Address (id = {0}, email_address = {1})>'.format(self.id, self.email_address)\n",
      "                \n",
      "    \n",
      "    \n",
      "# create table    \n",
      "Base.metadata.create_all(engine)\n",
      "\n",
      "# create ORM's handle to database called `session`\n",
      "Session = sessionmaker(bind=engine)\n",
      "session = Session()"
     ],
     "language": "python",
     "metadata": {},
     "outputs": [],
     "prompt_number": 1
    },
    {
     "cell_type": "markdown",
     "metadata": {},
     "source": [
      "# Playing with Related Objects\n",
      "---"
     ]
    },
    {
     "cell_type": "code",
     "collapsed": false,
     "input": [
      "# add instances\n",
      "ed_user = User(name = 'ed', fullname = 'ed jones', password = 'ed_passwd')\n",
      "jack = User(name = 'jack', fullname = 'jack bean', password = 'jack_password')\n",
      "\n",
      "print ed_user.addresses\n",
      "print jack.addresses\n",
      "\n",
      "jack.addresses = \\\n",
      "    [\n",
      "        Address(email_address = 'abc@jack.com'), \n",
      "        Address(email_address = 'jack@jack.com')\n",
      "    ]\n",
      "    \n",
      "print jack.addresses[0]\n",
      "print jack.addresses[1]\n",
      "\n",
      "# insert into database\n",
      "session.add_all([ed_user, jack])\n",
      "session.commit()\n"
     ],
     "language": "python",
     "metadata": {},
     "outputs": [
      {
       "output_type": "stream",
       "stream": "stdout",
       "text": [
        "[]\n",
        "[]\n",
        "<Address (id = None, email_address = abc@jack.com)>\n",
        "<Address (id = None, email_address = jack@jack.com)>\n"
       ]
      }
     ],
     "prompt_number": 2
    },
    {
     "cell_type": "code",
     "collapsed": false,
     "input": [
      "# select `addresses` table\n",
      "for address in session.query(Address).all():\n",
      "    print address\n",
      "\n",
      "# select all\n",
      "for user in session.query(User).all():\n",
      "    print 'user = {0}'.format(user)\n",
      "    for email_address in user.addresses:\n",
      "        print '... email_address = {0}'.format(email_address)\n",
      "        \n",
      "        \n",
      "        \n"
     ],
     "language": "python",
     "metadata": {},
     "outputs": [
      {
       "output_type": "stream",
       "stream": "stdout",
       "text": [
        "<Address (id = 1, email_address = abc@jack.com)>\n",
        "<Address (id = 2, email_address = jack@jack.com)>\n",
        "user = <User (id = 1, name = ed, fullname = ed jones, passowrd = ed_passwd)>\n",
        "user = <User (id = 2, name = jack, fullname = jack bean, passowrd = jack_password)>\n",
        "... email_address = <Address (id = 1, email_address = abc@jack.com)>\n",
        "... email_address = <Address (id = 2, email_address = jack@jack.com)>\n"
       ]
      }
     ],
     "prompt_number": 3
    },
    {
     "cell_type": "markdown",
     "metadata": {},
     "source": [
      "# Querying with Joins\n",
      "---"
     ]
    },
    {
     "cell_type": "code",
     "collapsed": false,
     "input": [
      "for u, a in session.query(User, Address).filter(User.id == Address.user_id).filter(Address.email_address == 'jack@jack.com').all():\n",
      "    print '> {0}'.format(u)\n",
      "    print '> {0}'.format(a)\n",
      "    \n",
      "    \n",
      "# more explicit way\n",
      "# no need to specify `User.id == Address.user_id`, because there are only one `ForeignKey` between them.\n",
      "print '> {0}'.format( session.query(User).join(Address).filter(Address.email_address == 'jack@jack.com').all() )\n",
      "        \n",
      "# if more than one ForeignKey or No `foreignkey` exists, use following form.\n",
      "print '> {0}'.format( session.query(User).join(Address, User.id == Address.user_id).filter(Address.email_address == 'jack@jack.com').all() )\n",
      "print '> {0}'.format( session.query(User).join(User.addresses).filter(Address.email_address == 'jack@jack.com').all() )\n",
      "print '> {0}'.format( session.query(User).join(Address, User.addresses).filter(Address.email_address == 'jack@jack.com').all() )\n",
      "print '> {0}'.format( session.query(User).join('addresses').filter(Address.email_address == 'jack@jack.com').all() )\n",
      "\n",
      "    \n",
      "# outerjoin() - LEFT OUTER JOIN\n",
      "for u in session.query(User).outerjoin(User.addresses).all():\n",
      "    print '> {0}'.format(u)"
     ],
     "language": "python",
     "metadata": {},
     "outputs": [
      {
       "output_type": "stream",
       "stream": "stdout",
       "text": [
        "> <User (id = 2, name = jack, fullname = jack bean, passowrd = jack_password)>\n",
        "> <Address (id = 2, email_address = jack@jack.com)>\n",
        "> [<User (id = 2, name = jack, fullname = jack bean, passowrd = jack_password)>]\n",
        "> [<User (id = 2, name = jack, fullname = jack bean, passowrd = jack_password)>]\n",
        "> [<User (id = 2, name = jack, fullname = jack bean, passowrd = jack_password)>]\n",
        "> [<User (id = 2, name = jack, fullname = jack bean, passowrd = jack_password)>]\n",
        "> [<User (id = 2, name = jack, fullname = jack bean, passowrd = jack_password)>]\n",
        "> <User (id = 1, name = ed, fullname = ed jones, passowrd = ed_passwd)>\n",
        "> <User (id = 2, name = jack, fullname = jack bean, passowrd = jack_password)>\n"
       ]
      }
     ],
     "prompt_number": 4
    },
    {
     "cell_type": "markdown",
     "metadata": {},
     "source": [
      "# Using aliases\n",
      "---\n",
      "... to be continued..."
     ]
    },
    {
     "cell_type": "code",
     "collapsed": false,
     "input": [],
     "language": "python",
     "metadata": {},
     "outputs": []
    },
    {
     "cell_type": "markdown",
     "metadata": {},
     "source": [
      "# Deleting\n",
      "---"
     ]
    },
    {
     "cell_type": "code",
     "collapsed": false,
     "input": [
      "print 'before count = {0}'.format( session.query(func.count(User.id)).scalar() )\n",
      "session.query(User).filter(User.name == 'jack').delete()\n",
      "session.expire_all()\n",
      "#session.commit()\n",
      "print 'after count = {0}'.format( session.query(func.count(User.id)).scalar() )"
     ],
     "language": "python",
     "metadata": {},
     "outputs": [
      {
       "output_type": "stream",
       "stream": "stdout",
       "text": [
        "before count = 2\n",
        "after count = 1\n"
       ]
      }
     ],
     "prompt_number": 5
    }
   ],
   "metadata": {}
  }
 ]
}