{
 "metadata": {
  "name": "",
  "signature": "sha256:5c41aeff4f04523bd8c76c59f995b6b6a0762e4da2fde72ead310bb6ed5d2608"
 },
 "nbformat": 3,
 "nbformat_minor": 0,
 "worksheets": [
  {
   "cells": [
    {
     "cell_type": "code",
     "collapsed": false,
     "input": [
      "def foo():\n",
      "    return 1\n",
      "\n",
      "foo()\n"
     ],
     "language": "python",
     "metadata": {},
     "outputs": [
      {
       "metadata": {},
       "output_type": "pyout",
       "prompt_number": 1,
       "text": [
        "1"
       ]
      }
     ],
     "prompt_number": 1
    },
    {
     "cell_type": "code",
     "collapsed": false,
     "input": [
      "def foo(x):\n",
      "    print locals()\n",
      "    \n",
      "foo(1000)"
     ],
     "language": "python",
     "metadata": {},
     "outputs": [
      {
       "output_type": "stream",
       "stream": "stdout",
       "text": [
        "{'x': 1000}\n"
       ]
      }
     ],
     "prompt_number": 8
    },
    {
     "cell_type": "code",
     "collapsed": false,
     "input": [
      "def outter():\n",
      "    x = 1\n",
      "    def inner():\n",
      "        print x\n",
      "    inner()\n",
      "    \n",
      "outter()"
     ],
     "language": "python",
     "metadata": {},
     "outputs": [
      {
       "output_type": "stream",
       "stream": "stdout",
       "text": [
        "1\n"
       ]
      }
     ],
     "prompt_number": 9
    },
    {
     "cell_type": "code",
     "collapsed": false,
     "input": [
      "#issubclass(int, object)\n",
      "def foo():\n",
      "    pass\n",
      "\n",
      "foo.__class__\n",
      "\n",
      "issubclass(foo.__class__, object)"
     ],
     "language": "python",
     "metadata": {},
     "outputs": [
      {
       "metadata": {},
       "output_type": "pyout",
       "prompt_number": 22,
       "text": [
        "True"
       ]
      }
     ],
     "prompt_number": 22
    },
    {
     "cell_type": "code",
     "collapsed": false,
     "input": [
      "def add(a, b):\n",
      "    return a+b\n",
      "\n",
      "def sub(a, b):\n",
      "    return a-b\n",
      "\n",
      "def apply(func, a, b):\n",
      "    return func(a,b)\n",
      "\n",
      "print apply(add, 1, 2)\n",
      "print apply(sub, 2, 1)"
     ],
     "language": "python",
     "metadata": {},
     "outputs": [
      {
       "output_type": "stream",
       "stream": "stdout",
       "text": [
        "3\n",
        "1\n"
       ]
      }
     ],
     "prompt_number": 24
    },
    {
     "cell_type": "code",
     "collapsed": false,
     "input": [
      "def outter():\n",
      "    def inner():\n",
      "        print \"inside inner\"\n",
      "    return inner\n",
      "\n",
      "foo = outter()\n",
      "print foo\n",
      "foo()"
     ],
     "language": "python",
     "metadata": {},
     "outputs": [
      {
       "output_type": "stream",
       "stream": "stdout",
       "text": [
        "<function inner at 0x036EEF30>\n",
        "inside inner\n"
       ]
      }
     ],
     "prompt_number": 28
    },
    {
     "cell_type": "code",
     "collapsed": false,
     "input": [
      "def outer():\n",
      "    x = \"this is x on outer\"\n",
      "    def inner():\n",
      "        print x\n",
      "    return inner\n",
      "\n",
      "foo = outer()\n",
      "foo.func_closure\n",
      "foo()"
     ],
     "language": "python",
     "metadata": {},
     "outputs": [
      {
       "output_type": "stream",
       "stream": "stdout",
       "text": [
        "this is x on outer\n"
       ]
      }
     ],
     "prompt_number": 35
    },
    {
     "cell_type": "code",
     "collapsed": false,
     "input": [
      "def outer(x):\n",
      "    def inner():\n",
      "        print x\n",
      "    return inner\n",
      "\n",
      "foo = outer(1)\n",
      "foo()\n",
      "foo = outer(2)\n",
      "foo()\n"
     ],
     "language": "python",
     "metadata": {},
     "outputs": [
      {
       "output_type": "stream",
       "stream": "stdout",
       "text": [
        "1\n",
        "2\n"
       ]
      }
     ],
     "prompt_number": 37
    },
    {
     "cell_type": "code",
     "collapsed": false,
     "input": [
      "def outer(some_func):\n",
      "    def inner():\n",
      "        print \"before `some_func`\"\n",
      "        ret = some_func()\n",
      "        return ret+1\n",
      "    return inner\n",
      "\n",
      "def some_func():\n",
      "    return 1\n",
      "\n",
      "decorated = outer(some_func)\n",
      "print decorated()\n",
      "print '----------------'\n",
      "\n",
      "x2_decorated = outer(decorated)\n",
      "print x2_decorated()\n"
     ],
     "language": "python",
     "metadata": {},
     "outputs": [
      {
       "output_type": "stream",
       "stream": "stdout",
       "text": [
        "before `some_func`\n",
        "2\n",
        "----------------\n",
        "before `some_func`\n",
        "before `some_func`\n",
        "3\n"
       ]
      }
     ],
     "prompt_number": 43
    },
    {
     "cell_type": "code",
     "collapsed": false,
     "input": [
      "class Coordinate(object):\n",
      "    def __init__(self, x, y):\n",
      "        self.x = x\n",
      "        self.y = y\n",
      "    def __repr__(self):\n",
      "        return \"coord: \" + str(self.__dict__)\n",
      "    \n",
      "def add(a, b):\n",
      "    return Coordinate(a.x + b.x, a.y + b.y)\n",
      "\n",
      "def sub(a, b):\n",
      "    return Coordinate(a.x - b.x, a.y - b.y)\n",
      "\n",
      "one = Coordinate(100, 200)\n",
      "two = Coordinate(300, 200)\n",
      "print add(one, two)\n",
      "print sub(one, two)"
     ],
     "language": "python",
     "metadata": {},
     "outputs": [
      {
       "output_type": "stream",
       "stream": "stdout",
       "text": [
        "coord: {'y': 400, 'x': 400}\n",
        "coord: {'y': 0, 'x': -200}\n"
       ]
      }
     ],
     "prompt_number": 48
    },
    {
     "cell_type": "code",
     "collapsed": false,
     "input": [
      "class Coordinate(object):\n",
      "    def __init__(self, x, y):\n",
      "        self.x = x\n",
      "        self.y = y\n",
      "    def __repr__(self):\n",
      "        return \"coord: \" + str(self.__dict__)\n",
      "    \n",
      "def add(a, b):\n",
      "    return Coordinate(a.x + b.x, a.y + b.y)\n",
      "\n",
      "def sub(a, b):\n",
      "    return Coordinate(a.x - b.x, a.y - b.y)\n",
      "\n",
      "def wrapper(func):\n",
      "    def checker(a, b):\n",
      "        if a.x < 0 or a.y < 0:\n",
      "            a = Coordinate(a.x if a.x > 0 else 0, a.y if a.y > 0 else 0)\n",
      "        if b.x < 0 or b.y < 0:\n",
      "            b = Coordinate(b.x if b.x > 0 else 0, b.y if b.y > 0 else 0)\n",
      "        ret = func(a, b)\n",
      "        if ret.x < 0 or ret.y < 0:\n",
      "            ret = Coordinate(ret.x if ret.x > 0 else 0, ret.y if ret.y > 0 else 0)\n",
      "        return ret\n",
      "    return checker\n",
      "\n",
      "one = Coordinate(100, 200)\n",
      "two = Coordinate(300, 200)\n",
      "\n",
      "add = wrapper(add)\n",
      "sub = wrapper(sub)\n",
      "print add(one, two)\n",
      "print sub(one, two)"
     ],
     "language": "python",
     "metadata": {},
     "outputs": [
      {
       "output_type": "stream",
       "stream": "stdout",
       "text": [
        "coord: {'y': 400, 'x': 400}\n",
        "coord: {'y': 0, 'x': 0}\n"
       ]
      }
     ],
     "prompt_number": 50
    },
    {
     "cell_type": "code",
     "collapsed": false,
     "input": [
      "class Coordinate(object):\n",
      "    def __init__(self, x, y):\n",
      "        self.x = x\n",
      "        self.y = y\n",
      "    def __repr__(self):\n",
      "        return \"coord: \" + str(self.__dict__)\n",
      "    \n",
      "def wrapper(func):\n",
      "    def checker(a, b):\n",
      "        if a.x < 0 or a.y < 0:\n",
      "            a = Coordinate(a.x if a.x > 0 else 0, a.y if a.y > 0 else 0)\n",
      "        if b.x < 0 or b.y < 0:\n",
      "            b = Coordinate(b.x if b.x > 0 else 0, b.y if b.y > 0 else 0)\n",
      "        ret = func(a, b)\n",
      "        if ret.x < 0 or ret.y < 0:\n",
      "            ret = Coordinate(ret.x if ret.x > 0 else 0, ret.y if ret.y > 0 else 0)\n",
      "        return ret\n",
      "    return checker\n",
      "\n",
      "@wrapper\n",
      "def add(a, b):\n",
      "    return Coordinate(a.x + b.x, a.y + b.y)\n",
      "\n",
      "@wrapper\n",
      "def sub(a, b):\n",
      "    return Coordinate(a.x - b.x, a.y - b.y)\n",
      "\n",
      "\n",
      "one = Coordinate(100, 200)\n",
      "two = Coordinate(300, 200)\n",
      "\n",
      "#add = wrapper(add)\n",
      "#sub = wrapper(sub)\n",
      "print add(one, two)\n",
      "print sub(one, two)"
     ],
     "language": "python",
     "metadata": {},
     "outputs": [
      {
       "output_type": "stream",
       "stream": "stdout",
       "text": [
        "coord: {'y': 400, 'x': 400}\n",
        "coord: {'y': 0, 'x': 0}\n"
       ]
      }
     ],
     "prompt_number": 54
    },
    {
     "cell_type": "code",
     "collapsed": false,
     "input": [
      "def logging_arguments(func):\n",
      "    def inner(*args, **kwargs):\n",
      "        print \"arguments were : %s, %s\" % (args, kwargs)\n",
      "        return func(*args, **kwargs)\n",
      "    return inner\n",
      "\n",
      "@logging_arguments\n",
      "def foo1(x, y=2):\n",
      "    return x + y\n",
      "\n",
      "@logging_arguments\n",
      "def foo2():\n",
      "    return 2\n",
      "\n",
      "print foo1(100, 2)\n",
      "print foo2()"
     ],
     "language": "python",
     "metadata": {},
     "outputs": [
      {
       "output_type": "stream",
       "stream": "stdout",
       "text": [
        "arguments were : (100, 2), {}\n",
        "102\n",
        "arguments were : (), {}\n",
        "2\n"
       ]
      }
     ],
     "prompt_number": 58
    },
    {
     "cell_type": "code",
     "collapsed": false,
     "input": [
      "class EntryExit(object):\n",
      "    def __init__(self, some_func):\n",
      "        self.f = some_func\n",
      "        \n",
      "    def __call__(self, *args, **kwargs):\n",
      "        print '>> entering {0} with {1}, {2}'.format(self.f.__name__, *args, **kwargs)\n",
      "        self.f(*args, **kwargs)\n",
      "        print '<< leaving {0}'.format(self.f.__name__)\n",
      "        \n",
      "@EntryExit        \n",
      "def some_func(*args, **kwargs):\n",
      "    print 'inside some_func with {0}, {1}'.format(*args, **kwargs)\n",
      "    \n",
      "some_func(1,2,3, a='1', b='2')"
     ],
     "language": "python",
     "metadata": {},
     "outputs": [
      {
       "output_type": "stream",
       "stream": "stdout",
       "text": [
        ">> entering some_func with 1, 2\n",
        "inside some_func with 1, 2\n",
        "<< leaving some_func\n"
       ]
      }
     ],
     "prompt_number": 1
    }
   ],
   "metadata": {}
  }
 ]
}