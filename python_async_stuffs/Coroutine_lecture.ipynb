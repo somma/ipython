{
 "metadata": {
  "name": "",
  "signature": "sha256:25b562d02a5181e811c2f3af187b6f5d6d2576a1c13080dfc1a822c997737003"
 },
 "nbformat": 3,
 "nbformat_minor": 0,
 "worksheets": [
  {
   "cells": [
    {
     "cell_type": "markdown",
     "metadata": {},
     "source": [
      "# [Part I] Introduction to Generators and Coroutines"
     ]
    },
    {
     "cell_type": "markdown",
     "metadata": {},
     "source": [
      "## generator"
     ]
    },
    {
     "cell_type": "code",
     "collapsed": false,
     "input": [
      "def countdown(n):\n",
      "    print '> counting down from {}'.format(n)\n",
      "    while n > 0:\n",
      "        yield n\n",
      "        n -= 1\n",
      "    print ''\n",
      "    print '< countdown'"
     ],
     "language": "python",
     "metadata": {},
     "outputs": [],
     "prompt_number": 17
    },
    {
     "cell_type": "code",
     "collapsed": false,
     "input": [
      "for n in countdown(10):\n",
      "    print n,"
     ],
     "language": "python",
     "metadata": {},
     "outputs": [
      {
       "output_type": "stream",
       "stream": "stdout",
       "text": [
        "> counting down from 10\n",
        "10 9 8 7 6 5 4 3 2 1 \n",
        "< countdown\n"
       ]
      }
     ],
     "prompt_number": 18
    },
    {
     "cell_type": "markdown",
     "metadata": {},
     "source": [
      "+ `generator` \ud568\uc218\ub97c \ud638\ucd9c\ud558\ub294\uac83\uc740 `generator` \uac1d\uccb4\ub97c \uc0dd\uc131\ud558\ub294\uac83\uc774\uc9c0 \ud568\uc218\ub97c \uc2e4\ud589\ud558\ub294 \uac83\uc774 \uc544\ub2d8\n",
      "+ `generator`.next() \ub97c \ud638\ucd9c\ud558\uba74 \ud568\uc218\uac00 \uc2e4\ud589\ub418\uace0, \n",
      "+ `yield` \ub97c \ud1b5\ud574\uc11c \uac12\uc744 **\uc0dd\uc131**\ud558\uace0, \ud568\uc218\uc758 \uc2e4\ud589\uc744 \uc7a0\uc2dc \uc911\ub2e8\ud558\uace0, \n",
      "+ `.next()` \ud638\ucd9c\uc744 \ud1b5\ud574 \uc2e4\ud589\uc744 \uc7ac\uac1c\ud55c\ub2e4. \n",
      "+ `generator` \uac00 \ub9ac\ud134\ud558\uba74, iteration \uc740 \uba48\ucd98\ub2e4."
     ]
    },
    {
     "cell_type": "code",
     "collapsed": false,
     "input": [
      "# calling generator fucntion creates the generator object not start the function\n",
      "x = countdown(3)\n",
      "print x\n",
      "\n",
      "# call `.next()` starts generator object.\n",
      "print x.next()\n",
      "print x.next()\n",
      "print x.next()\n",
      "print x.next()\n",
      "\n"
     ],
     "language": "python",
     "metadata": {},
     "outputs": [
      {
       "output_type": "stream",
       "stream": "stdout",
       "text": [
        "<generator object countdown at 0x035BD8F0>\n",
        "> counting down from 3\n",
        "3\n",
        "2\n",
        "1\n",
        "\n",
        "< countdown\n"
       ]
      },
      {
       "ename": "StopIteration",
       "evalue": "",
       "output_type": "pyerr",
       "traceback": [
        "\u001b[1;31m---------------------------------------------------------------------------\u001b[0m\n\u001b[1;31mStopIteration\u001b[0m                             Traceback (most recent call last)",
        "\u001b[1;32m<ipython-input-26-b93f85de60e0>\u001b[0m in \u001b[0;36m<module>\u001b[1;34m()\u001b[0m\n\u001b[0;32m      7\u001b[0m \u001b[1;32mprint\u001b[0m \u001b[0mx\u001b[0m\u001b[1;33m.\u001b[0m\u001b[0mnext\u001b[0m\u001b[1;33m(\u001b[0m\u001b[1;33m)\u001b[0m\u001b[1;33m\u001b[0m\u001b[0m\n\u001b[0;32m      8\u001b[0m \u001b[1;32mprint\u001b[0m \u001b[0mx\u001b[0m\u001b[1;33m.\u001b[0m\u001b[0mnext\u001b[0m\u001b[1;33m(\u001b[0m\u001b[1;33m)\u001b[0m\u001b[1;33m\u001b[0m\u001b[0m\n\u001b[1;32m----> 9\u001b[1;33m \u001b[1;32mprint\u001b[0m \u001b[0mx\u001b[0m\u001b[1;33m.\u001b[0m\u001b[0mnext\u001b[0m\u001b[1;33m(\u001b[0m\u001b[1;33m)\u001b[0m\u001b[1;33m\u001b[0m\u001b[0m\n\u001b[0m\u001b[0;32m     10\u001b[0m \u001b[1;33m\u001b[0m\u001b[0m\n",
        "\u001b[1;31mStopIteration\u001b[0m: "
       ]
      }
     ],
     "prompt_number": 26
    },
    {
     "cell_type": "markdown",
     "metadata": {},
     "source": [
      "## tail -f (python version)"
     ]
    },
    {
     "cell_type": "code",
     "collapsed": false,
     "input": [
      "import os\n",
      "print os.getcwd()"
     ],
     "language": "python",
     "metadata": {},
     "outputs": [
      {
       "output_type": "stream",
       "stream": "stdout",
       "text": [
        "d:\\work.python\\ipython_notebook\\python_async_stuffs\n"
       ]
      }
     ],
     "prompt_number": 32
    },
    {
     "cell_type": "code",
     "collapsed": false,
     "input": [
      "\"\"\"\n",
      "generator \uac15\uc758\uc790\ub8cc\uc5d0 run/foo/xxx \ub4f1\uc774 \uc788\ub294\ub370 \uac70\uae30\uc5d0 \uc788\ub294\uac78 \ubcf5\uc0ac\ud574\uc11c \uc2e4\ud589\ud658\uacbd\uc744 \ub9cc\ub4e4\uba74 \ub428\n",
      "\"\"\"\n",
      "# follow.py\n",
      "#\n",
      "# Follow a file like tail -f.\n",
      "\n",
      "import time\n",
      "\n",
      "def follow(thefile):\n",
      "    thefile.seek(0,2)\n",
      "    while True:\n",
      "        line = thefile.readline()\n",
      "        if not line:\n",
      "            time.sleep(0.1)\n",
      "            continue\n",
      "        yield line\n",
      "\n",
      "# Example use\n",
      "# Note : This example requires the use of an apache log simulator.\n",
      "# \n",
      "# Go to the directory run/foo and run the program 'logsim.py' from\n",
      "# that directory.   Run this program as a background process and\n",
      "# leave it running in a separate window.  We'll write program\n",
      "# that read the output file being generated\n",
      "# \n",
      "\n",
      "#logfile = open(\"run/foo/access-log\",\"r\")\n",
      "logfile = open(r'd:\\work.python\\python_async_stuffs\\coroutine_www.dabeaz.com\\run\\foo\\access-log')\n",
      "for line in follow(logfile):\n",
      "    print line,"
     ],
     "language": "python",
     "metadata": {},
     "outputs": [
      {
       "ename": "KeyboardInterrupt",
       "evalue": "",
       "output_type": "pyerr",
       "traceback": [
        "\u001b[1;31m---------------------------------------------------------------------------\u001b[0m\n\u001b[1;31mKeyboardInterrupt\u001b[0m                         Traceback (most recent call last)",
        "\u001b[1;32m<ipython-input-37-857ca5c48920>\u001b[0m in \u001b[0;36m<module>\u001b[1;34m()\u001b[0m\n\u001b[0;32m     28\u001b[0m \u001b[1;31m#logfile = open(\"run/foo/access-log\",\"r\")\u001b[0m\u001b[1;33m\u001b[0m\u001b[1;33m\u001b[0m\u001b[0m\n\u001b[0;32m     29\u001b[0m \u001b[0mlogfile\u001b[0m \u001b[1;33m=\u001b[0m \u001b[0mopen\u001b[0m\u001b[1;33m(\u001b[0m\u001b[1;34mr'd:\\work.python\\python_async_stuffs\\coroutine_www.dabeaz.com\\run\\foo\\access-log'\u001b[0m\u001b[1;33m)\u001b[0m\u001b[1;33m\u001b[0m\u001b[0m\n\u001b[1;32m---> 30\u001b[1;33m \u001b[1;32mfor\u001b[0m \u001b[0mline\u001b[0m \u001b[1;32min\u001b[0m \u001b[0mfollow\u001b[0m\u001b[1;33m(\u001b[0m\u001b[0mlogfile\u001b[0m\u001b[1;33m)\u001b[0m\u001b[1;33m:\u001b[0m\u001b[1;33m\u001b[0m\u001b[0m\n\u001b[0m\u001b[0;32m     31\u001b[0m     \u001b[1;32mprint\u001b[0m \u001b[0mline\u001b[0m\u001b[1;33m,\u001b[0m\u001b[1;33m\u001b[0m\u001b[0m\n",
        "\u001b[1;32m<ipython-input-37-857ca5c48920>\u001b[0m in \u001b[0;36mfollow\u001b[1;34m(thefile)\u001b[0m\n\u001b[0;32m     13\u001b[0m         \u001b[0mline\u001b[0m \u001b[1;33m=\u001b[0m \u001b[0mthefile\u001b[0m\u001b[1;33m.\u001b[0m\u001b[0mreadline\u001b[0m\u001b[1;33m(\u001b[0m\u001b[1;33m)\u001b[0m\u001b[1;33m\u001b[0m\u001b[0m\n\u001b[0;32m     14\u001b[0m         \u001b[1;32mif\u001b[0m \u001b[1;32mnot\u001b[0m \u001b[0mline\u001b[0m\u001b[1;33m:\u001b[0m\u001b[1;33m\u001b[0m\u001b[0m\n\u001b[1;32m---> 15\u001b[1;33m             \u001b[0mtime\u001b[0m\u001b[1;33m.\u001b[0m\u001b[0msleep\u001b[0m\u001b[1;33m(\u001b[0m\u001b[1;36m0.1\u001b[0m\u001b[1;33m)\u001b[0m\u001b[1;33m\u001b[0m\u001b[0m\n\u001b[0m\u001b[0;32m     16\u001b[0m             \u001b[1;32mcontinue\u001b[0m\u001b[1;33m\u001b[0m\u001b[0m\n\u001b[0;32m     17\u001b[0m         \u001b[1;32myield\u001b[0m \u001b[0mline\u001b[0m\u001b[1;33m\u001b[0m\u001b[0m\n",
        "\u001b[1;31mKeyboardInterrupt\u001b[0m: "
       ]
      }
     ],
     "prompt_number": 37
    },
    {
     "cell_type": "markdown",
     "metadata": {},
     "source": [
      "## Coroutine\n",
      "+ yield \ub97c \ud45c\ud604\uc2dd\uc73c\ub85c, \n",
      "+ next() \ub610\ub294 send(None) \uba54\uc18c\ub4dc\ub85c \ud568\uc218\ub97c \uc2dc\uc791\ud558\uace0\n",
      "+ yield \ub97c \ud1b5\ud574 \uac12\uc744 \ub300\uae30\ud558\uace0, send() \uba54\uc18c\ub4dc\ub85c \uac12\uc744 \uc804\ub2ec"
     ]
    },
    {
     "cell_type": "code",
     "collapsed": false,
     "input": [
      "def grep(pattern):\n",
      "    print 'looking for %s' % pattern\n",
      "    while True:\n",
      "        line = (yield)\n",
      "        if pattern in line:\n",
      "            print line,"
     ],
     "language": "python",
     "metadata": {},
     "outputs": [],
     "prompt_number": 40
    },
    {
     "cell_type": "code",
     "collapsed": false,
     "input": [
      "g = grep(\"python\")\n",
      "g.next()   # prime it!\n",
      "g.send(\"hey!!\")\n",
      "g.send(\"welcome to koread\")\n",
      "g.send(\"wow python rocks!\")\n",
      "g.send(\"really?\")"
     ],
     "language": "python",
     "metadata": {},
     "outputs": [
      {
       "output_type": "stream",
       "stream": "stdout",
       "text": [
        "looking for python\n",
        "wow python rocks!\n"
       ]
      }
     ],
     "prompt_number": 47
    },
    {
     "cell_type": "markdown",
     "metadata": {},
     "source": [
      "+ next() \ub294 \uae4c\uba39\uae30 \uc26c\uc6b0\ub2c8\uae4c decorator \ub97c \uc774\uc6a9\ud558\uc790.\n",
      "+ \uc885\ub8cc\uc2dc\uc5d0\ub294 close() \ub97c \ud638\ucd9c\ud558\uc790 (\uac00\ube44\uc9c0 \uceec\ub809\ud130\uac00 \uc54c\uc544\uc11c close() \ub97c \ud638\ucd9c\ud558\uc9c0\ub9cc)\n",
      "+ close() \ub97c \ud638\ucd9c\ud558\uba74 `GeneratorExit` \uc608\uc678\uac00 \ubc1c\uc0dd\ud558\ub2c8\uae4c coroutine \uc5d0\uc11c \uc7a1\uc544\uc900\ub2e4. "
     ]
    },
    {
     "cell_type": "code",
     "collapsed": false,
     "input": [
      "def coroutine(func):\n",
      "    def start_coroutine(*args, **kwargs):\n",
      "        crtn = func(*args, **kwargs);\n",
      "        crtn.next()\n",
      "        return crtn\n",
      "    return start_coroutine"
     ],
     "language": "python",
     "metadata": {},
     "outputs": [],
     "prompt_number": 55
    },
    {
     "cell_type": "code",
     "collapsed": false,
     "input": [
      "@coroutine\n",
      "def grep(pattern):\n",
      "    print '[*] looking for %s' % pattern\n",
      "    try:\n",
      "        while True:\n",
      "            line = (yield)\n",
      "            if pattern in line:\n",
      "                print line,\n",
      "    except GeneratorExit as e:\n",
      "        print '\\n[*] Going away, bye (gc or U called close())'\n",
      "    "
     ],
     "language": "python",
     "metadata": {},
     "outputs": [],
     "prompt_number": 77
    },
    {
     "cell_type": "code",
     "collapsed": false,
     "input": [
      "g = grep('python')\n",
      "#g.next()   # no need to call next()\n",
      "g.send(\"hey!!\")\n",
      "g.send(\"welcome to koread\")\n",
      "g.send(\"wow python rocks!\")\n",
      "g.close()"
     ],
     "language": "python",
     "metadata": {},
     "outputs": [
      {
       "output_type": "stream",
       "stream": "stdout",
       "text": [
        "[*] looking for python\n",
        "wow python rocks! \n",
        "[*] Going away, bye (gc or U called close())\n"
       ]
      }
     ],
     "prompt_number": 79
    },
    {
     "cell_type": "markdown",
     "metadata": {},
     "source": [
      "## \uc608\uc678 \ub358\uc9c0\uae30"
     ]
    },
    {
     "cell_type": "code",
     "collapsed": false,
     "input": [
      "g = grep('python')\n",
      "g.send('wow! python is rock!')\n",
      "g.send('wow! python is rock!')\n",
      "g.send('wow! python is rock!')\n",
      "g.throw(RuntimeError, \"exception thrown\")"
     ],
     "language": "python",
     "metadata": {},
     "outputs": [
      {
       "output_type": "stream",
       "stream": "stdout",
       "text": [
        "[*] looking for python\n",
        "\n",
        "[*] Going away, bye (gc or U called close())\n",
        "wow! python is rock! wow! python is rock! wow! python is rock!"
       ]
      },
      {
       "ename": "RuntimeError",
       "evalue": "exception thrown",
       "output_type": "pyerr",
       "traceback": [
        "\u001b[1;31m---------------------------------------------------------------------------\u001b[0m\n\u001b[1;31mRuntimeError\u001b[0m                              Traceback (most recent call last)",
        "\u001b[1;32m<ipython-input-83-573c8937e6d6>\u001b[0m in \u001b[0;36m<module>\u001b[1;34m()\u001b[0m\n\u001b[0;32m      3\u001b[0m \u001b[0mg\u001b[0m\u001b[1;33m.\u001b[0m\u001b[0msend\u001b[0m\u001b[1;33m(\u001b[0m\u001b[1;34m'wow! python is rock!'\u001b[0m\u001b[1;33m)\u001b[0m\u001b[1;33m\u001b[0m\u001b[0m\n\u001b[0;32m      4\u001b[0m \u001b[0mg\u001b[0m\u001b[1;33m.\u001b[0m\u001b[0msend\u001b[0m\u001b[1;33m(\u001b[0m\u001b[1;34m'wow! python is rock!'\u001b[0m\u001b[1;33m)\u001b[0m\u001b[1;33m\u001b[0m\u001b[0m\n\u001b[1;32m----> 5\u001b[1;33m \u001b[0mg\u001b[0m\u001b[1;33m.\u001b[0m\u001b[0mthrow\u001b[0m\u001b[1;33m(\u001b[0m\u001b[0mRuntimeError\u001b[0m\u001b[1;33m,\u001b[0m \u001b[1;34m\"exception thrown\"\u001b[0m\u001b[1;33m)\u001b[0m\u001b[1;33m\u001b[0m\u001b[0m\n\u001b[0m",
        "\u001b[1;32m<ipython-input-77-849e2bda9321>\u001b[0m in \u001b[0;36mgrep\u001b[1;34m(pattern)\u001b[0m\n\u001b[0;32m      4\u001b[0m     \u001b[1;32mtry\u001b[0m\u001b[1;33m:\u001b[0m\u001b[1;33m\u001b[0m\u001b[0m\n\u001b[0;32m      5\u001b[0m         \u001b[1;32mwhile\u001b[0m \u001b[0mTrue\u001b[0m\u001b[1;33m:\u001b[0m\u001b[1;33m\u001b[0m\u001b[0m\n\u001b[1;32m----> 6\u001b[1;33m             \u001b[0mline\u001b[0m \u001b[1;33m=\u001b[0m \u001b[1;33m(\u001b[0m\u001b[1;32myield\u001b[0m\u001b[1;33m)\u001b[0m\u001b[1;33m\u001b[0m\u001b[0m\n\u001b[0m\u001b[0;32m      7\u001b[0m             \u001b[1;32mif\u001b[0m \u001b[0mpattern\u001b[0m \u001b[1;32min\u001b[0m \u001b[0mline\u001b[0m\u001b[1;33m:\u001b[0m\u001b[1;33m\u001b[0m\u001b[0m\n\u001b[0;32m      8\u001b[0m                 \u001b[1;32mprint\u001b[0m \u001b[0mline\u001b[0m\u001b[1;33m,\u001b[0m\u001b[1;33m\u001b[0m\u001b[0m\n",
        "\u001b[1;31mRuntimeError\u001b[0m: exception thrown"
       ]
      }
     ],
     "prompt_number": 83
    },
    {
     "cell_type": "markdown",
     "metadata": {},
     "source": [
      "## bogus sample"
     ]
    },
    {
     "cell_type": "code",
     "collapsed": false,
     "input": [
      "# bogus.py\n",
      "#\n",
      "# Bogus example of a generator that produces and receives values\n",
      "\n",
      "def countdown(n):\n",
      "    print \"Counting down from\", n\n",
      "    while n >= 0:\n",
      "        newvalue = (yield n)\n",
      "        # If a new value got sent in, reset n with it\n",
      "        if newvalue is not None:\n",
      "            n = newvalue\n",
      "        else:\n",
      "            n -= 1\n",
      "\n",
      "# The holy grail countdown\n",
      "c = countdown(5)\n",
      "for x in c:\n",
      "    print x\n",
      "    if x == 5:\n",
      "        c.send(3)"
     ],
     "language": "python",
     "metadata": {},
     "outputs": [
      {
       "output_type": "stream",
       "stream": "stdout",
       "text": [
        "Counting down from 5\n",
        "5\n",
        "2\n",
        "1\n",
        "0\n"
       ]
      }
     ],
     "prompt_number": 85
    },
    {
     "cell_type": "markdown",
     "metadata": {},
     "source": [
      "## \uc815\ub9ac\n",
      "+ **generator \ub294 iteration \uc744 \uc704\ud574 \ub370\uc774\ud130\ub97c \uc0dd\uc131\ud55c\ub2e4.   (producer)**\n",
      "+ **coroutine \uc740 \ub370\uc774\ud130\uc758 \uc0ac\uc6a9\uc790\uc774\ub2e4. (consumer)**\n",
      "+ **coroutine \uc740 iteration \uacfc \uc544\ubb34 \uc0c1\uad00\uc5c6\ub2e4. **"
     ]
    },
    {
     "cell_type": "markdown",
     "metadata": {},
     "source": [
      "---\n",
      "# [Part II] Coroutines, Pipelines, and Dataflow"
     ]
    },
    {
     "cell_type": "code",
     "collapsed": false,
     "input": [
      "print 'helllo'"
     ],
     "language": "python",
     "metadata": {},
     "outputs": [
      {
       "output_type": "stream",
       "stream": "stdout",
       "text": [
        "helllo\n"
       ]
      }
     ],
     "prompt_number": 86
    }
   ],
   "metadata": {}
  }
 ]
}