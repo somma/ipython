{
 "metadata": {
  "name": "",
  "signature": "sha256:048f12e21425a4f94a89fa7ea6efb5d229bb7e48418ed435c8e978e77bb41f10"
 },
 "nbformat": 3,
 "nbformat_minor": 0,
 "worksheets": [
  {
   "cells": [
    {
     "cell_type": "markdown",
     "metadata": {},
     "source": [
      "#1. [tornado > user's guide > Asynchronous and non-Blocking I/O](http://tornado.readthedocs.org/en/latest/guide/async.html)\n",
      "---"
     ]
    },
    {
     "cell_type": "markdown",
     "metadata": {},
     "source": [
      "# Asynchronous and non-Blocking I/O\n",
      "\n",
      "## Asynchronous\n",
      "asynchronous function \uc740 \uc885\ub8cc\ub418\uae30 \uc804\uc5d0 \ub9ac\ud134\ud558\uace0, \uc2e4\uc81c \uc791\uc5c5\uc740 \ubc31\uadf8\ub77c\uc6b4\ub4dc\uc5d0\uc11c \ucc98\ub9ac\ud55c\ub2e4. \uba87 \uac00\uc9c0 asynchronous interface \uc2a4\ud0c0\uc77c\uc774 \uc788\ub294\ub370:\n",
      "\n",
      "+ Callback argument\n",
      "+ Return a placeholder (Future, Promise, Deferred)\n",
      "+ Deliver to a queue\n",
      "+ Callback registry (e.g. POSIX signals)\n",
      "\n",
      "\uc5b4\ub5a4 interface \ub97c \uc0ac\uc6a9\ud558\ub4e0 \uc0c1\uad00\uc5c6\uc774, asynchronous function \uc758 \uc815\uc758\ub294 `caller` \uc640 \uc0c1\ud638\uc791\uc6a9\ud558\ubbc0\ub85c, synchronous function \uc744 \uc0ac\uc6a9\ud560\ub54c\uc640\ub294 \ub2e4\ub97c \uc218 \ubc16\uc5d0 \uc5c6\ub2e4. "
     ]
    },
    {
     "cell_type": "markdown",
     "metadata": {},
     "source": [
      "## examples"
     ]
    },
    {
     "cell_type": "markdown",
     "metadata": {},
     "source": [
      "+ synchronous http client"
     ]
    },
    {
     "cell_type": "code",
     "collapsed": false,
     "input": [
      "from tornado.httpclient import HTTPClient\n",
      "\n",
      "def synchronous_fetch(url):\n",
      "    http_client = HTTPClient()\n",
      "    response = http_client.fetch(url)\n",
      "    return response.body    "
     ],
     "language": "python",
     "metadata": {},
     "outputs": [],
     "prompt_number": 3
    },
    {
     "cell_type": "markdown",
     "metadata": {},
     "source": [
      "+ asynchronous http client `callback` \ubc84\uc804"
     ]
    },
    {
     "cell_type": "code",
     "collapsed": false,
     "input": [
      "from tornado.httpclient import AsyncHTTPClient\n",
      "\n",
      "def asynchronous_fetch(url, callback):\n",
      "    http_client = AsyncHTTPClient()\n",
      "    def handle_response(response):\n",
      "        callback(response.body)\n",
      "    http_client.fetch(url, callback=handle_response)\n"
     ],
     "language": "python",
     "metadata": {},
     "outputs": [],
     "prompt_number": 4
    },
    {
     "cell_type": "markdown",
     "metadata": {},
     "source": [
      "+ `callback` \ub300\uc2e0 `Future` \ub97c \uc774\uc6a9\ud55c asynchronous http client \ubc84\uc804"
     ]
    },
    {
     "cell_type": "code",
     "collapsed": false,
     "input": [
      "from tornado.concurrent import Future\n",
      "\n",
      "def async_fetch_future(url):\n",
      "    http_client = AsyncHTTPClient()\n",
      "    my_future = Future()\n",
      "    fetch_future = http_client.fetch(url)\n",
      "    fetch_future.add_done_callback(lambda f: my_future.set_result(f.result()))\n",
      "    return my_future"
     ],
     "language": "python",
     "metadata": {},
     "outputs": [],
     "prompt_number": 5
    },
    {
     "cell_type": "markdown",
     "metadata": {},
     "source": [
      "`Future` \ubc84\uc804\uc774 \ubcf5\uc7a1\ud574\ubcf4\uae30\uae34 \ud558\uc9c0\ub9cc \uad8c\uc7a5\ub418\ub294 \ubc29\uc2dd\uc774\uba70 \ub450 \uac00\uc9c0 \ud070 \uc7a5\uc810\uc774 \uc788\ub2e4. \n",
      "\uc5d0\ub7ec\ucc98\ub9ac\uac00 \uc77c\uad00\uc801\uc778\ub2e4. `Future.result` \uba54\uc18c\ub4dc\ub294 \uac04\ub2e8\ud558\uac8c exception \uc744 raise \ud560 \uc218 \uc788\uace0, `Future` \ub294 `coroutine` \uc5d0\uc11c \uc0ac\uc6a9\ud560 \uc218 \uc788\ub3c4\ub85d \uc790\uc2e0\uc744 \uc804\ub2ec \ud560 \uc218 \uc788\ub2e4. "
     ]
    },
    {
     "cell_type": "code",
     "collapsed": false,
     "input": [
      "from tornado import gen\n",
      "\n",
      "@gen.coroutine\n",
      "def fetch_coroutine(url):\n",
      "    http_client = AsyncHTTPClient()\n",
      "    response = yield http_client.fetch(url)\n",
      "    raise gen.Return(response.body)"
     ],
     "language": "python",
     "metadata": {},
     "outputs": [],
     "prompt_number": 6
    },
    {
     "cell_type": "markdown",
     "metadata": {},
     "source": [
      "`raise gen.Return()` \ucf54\ub4dc\ub294 python 2.x \uc5d0\uc11c\ub294 generator \uac00 \uac12\uc744 \ub9ac\ud134\ud560 \uc218 \uc5c6\uae30\ub54c\ubb38\uc5d0 \uc0ac\uc6a9\ud55c \ucf54\ub4dc\ub85c, tornado \ub294 \uc774 \ubb38\uc81c\ub97c \ud574\uacb0\ud558\uae30 \uc704\ud574\uc11c `Return` \uc774\ub77c\ub294 \ud2b9\ubcc4\ud55c \uc608\uc678\ub97c \ubc1c\uc0dd\uc2dc\ud0a4\uace0, coroutine \uc5d0\uc11c\ub294 \uc774 \uc608\uc678\ub97c \uc7a1\uc544\uc11c \ub9ac\ud134\uac12\uc73c\ub85c \uac04\uc8fc\ud55c\ub2e4. \n",
      "python 3.x \uc5d0\uc11c\ub294 `return response.body` \ub97c \uc0ac\uc6a9\ud574\ub3c4 \ub41c\ub2e4. "
     ]
    },
    {
     "cell_type": "markdown",
     "metadata": {},
     "source": [
      "# Coroutines"
     ]
    },
    {
     "cell_type": "code",
     "collapsed": false,
     "input": [
      "from tornado import gen\n",
      "\n",
      "@gen.coroutine\n",
      "def fetch_coroutine(url):\n",
      "    http_client = AsyncHTTPClient()\n",
      "    response = yield http_client.fetch(url)\n",
      "    # In Python versions prior to 3.3, returning a value from\n",
      "    # a generator is not allowed and you must use\n",
      "    #   raise gen.Return(response.body)\n",
      "    # instead.\n",
      "    #return response.body\n",
      "    raise gen.Return(response.body)"
     ],
     "language": "python",
     "metadata": {},
     "outputs": [],
     "prompt_number": 13
    },
    {
     "cell_type": "markdown",
     "metadata": {},
     "source": [
      "## How it works"
     ]
    },
    {
     "cell_type": "markdown",
     "metadata": {},
     "source": [
      "`yield` \ub97c \ud3ec\ud568\ud55c \ud568\uc218\ub294 **generator** \uc774\uace0, \ubaa8\ub4e0 generator \ub294 asynchronous \ud558\ub2e4 ; \uc598\ub4e4\uc740 \ud638\ucd9c\ub418\uba74 \ud568\uc218\ub97c \ub05d\uae4c\uc9c0 \uc2e4\ud589\ud558\ub294\uac8c \uc544\ub2c8\ub77c generator \uac1d\uccb4\ub97c \ub9ac\ud134\ud55c\ub2e4. \n",
      "\n",
      "`tornado.gen.coroutine` \ub370\ucf54\ub808\uc774\ud130\ub294 \n",
      "+ `yield` \ub97c \ud1b5\ud574\uc11c generator \uc640 \ud1b5\uc2e0\uc744 \ud558\uace0, \n",
      "+ `Future` \ub97c \ub9ac\ud134\ud568\uc73c\ub85c\uc368 coroutine \uc758 caller \uc640 \ud1b5\uc2e0\ud55c\ub2e4. "
     ]
    },
    {
     "cell_type": "code",
     "collapsed": false,
     "input": [
      "# Simplified inner loop of tornado.gen.Runner\n",
      "def run(self):\n",
      "    # send(x) makes the current yield return x.\n",
      "    # It returns when the next yield is reached\n",
      "    future = self.gen.send(self.next)\n",
      "    def callback(f):\n",
      "        self.next = f.result()\n",
      "        self.run()\n",
      "    future.add_done_callback(callback)"
     ],
     "language": "python",
     "metadata": {},
     "outputs": [],
     "prompt_number": 15
    },
    {
     "cell_type": "markdown",
     "metadata": {},
     "source": [
      "\ub370\ucf54\ub808\uc774\ud130\ub294 generator \ub85c\ubd80\ud130 Future \ub97c \ubc1b\uace0, (\ube44\ub3d9\uae30\ub85c) Future \uac00 \uc644\ub8cc\ub418\uae38 \uae30\ub2e4\ub9b0\ub2e4. \uadf8\ub9ac\uace0\ub294 Future \ub97c **unwrap** \ud558\uace0, result \ub97c yield expression \uc758 \uacb0\uacfc\uac12\uc73c\ub85c\uc11c generator \uc5d0\uac8c \ub2e4\uc2dc \ubcf4\ub0b8\ub2e4. asynchronous function \uc5d0 \uc758\ud574\uc11c \ub9ac\ud134\ub41c Future \ub97c yield expression \uc5d0 \uc989\uc2dc \ud328\uc2a4\ud558\ub294 \uacbd\uc6b0\ub97c \uc81c\uc678\ud558\uace0\ub294, \ub300\ubd80\ubd84\uc758 asynchronous \ucf54\ub4dc\ub294 Future class \ub97c \uc9c1\uc811 \uac74\ub4dc\ub9b4 \uc77c\uc774 \uc5c6\ub2e4. \n",
      ">The decorator receives a Future from the generator, waits (without blocking) for that Future to complete, then \u201cunwraps\u201d the Future and sends the result back into the generator as the result of the yield expression. Most asynchronous code never touches the Future class directly except to immediately pass the Future returned by an asynchronous function to a yield expression.\n"
     ]
    },
    {
     "cell_type": "markdown",
     "metadata": {},
     "source": [
      "# Coroutine patterns"
     ]
    },
    {
     "cell_type": "markdown",
     "metadata": {},
     "source": [
      "## Interaction with callbacks\n",
      "Future \ub300\uc2e0 callback \uc744 \uc0ac\uc6a9\ud558\ub294 asynchronous code \ub97c \ucc98\ub9ac\ud558\ub824\uba74, Task \ub97c \ud1b5\ud574\uc11c \ud638\ucd9c\uc744 \uac10\uc2fc\ub2e4. \uc774\ub294 callback argument \ub97c \ucd94\uac00\ud558\uace0, yield \ud560 \uc218 \uc788\ub294 Future \ub97c \ub9ac\ud134\ud55c\ub2e4. \n",
      ">To interact with asynchronous code that uses callbacks instead of Future, wrap the call in a Task. This will add the callback argument for you and return a Future which you can yield:"
     ]
    },
    {
     "cell_type": "code",
     "collapsed": false,
     "input": [
      "from tornado import gen\n",
      "\n",
      "@gen.coroutine\n",
      "def call_task():\n",
      "    # Note that there are no parens on some_function.\n",
      "    # This will be translated by Task into\n",
      "    #   some_function(other_args, callback=callback)\n",
      "    yield gen.Task(some_function, other_args)"
     ],
     "language": "python",
     "metadata": {},
     "outputs": [],
     "prompt_number": 5
    },
    {
     "cell_type": "markdown",
     "metadata": {},
     "source": [
      "## Calling blocking function\n",
      "coroutine \uc5d0\uc11c blocking function \uc744 \ud638\ucd9c\ud558\ub294 \uac00\uc7a5 \uac04\ub2e8\ud55c \ubc29\ubc95\uc740 [**ThreadPoolExecutor**](http://python.readthedocs.org/en/latest/library/concurrent.futures.html#concurrent.futures.ThreadPoolExecutor) \ub97c \uc0ac\uc6a9\ud558\ub294 \uac83\uc774\ub2e4. \uc774\ub294 coroutine \uacfc \ud638\ud658\ub418\ub294 Future \ub97c \ub9ac\ud134\ud55c\ub2e4. \n",
      "> The simplest way to call a blocking function from a coroutine is to use a ThreadPoolExecutor, which returns Futures that are compatible with coroutines:"
     ]
    },
    {
     "cell_type": "code",
     "collapsed": false,
     "input": [
      "from concurrent.futures import ThreadPoolExecutor\n",
      "\n",
      "thread_pool = ThreadPoolExecutor(4)\n",
      "\n",
      "@gen.coroutine\n",
      "def call_blocking():\n",
      "    yield thread_pool.submit(blocking_func, args)"
     ],
     "language": "python",
     "metadata": {},
     "outputs": [],
     "prompt_number": 15
    },
    {
     "cell_type": "markdown",
     "metadata": {},
     "source": [
      "## Parallelism\n",
      "coroutine decorator \ub294 Future \ub4e4\ub85c \uad6c\uc131\ub41c list \uc640 dict \ub97c \uc778\uc9c0\ud558\uace0, \ubaa8\ub4e0 Future \ub4e4\uc744 \ubcd1\ub82c\ub85c \uae30\ub2e4\ub9b0\ub2e4. \n",
      ">The coroutine decorator recognizes lists and dicts whose values are Futures, and waits for all of those Futures in parallel:"
     ]
    },
    {
     "cell_type": "code",
     "collapsed": false,
     "input": [
      "@gen.coroutine\n",
      "def parallel_fetch(url1, url2):\n",
      "    resp1, resp2 = yield [http_client.fetch(url1), http_client.fetch(url2)]\n",
      "\n",
      "@gen.coroutine\n",
      "def parallel_fetch_many(urls):\n",
      "    responses = yield [http_client.fetch(url) for url in urls]\n",
      "    # responses is a list of HTTPResponses in the same order\n",
      "\n",
      "@gen.coroutine\n",
      "def parallel_fetch_dict(urls):\n",
      "    responses = yield {url: http_client.fetch(url) for url in urls}\n",
      "    # responses is a dict {url: HTTPResponse}"
     ],
     "language": "python",
     "metadata": {},
     "outputs": [],
     "prompt_number": 9
    },
    {
     "cell_type": "markdown",
     "metadata": {},
     "source": [
      "## Interleaving (\ub091\uaca8\ub123\uae30!)\n",
      "\ub54c\ub85c\ub294 Future \ub97c \uc989\uc2dc yield \ud558\ub294\uac83 \ubcf4\ub2e4 \uc800\uc7a5\ud574\ub450\ub294 \uac83\uc774 \uc88b\uc744\ub54c\ub3c4 \uc788\ub294\ub370, \uadf8\ub807\uac8c \ud558\uba74 \uae30\ub2e4\ub9ac\uae30 \uc804\uc5d0 \ub2e4\ub978 \uc624\ud37c\ub808\uc774\uc158\uc744 \uc2dc\uc791\ud560 \uc218 \uc788\uae30\ub54c\ubb38\uc774\ub2e4. \n",
      ">Sometimes it is useful to save a Future instead of yielding it immediately, so you can start another operation before waiting:"
     ]
    },
    {
     "cell_type": "code",
     "collapsed": false,
     "input": [
      "@gen.coroutine\n",
      "def get(self):\n",
      "    fetch_future = self.fetch_next_chunk()\n",
      "    while True:\n",
      "        chunk = yield fetch_future\n",
      "        if chunk is None: break\n",
      "        self.write(chunk)\n",
      "        fetch_future = self.fetch_next_chunk()\n",
      "        yield self.flush()"
     ],
     "language": "python",
     "metadata": {},
     "outputs": [],
     "prompt_number": 11
    },
    {
     "cell_type": "markdown",
     "metadata": {},
     "source": [
      "# Looping\n",
      "Looping \uc740 coroutine \uc5d0\uac8c \uc788\uc5b4\uc11c \uae4c\ub2e4\ub85c\uc6b4 \ubb38\uc81c\ub2e4. \uc65c\ub0d0\ud558\uba74 \ubaa8\ub4e0 for \ub610\ub294 while \ub8e8\ud504\uc758 \ubaa8\ub4e0 iteration \uc5d0\uc11c yield \ub97c \ud560 \uc218 \uc788\ub294 \ubc29\ubc95\uacfc, yield \uc758 result \ub97c \ucea1\uccd0\ud560 \uc218 \uc788\ub294 \ubc29\ubc95\uc774 \uc5c6\uae30\ub54c\ubb38\uc774\ub2e4. \ub300\uc2e0\uc5d0 Motor \uc758 \uc608\uc81c\uc5d0\uc11c \ucc98\ub7fc result \uc5d0 \uc811\uadfc\ud558\ub294 \uac83\uacfc loop \uc870\uac74\uc744 \ubd84\ud560 \ud560 \ud544\uc694\uac00 \uc788\ub2e4. \n",
      ">Looping is tricky with coroutines since there is no way in Python to yield on every iteration of a for or while loop and capture the result of the yield. Instead, you\u2019ll need to separate the loop condition from accessing the results, as in this example from Motor:"
     ]
    },
    {
     "cell_type": "code",
     "collapsed": false,
     "input": [
      "import motor\n",
      "db = motor.MotorClient().test\n",
      "\n",
      "@gen.coroutine\n",
      "def loop_example(collection):\n",
      "    cursor = db.collection.find()\n",
      "    while (yield cursor.fetch_next):\n",
      "        doc = cursor.next_object()"
     ],
     "language": "python",
     "metadata": {},
     "outputs": [
      {
       "ename": "ImportError",
       "evalue": "No module named motor",
       "output_type": "pyerr",
       "traceback": [
        "\u001b[1;31m---------------------------------------------------------------------------\u001b[0m\n\u001b[1;31mImportError\u001b[0m                               Traceback (most recent call last)",
        "\u001b[1;32m<ipython-input-13-d0b0abd6daf9>\u001b[0m in \u001b[0;36m<module>\u001b[1;34m()\u001b[0m\n\u001b[1;32m----> 1\u001b[1;33m \u001b[1;32mimport\u001b[0m \u001b[0mmotor\u001b[0m\u001b[1;33m\u001b[0m\u001b[0m\n\u001b[0m\u001b[0;32m      2\u001b[0m \u001b[0mdb\u001b[0m \u001b[1;33m=\u001b[0m \u001b[0mmotor\u001b[0m\u001b[1;33m.\u001b[0m\u001b[0mMotorClient\u001b[0m\u001b[1;33m(\u001b[0m\u001b[1;33m)\u001b[0m\u001b[1;33m.\u001b[0m\u001b[0mtest\u001b[0m\u001b[1;33m\u001b[0m\u001b[0m\n\u001b[0;32m      3\u001b[0m \u001b[1;33m\u001b[0m\u001b[0m\n\u001b[0;32m      4\u001b[0m \u001b[1;33m@\u001b[0m\u001b[0mgen\u001b[0m\u001b[1;33m.\u001b[0m\u001b[0mcoroutine\u001b[0m\u001b[1;33m\u001b[0m\u001b[0m\n\u001b[0;32m      5\u001b[0m \u001b[1;32mdef\u001b[0m \u001b[0mloop_example\u001b[0m\u001b[1;33m(\u001b[0m\u001b[0mcollection\u001b[0m\u001b[1;33m)\u001b[0m\u001b[1;33m:\u001b[0m\u001b[1;33m\u001b[0m\u001b[0m\n",
        "\u001b[1;31mImportError\u001b[0m: No module named motor"
       ]
      }
     ],
     "prompt_number": 13
    },
    {
     "cell_type": "markdown",
     "metadata": {},
     "source": [
      "#2. [tornado > Coroutines and concurrency](http://www.tornadoweb.org/en/stable/coroutine.html)\n",
      "---"
     ]
    },
    {
     "cell_type": "code",
     "collapsed": false,
     "input": [],
     "language": "python",
     "metadata": {},
     "outputs": []
    }
   ],
   "metadata": {}
  }
 ]
}